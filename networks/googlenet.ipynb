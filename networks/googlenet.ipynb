{
 "cells": [
  {
   "cell_type": "markdown",
   "id": "fd3b04db-ab74-4df4-8726-06a9fc00dc89",
   "metadata": {},
   "source": [
    "# GoogLeNet"
   ]
  },
  {
   "cell_type": "markdown",
   "id": "33b34e6f-d1b4-45b9-b87f-c191d942482f",
   "metadata": {},
   "source": [
    "## Load Dependent Packages"
   ]
  },
  {
   "cell_type": "code",
   "execution_count": 1,
   "id": "e9c842b8-9eef-4079-94c3-c024f79f7288",
   "metadata": {},
   "outputs": [],
   "source": [
    "import torch\n",
    "import torchvision"
   ]
  },
  {
   "cell_type": "markdown",
   "id": "33c22da1-eaac-463c-9b66-5f78bb28bd4f",
   "metadata": {},
   "source": [
    "## Device Configuration: CPU or GPU"
   ]
  },
  {
   "cell_type": "code",
   "execution_count": 2,
   "id": "fbe92db5-aeb0-4b80-8a40-59513206e5b9",
   "metadata": {},
   "outputs": [],
   "source": [
    "device = torch.device('cuda' if torch.cuda.is_available() else 'cpu')"
   ]
  },
  {
   "cell_type": "markdown",
   "id": "0a3a7d6a-a40e-4cfb-a887-170f83a44266",
   "metadata": {},
   "source": [
    "## Select Hyper Parameters"
   ]
  },
  {
   "cell_type": "code",
   "execution_count": 3,
   "id": "1bdaf8f5-0844-4d1e-a100-e8ed4b1997cd",
   "metadata": {},
   "outputs": [],
   "source": [
    "num_epochs = 40\n",
    "batch_size = 100\n",
    "num_classes = 10\n",
    "learning_rate = 0.0006"
   ]
  },
  {
   "cell_type": "markdown",
   "id": "41a78ae5-ffb1-4b13-a3a2-101df7b6d1aa",
   "metadata": {},
   "source": [
    "## Transform Configuration and Data Augmentation."
   ]
  },
  {
   "cell_type": "code",
   "execution_count": 4,
   "id": "ff790eb8-2cad-463a-855a-f58b8a8477d8",
   "metadata": {},
   "outputs": [],
   "source": [
    "transform_train = torchvision.transforms.Compose([torchvision.transforms.Pad(4),\n",
    "                                                  torchvision.transforms.RandomHorizontalFlip(),\n",
    "                                                  torchvision.transforms.RandomCrop(32),\n",
    "                                                 torchvision.transforms.ToTensor(),\n",
    "                                                 torchvision.transforms.Normalize([0.5, 0.5, 0.5], [0.5, 0.5, 0.5])])\n",
    "transform_test = torchvision.transforms.Compose([torchvision.transforms.ToTensor(),\n",
    "                                                torchvision.transforms.Normalize([0.5, 0.5, 0.5], [0.5, 0.5, 0.5])])"
   ]
  },
  {
   "cell_type": "markdown",
   "id": "97b02c4a-ce45-45f1-8693-20cedf9663a5",
   "metadata": {},
   "source": [
    "## Load Downloaded Dataset"
   ]
  },
  {
   "cell_type": "code",
   "execution_count": 5,
   "id": "96ce034b-07f5-4da5-b81e-64ab37852e2b",
   "metadata": {},
   "outputs": [],
   "source": [
    "train_dataset = torchvision.datasets.CIFAR10('../data/CIFAR10/', download=False, train=True, transform=transform_train)\n",
    "test_dataset = torchvision.datasets.CIFAR10('../data/CIFAR10/', download=False, train=False, transform=transform_test)"
   ]
  },
  {
   "cell_type": "markdown",
   "id": "c9f37d3c-9d32-436b-8326-7b2691276ed7",
   "metadata": {},
   "source": [
    "## Set Data Loader (Input Pipeline)"
   ]
  },
  {
   "cell_type": "code",
   "execution_count": 6,
   "id": "917a48d7-82f4-4b0d-bb80-843bf564d134",
   "metadata": {},
   "outputs": [],
   "source": [
    "train_loader = torch.utils.data.DataLoader(dataset=train_dataset, batch_size=batch_size, shuffle=True)\n",
    "test_loader = torch.utils.data.DataLoader(dataset=test_dataset, batch_size=batch_size, shuffle=False)"
   ]
  },
  {
   "cell_type": "markdown",
   "id": "37c07dea-61fc-4f51-9508-dffb74228c3e",
   "metadata": {},
   "source": [
    "*arg 和 **kwargs：https://zhuanlan.zhihu.com/p/50804195"
   ]
  },
  {
   "cell_type": "markdown",
   "id": "3e51d0ab-3aad-4f75-8cfd-845ba798181e",
   "metadata": {},
   "source": [
    "## Define BasicConv2d Class"
   ]
  },
  {
   "cell_type": "code",
   "execution_count": 7,
   "id": "36eaebbb-0661-40e0-826d-29b90d790345",
   "metadata": {},
   "outputs": [],
   "source": [
    "class BasicConv2d(torch.nn.Module):\n",
    "    def __init__(self, in_channels, out_channels, **kwargs):\n",
    "        super(BasicConv2d, self).__init__()\n",
    "        self.conv = torch.nn.Conv2d(in_channels, out_channels, **kwargs)\n",
    "        self.batchnorm = torch.nn.BatchNorm2d(out_channels)\n",
    "        self.relu = torch.nn.ReLU(inplace=True)\n",
    "    \n",
    "    def forward(self, x):\n",
    "        x = self.conv(x)\n",
    "        x = self.batchnorm(x)\n",
    "        x = self.relu(x)\n",
    "        return x"
   ]
  },
  {
   "cell_type": "markdown",
   "id": "37585483-12e8-49c6-b9eb-d659b457465a",
   "metadata": {},
   "source": [
    "## Define InceptionAux Class"
   ]
  },
  {
   "cell_type": "code",
   "execution_count": 7,
   "id": "95d39580-44b4-4725-82bf-a4690b753bed",
   "metadata": {},
   "outputs": [],
   "source": [
    "class InceptionAux(torch.nn.Module):\n",
    "    def __init__(self, in_channels, num_classes):\n",
    "        super(InceptionAux, self).__init__()\n",
    "        self.avgpool = torch.nn.AvgPool2d(kernel_size=2, stride=2)\n",
    "        self.conv = BasicConv2d(in_channels, 128, kernel_size=1)\n",
    "        self.fc1 = torch.nn.Sequential(torch.nn.Linear(2 * 2 * 128, 256))\n",
    "        self.fc2 = torch.nn.Linear(256, num_classes)\n",
    "        \n",
    "    def forward(self, x):\n",
    "        out = self.avgpool(x)\n",
    "        out = self.conv(out)\n",
    "        out = out.view(out.size(0), -1)\n",
    "        out = torch.nn.functional.dropout(out, 0.5, training=self.training)\n",
    "        out = torch.nn.functional.relu(self.fc1(out), inplace=True)\n",
    "        out = torch.nn.functional.dropout(out, 0.5, training=self.training)\n",
    "        out = self.fc2(out)\n",
    "        return out"
   ]
  },
  {
   "cell_type": "markdown",
   "id": "7c6909ed-3a3e-4262-a8aa-7766059465e1",
   "metadata": {},
   "source": [
    "## Define Inception Class"
   ]
  },
  {
   "cell_type": "code",
   "execution_count": 7,
   "id": "45e1659b-cec6-45bd-b684-4d03bb9237ba",
   "metadata": {},
   "outputs": [],
   "source": [
    "class Inception(torch.nn.Module):\n",
    "    def __init__(self, in_channels, ch1x1, ch3x3red, ch3x3, ch5x5red, ch5x5, pool_proj):\n",
    "        super(Inception, self).__init__()\n",
    "        self.branch1 = BasicConv2d(in_channels, ch1x1, kernel_size=1)\n",
    "        self.branch2 = torch.nn.Sequential(BasicConv2d(in_channels, ch3x3red, kernel_size=1),\n",
    "                                            BasicConv2d(ch3x3red, ch3x3, kernel_size=3, padding=1))\n",
    "        self.branch3 = torch.nn.Sequential(BasicConv2d(in_channels, ch5x5red, kernel_size=1),\n",
    "                                           BasicConv2d(ch5x5red, ch5x5, kernel_size=5, padding=2))\n",
    "        self.branch4 = torch.nn.Sequential(torch.nn.MaxPool2d(kernel_size=3, stride=1, padding=1),\n",
    "                                           BasicConv2d(in_channels, pool_proj, kernel_size=1))\n",
    "        \n",
    "    def forward(self, x):\n",
    "        branch1 = self.branch1(x)\n",
    "        branch2 = self.branch2(x)\n",
    "        branch3 = self.branch3(x)\n",
    "        branch4 = self.branch4(x)\n",
    "        \n",
    "        outputs = [branch1, branch2, branch3, branch4]\n",
    "        return torch.cat(outputs, 1)"
   ]
  },
  {
   "cell_type": "markdown",
   "id": "83f5a45b-0452-44f5-b21f-db8a2aacb267",
   "metadata": {},
   "source": [
    "## Define GooLeNet Class"
   ]
  },
  {
   "cell_type": "code",
   "execution_count": 7,
   "id": "e7c00d9d-2be7-4ea1-9059-ca55b2a4b35b",
   "metadata": {},
   "outputs": [],
   "source": [
    "class GoogLeNet(torch.nn.Module):\n",
    "    def __init__(self, num_classes, aux_logits=True, init_weights=False):\n",
    "        super(GoogLeNet, self).__init__()\n",
    "        self.aux_logits = aux_logits\n",
    "        self.conv1 = BasicConv2d(3, 64, kernel_size=4, stride=2, padding=3)\n",
    "        self.maxpool1 = torch.nn.MaxPool2d(kernel_size=2, stride=2, ceil_mode=True)\n",
    "        self.conv2 = BasicConv2d(64, 64, kernel_size=1)\n",
    "        self.conv3 = BasicConv2d(64, 192, kernel_size=3, padding=1)\n",
    "        self.maxpool2 = torch.nn.MaxPool2d(kernel_size=2, stride=1, ceil_mode=True)\n",
    "        self.inception3a = Inception(192, 64, 96, 128, 16, 32, 32)\n",
    "        self.inception3b = Inception(256, 128, 128, 192, 32, 96, 64)\n",
    "        self.maxpool3 = torch.nn.MaxPool2d(kernel_size=2, stride=2, ceil_mode=True)\n",
    "        self.inception4a = Inception(480, 192, 96, 208, 16, 48, 64)\n",
    "        self.inception4b = Inception(512, 160, 112, 224, 24, 64, 64)\n",
    "        self.inception4c = Inception(512, 128, 128, 256, 24, 64, 64)\n",
    "        self.inception4d = Inception(512, 112, 144, 288, 32, 64, 64)\n",
    "        self.inception4e = Inception(528, 256, 160, 320, 32, 128, 128)\n",
    "        self.maxpool4 = torch.nn.MaxPool2d(kernel_size=2, stride=2, ceil_mode=True)\n",
    "        self.inception5a = Inception(832, 256, 160, 320, 32, 128, 128)\n",
    "        self.inception5b = Inception(832, 384, 192, 384, 48, 128, 128)\n",
    "        \n",
    "        if self.aux_logits:\n",
    "            self.aux1 = InceptionAux(512, num_classes)\n",
    "            self.aux2 = InceptionAux(528, num_classes)\n",
    "            \n",
    "        self.avgpool = torch.nn.AdaptiveAvgPool2d((1, 1))\n",
    "        self.dropout = torch.nn.Dropout(0.4)\n",
    "        self.fc = torch.nn.Linear(1024, num_classes)\n",
    "        if init_weights:\n",
    "            self._initialize_weights()\n",
    "            \n",
    "    def forward(self, x):\n",
    "        # N x 3 x 32 x 32\n",
    "        x = self.conv1(x)\n",
    "        # N x 64 x 18 x 18\n",
    "        x = self.maxpool1(x)\n",
    "        # N x 64 x 9 x 9\n",
    "        x = self.conv2(x)\n",
    "        # N x 64 x 9 x 9\n",
    "        x = self.conv3(x)\n",
    "        # N x 192 x 9 x 9\n",
    "        x = self.maxpool2(x)\n",
    " \n",
    "        # N x 192 x 8 x 8\n",
    "        x = self.inception3a(x)\n",
    "        # N x 256 x 8 x 8\n",
    "        x = self.inception3b(x)\n",
    "        # N x 480 x 8 x 8\n",
    "        x = self.maxpool3(x)\n",
    "        # N x 480 x 4 x 4\n",
    "        x = self.inception4a(x)\n",
    "        # N x 512 x 4 x 4\n",
    "        \n",
    "        if self.training and self.aux_logits: # eval model lose this layer\n",
    "            aux1 = self.aux1(x)\n",
    " \n",
    "        x = self.inception4b(x)\n",
    "        # N x 512 x 4 x 4\n",
    "        x = self.inception4c(x)\n",
    "        # N x 512 x 4 x 4\n",
    "        x = self.inception4d(x)\n",
    "        # N x 528 x 4 x 4\n",
    "        if self.training and self.aux_logits: # eval model lose this layer\n",
    "            aux2 = self.aux2(x)\n",
    " \n",
    "        x = self.inception4e(x)\n",
    "        # N x 832 x 4 x 4\n",
    "        x = self.maxpool4(x)\n",
    "        # N x 832 x 2 x 2\n",
    "        x = self.inception5a(x)\n",
    "        # N x 832 x 2 x 2\n",
    "        x = self.inception5b(x)\n",
    "        # N x 1024 x 2 x 2\n",
    " \n",
    "        x = self.avgpool(x)\n",
    "        # N x 1024 x 1 x 1\n",
    "        x = torch.flatten(x, 1)\n",
    "        # N x 1024\n",
    "        x = self.dropout(x)\n",
    "        x = self.fc(x)\n",
    "        # N x 10 (num_classes)\n",
    "        if self.training and self.aux_logits: # eval model lose this layer\n",
    "            return x, aux2, aux1\n",
    "        return x\n",
    " \n",
    "    def _initialize_weights(self):\n",
    "        for m in self.modules():\n",
    "            if isinstance(m, torch.nn.Conv2d):\n",
    "                torch.nn.init.kaiming_normal_(m.weight, mode='fan_out', nonlinearity='relu')\n",
    "                if m.bias is not None:\n",
    "                    torch.nn.init.constant_(m.bias, 0)\n",
    "            elif isinstance(m, torch.nn.Linear):\n",
    "                torch.nn.init.normal_(m.weight, 0, 0.01)\n",
    "                torch.nn.init.constant_(m.bias, 0)"
   ]
  },
  {
   "cell_type": "markdown",
   "id": "8010d5d6-d6c4-4c68-a94f-115ae72e1612",
   "metadata": {},
   "source": [
    "## Make Model with Hyper-params"
   ]
  },
  {
   "cell_type": "code",
   "execution_count": 12,
   "id": "b2c4327b-5cae-4c0c-a044-141b91e7ad50",
   "metadata": {},
   "outputs": [],
   "source": [
    "model = GoogLeNet(num_classes, False, True).to(device)"
   ]
  },
  {
   "cell_type": "markdown",
   "id": "dd3dd83e-964e-4714-8ebb-a8f5908212a5",
   "metadata": {},
   "source": [
    "## Loss and Optimizer"
   ]
  },
  {
   "cell_type": "code",
   "execution_count": 14,
   "id": "ae8da401-7817-42d3-9006-f709febf4238",
   "metadata": {},
   "outputs": [],
   "source": [
    "criterion = torch.nn.CrossEntropyLoss()\n",
    "optimizer = torch.optim.Adam(model.parameters(), lr=learning_rate)"
   ]
  },
  {
   "cell_type": "markdown",
   "id": "36a8d3ba-f00c-4280-8f76-855969e976c6",
   "metadata": {},
   "source": [
    "### Update learning Rate"
   ]
  },
  {
   "cell_type": "code",
   "execution_count": 15,
   "id": "5f40fc9f-4178-404c-934c-65974cc72cb5",
   "metadata": {},
   "outputs": [],
   "source": [
    "def update_lr(optimizer, lr):\n",
    "    for param_group in optimizer.param_groups:\n",
    "        param_group['lr'] = lr"
   ]
  },
  {
   "cell_type": "markdown",
   "id": "b3484f65-59c9-4cde-9fd4-e757bbbe16e1",
   "metadata": {},
   "source": [
    "## Train Model with GPU"
   ]
  },
  {
   "cell_type": "code",
   "execution_count": 16,
   "id": "876fe043-7185-4ab6-9a00-ebff1c30d411",
   "metadata": {},
   "outputs": [
    {
     "name": "stdout",
     "output_type": "stream",
     "text": [
      "Epoch [1/80], Step [100/500], Loss 2.8020\n",
      "Epoch [1/80], Step [200/500], Loss 2.4131\n"
     ]
    }
   ],
   "source": [
    "import gc\n",
    "total_step = len(train_loader)\n",
    "curr_lr = learning_rate\n",
    "for epoch in range(num_epochs):\n",
    "    gc.collect()\n",
    "    torch.cuda.empty_cache()\n",
    "    model.train()\n",
    "    for i, (images, labels) in enumerate(train_loader):\n",
    "        images = images.to(device)\n",
    "        labels = labels.to(device)\n",
    "        \n",
    "        # Forward pass\n",
    "        outputs = model(images)\n",
    "        # loss = criterion(outputs, labels)\n",
    "        # If open the InceptionAux\n",
    "        (logits, aux_logits2, aux_logits1) = model(images)\n",
    "        loss0 = criterion(logits, labels)\n",
    "        loss1 = criterion(aux_logits1, labels)\n",
    "        loss2 = criterion(aux_logits2, labels)\n",
    "        loss = loss0 + 0.3 * loss1 + 0.3 * loss2\n",
    "        \n",
    "        # Backward and optimize\n",
    "        optimizer.zero_grad()\n",
    "        loss.backward()\n",
    "        optimizer.step()\n",
    "        \n",
    "        if (i+1) % 100 == 0:\n",
    "            print ('Epoch [{}/{}], Step [{}/{}], Loss {:.4f}'.format(epoch+1, num_epochs, i+1, total_step, loss.item()))\n",
    "            \n",
    "    # Decay learning rate\n",
    "    if (epoch+1) % 20 == 0:\n",
    "        curr_lr /= 3\n",
    "        update_lr(optimizer, curr_lr)"
   ]
  },
  {
   "cell_type": "markdown",
   "id": "a8f75038-20e1-4260-90c4-f8e99bcfda1d",
   "metadata": {},
   "source": [
    "## Test Model with .eval()"
   ]
  },
  {
   "cell_type": "code",
   "execution_count": null,
   "id": "9980182f-1c3a-4162-b3ed-07e8502dc069",
   "metadata": {},
   "outputs": [],
   "source": [
    "model.eval()\n",
    "with torch.no_grad():\n",
    "    correct = 0\n",
    "    total = 0\n",
    "    for images, labels in test_loader:\n",
    "        images = images.to(device)\n",
    "        labels = labels.to(device)\n",
    "        outputs = model(images)\n",
    "        _, predicted = torch.max(outputs.data, 1)\n",
    "        total += labels.size(0)\n",
    "        correct += (predicted == labels).sum().item()\n",
    "        \n",
    "    print('Accuracy of the model on the test images: {} %'.format(100 * correct / total))"
   ]
  },
  {
   "cell_type": "markdown",
   "id": "1471f823-2af2-4ce1-b088-4bdc1664b91c",
   "metadata": {},
   "source": [
    "## Save the Model Checkpoint"
   ]
  },
  {
   "cell_type": "code",
   "execution_count": null,
   "id": "58324b53-1999-486a-bf60-b363f62922f5",
   "metadata": {},
   "outputs": [],
   "source": [
    "torch.save(model.state_dict(), 'GoogLeNet(Aux).ckpt')"
   ]
  },
  {
   "cell_type": "code",
   "execution_count": null,
   "id": "be5d8dc3-1215-40c5-b24c-1f9323a56470",
   "metadata": {},
   "outputs": [],
   "source": []
  }
 ],
 "metadata": {
  "kernelspec": {
   "display_name": "pytorch",
   "language": "python",
   "name": "pytorch"
  },
  "language_info": {
   "codemirror_mode": {
    "name": "ipython",
    "version": 3
   },
   "file_extension": ".py",
   "mimetype": "text/x-python",
   "name": "python",
   "nbconvert_exporter": "python",
   "pygments_lexer": "ipython3",
   "version": "3.8.13"
  },
  "widgets": {
   "application/vnd.jupyter.widget-state+json": {
    "state": {},
    "version_major": 2,
    "version_minor": 0
   }
  }
 },
 "nbformat": 4,
 "nbformat_minor": 5
}
