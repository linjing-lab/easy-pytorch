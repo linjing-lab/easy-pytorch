{
 "cells": [
  {
   "cell_type": "markdown",
   "id": "fd3b04db-ab74-4df4-8726-06a9fc00dc89",
   "metadata": {},
   "source": [
    "# GoogLeNet"
   ]
  },
  {
   "cell_type": "code",
   "execution_count": 1,
   "id": "122a134e-ba6a-43f0-b9d7-ca45a177f1ec",
   "metadata": {},
   "outputs": [],
   "source": [
    "# import packages\n",
    "import torch\n",
    "import torchvision"
   ]
  },
  {
   "cell_type": "code",
   "execution_count": 2,
   "id": "623de6fc-e7be-4f07-b379-0aa6ab912acd",
   "metadata": {},
   "outputs": [],
   "source": [
    "# Device configuration.\n",
    "device = torch.device('cuda' if torch.cuda.is_available() else 'cpu')"
   ]
  },
  {
   "cell_type": "code",
   "execution_count": 3,
   "id": "77b3c076-580e-415b-a548-c7e95107137d",
   "metadata": {},
   "outputs": [],
   "source": [
    "# Hyper-parameters\n",
    "num_epochs = 40\n",
    "batch_size = 100\n",
    "num_classes = 10\n",
    "learning_rate = 0.0006"
   ]
  },
  {
   "cell_type": "code",
   "execution_count": 4,
   "id": "fe9f18e1-0d73-4bfe-a8bd-b2658587cbdb",
   "metadata": {},
   "outputs": [],
   "source": [
    "# Transform configuration and Data Augmentation.\n",
    "transform_train = torchvision.transforms.Compose([torchvision.transforms.Pad(4),\n",
    "                                                  torchvision.transforms.RandomHorizontalFlip(),\n",
    "                                                  torchvision.transforms.RandomCrop(32),\n",
    "                                                 torchvision.transforms.ToTensor(),\n",
    "                                                 torchvision.transforms.Normalize([0.5, 0.5, 0.5], [0.5, 0.5, 0.5])])\n",
    "transform_test = torchvision.transforms.Compose([torchvision.transforms.ToTensor(),\n",
    "                                                torchvision.transforms.Normalize([0.5, 0.5, 0.5], [0.5, 0.5, 0.5])])"
   ]
  },
  {
   "cell_type": "code",
   "execution_count": 5,
   "id": "1f405b0c-881e-414c-8a2a-90fe017e8628",
   "metadata": {},
   "outputs": [],
   "source": [
    "# Load downloaded dataset.\n",
    "train_dataset = torchvision.datasets.CIFAR10('../data/CIFAR/', download=False, train=True, transform=transform_train)\n",
    "test_dataset = torchvision.datasets.CIFAR10('../data/CIFAR/', download=False, train=False, transform=transform_test)"
   ]
  },
  {
   "cell_type": "code",
   "execution_count": 6,
   "id": "bf6e80d5-1ad5-47b1-8868-bc5b60f46961",
   "metadata": {},
   "outputs": [],
   "source": [
    "# Data Loader.\n",
    "train_loader = torch.utils.data.DataLoader(dataset=train_dataset, batch_size=batch_size, shuffle=True)\n",
    "test_loader = torch.utils.data.DataLoader(dataset=test_dataset, batch_size=batch_size, shuffle=False)"
   ]
  },
  {
   "cell_type": "markdown",
   "id": "37c07dea-61fc-4f51-9508-dffb74228c3e",
   "metadata": {},
   "source": [
    "*arg 和 **kwargs：https://zhuanlan.zhihu.com/p/50804195"
   ]
  },
  {
   "cell_type": "code",
   "execution_count": 7,
   "id": "f2c4cae0-db93-4472-a493-d06231c62e65",
   "metadata": {},
   "outputs": [],
   "source": [
    "# Define BasicConv2d\n",
    "class BasicConv2d(torch.nn.Module):\n",
    "    def __init__(self, in_channels, out_channels, **kwargs):\n",
    "        super(BasicConv2d, self).__init__()\n",
    "        self.conv = torch.nn.Conv2d(in_channels, out_channels, **kwargs)\n",
    "        self.batchnorm = torch.nn.BatchNorm2d(out_channels)\n",
    "        self.relu = torch.nn.ReLU(inplace=True)\n",
    "    \n",
    "    def forward(self, x):\n",
    "        x = self.conv(x)\n",
    "        x = self.batchnorm(x)\n",
    "        x = self.relu(x)\n",
    "        return x\n",
    "\n",
    "# Define InceptionAux.\n",
    "class InceptionAux(torch.nn.Module):\n",
    "    def __init__(self, in_channels, num_classes):\n",
    "        super(InceptionAux, self).__init__()\n",
    "        self.avgpool = torch.nn.AvgPool2d(kernel_size=2, stride=2)\n",
    "        self.conv = BasicConv2d(in_channels, 128, kernel_size=1)\n",
    "        self.fc1 = torch.nn.Sequential(torch.nn.Linear(2 * 2 * 128, 256))\n",
    "        self.fc2 = torch.nn.Linear(256, num_classes)\n",
    "        \n",
    "    def forward(self, x):\n",
    "        out = self.avgpool(x)\n",
    "        out = self.conv(out)\n",
    "        out = out.view(out.size(0), -1)\n",
    "        out = torch.nn.functional.dropout(out, 0.5, training=self.training)\n",
    "        out = torch.nn.functional.relu(self.fc1(out), inplace=True)\n",
    "        out = torch.nn.functional.dropout(out, 0.5, training=self.training)\n",
    "        out = self.fc2(out)\n",
    "        return out\n",
    "\n",
    "# Define Inception.\n",
    "class Inception(torch.nn.Module):\n",
    "    def __init__(self, in_channels, ch1x1, ch3x3red, ch3x3, ch5x5red, ch5x5, pool_proj):\n",
    "        super(Inception, self).__init__()\n",
    "        self.branch1 = BasicConv2d(in_channels, ch1x1, kernel_size=1)\n",
    "        self.branch2 = torch.nn.Sequential(BasicConv2d(in_channels, ch3x3red, kernel_size=1),\n",
    "                                            BasicConv2d(ch3x3red, ch3x3, kernel_size=3, padding=1))\n",
    "        self.branch3 = torch.nn.Sequential(BasicConv2d(in_channels, ch5x5red, kernel_size=1),\n",
    "                                           BasicConv2d(ch5x5red, ch5x5, kernel_size=5, padding=2))\n",
    "        self.branch4 = torch.nn.Sequential(torch.nn.MaxPool2d(kernel_size=3, stride=1, padding=1),\n",
    "                                           BasicConv2d(in_channels, pool_proj, kernel_size=1))\n",
    "        \n",
    "    def forward(self, x):\n",
    "        branch1 = self.branch1(x)\n",
    "        branch2 = self.branch2(x)\n",
    "        branch3 = self.branch3(x)\n",
    "        branch4 = self.branch4(x)\n",
    "        \n",
    "        outputs = [branch1, branch2, branch3, branch4]\n",
    "        return torch.cat(outputs, 1)\n",
    "    \n",
    "\n",
    "# Define GooLeNet.\n",
    "class GoogLeNet(torch.nn.Module):\n",
    "    def __init__(self, num_classes, aux_logits=True, init_weights=False):\n",
    "        super(GoogLeNet, self).__init__()\n",
    "        self.aux_logits = aux_logits\n",
    "        self.conv1 = BasicConv2d(3, 64, kernel_size=4, stride=2, padding=3)\n",
    "        self.maxpool1 = torch.nn.MaxPool2d(kernel_size=2, stride=2, ceil_mode=True)\n",
    "        self.conv2 = BasicConv2d(64, 64, kernel_size=1)\n",
    "        self.conv3 = BasicConv2d(64, 192, kernel_size=3, padding=1)\n",
    "        self.maxpool2 = torch.nn.MaxPool2d(kernel_size=2, stride=1, ceil_mode=True)\n",
    "        self.inception3a = Inception(192, 64, 96, 128, 16, 32, 32)\n",
    "        self.inception3b = Inception(256, 128, 128, 192, 32, 96, 64)\n",
    "        self.maxpool3 = torch.nn.MaxPool2d(kernel_size=2, stride=2, ceil_mode=True)\n",
    "        self.inception4a = Inception(480, 192, 96, 208, 16, 48, 64)\n",
    "        self.inception4b = Inception(512, 160, 112, 224, 24, 64, 64)\n",
    "        self.inception4c = Inception(512, 128, 128, 256, 24, 64, 64)\n",
    "        self.inception4d = Inception(512, 112, 144, 288, 32, 64, 64)\n",
    "        self.inception4e = Inception(528, 256, 160, 320, 32, 128, 128)\n",
    "        self.maxpool4 = torch.nn.MaxPool2d(kernel_size=2, stride=2, ceil_mode=True)\n",
    "        self.inception5a = Inception(832, 256, 160, 320, 32, 128, 128)\n",
    "        self.inception5b = Inception(832, 384, 192, 384, 48, 128, 128)\n",
    "        \n",
    "        if self.aux_logits:\n",
    "            self.aux1 = InceptionAux(512, num_classes)\n",
    "            self.aux2 = InceptionAux(528, num_classes)\n",
    "            \n",
    "        self.avgpool = torch.nn.AdaptiveAvgPool2d((1, 1))\n",
    "        self.dropout = torch.nn.Dropout(0.4)\n",
    "        self.fc = torch.nn.Linear(1024, num_classes)\n",
    "        if init_weights:\n",
    "            self._initialize_weights()\n",
    "            \n",
    "    def forward(self, x):\n",
    "        # N x 3 x 32 x 32\n",
    "        x = self.conv1(x)\n",
    "        # N x 64 x 18 x 18\n",
    "        x = self.maxpool1(x)\n",
    "        # N x 64 x 9 x 9\n",
    "        x = self.conv2(x)\n",
    "        # N x 64 x 9 x 9\n",
    "        x = self.conv3(x)\n",
    "        # N x 192 x 9 x 9\n",
    "        x = self.maxpool2(x)\n",
    " \n",
    "        # N x 192 x 8 x 8\n",
    "        x = self.inception3a(x)\n",
    "        # N x 256 x 8 x 8\n",
    "        x = self.inception3b(x)\n",
    "        # N x 480 x 8 x 8\n",
    "        x = self.maxpool3(x)\n",
    "        # N x 480 x 4 x 4\n",
    "        x = self.inception4a(x)\n",
    "        # N x 512 x 4 x 4\n",
    "        \n",
    "        if self.training and self.aux_logits: # eval model lose this layer\n",
    "            aux1 = self.aux1(x)\n",
    " \n",
    "        x = self.inception4b(x)\n",
    "        # N x 512 x 4 x 4\n",
    "        x = self.inception4c(x)\n",
    "        # N x 512 x 4 x 4\n",
    "        x = self.inception4d(x)\n",
    "        # N x 528 x 4 x 4\n",
    "        if self.training and self.aux_logits: # eval model lose this layer\n",
    "            aux2 = self.aux2(x)\n",
    " \n",
    "        x = self.inception4e(x)\n",
    "        # N x 832 x 4 x 4\n",
    "        x = self.maxpool4(x)\n",
    "        # N x 832 x 2 x 2\n",
    "        x = self.inception5a(x)\n",
    "        # N x 832 x 2 x 2\n",
    "        x = self.inception5b(x)\n",
    "        # N x 1024 x 2 x 2\n",
    " \n",
    "        x = self.avgpool(x)\n",
    "        # N x 1024 x 1 x 1\n",
    "        x = torch.flatten(x, 1)\n",
    "        # N x 1024\n",
    "        x = self.dropout(x)\n",
    "        x = self.fc(x)\n",
    "        # N x 10 (num_classes)\n",
    "        if self.training and self.aux_logits: # eval model lose this layer\n",
    "            return x, aux2, aux1\n",
    "        return x\n",
    " \n",
    "    def _initialize_weights(self):\n",
    "        for m in self.modules():\n",
    "            if isinstance(m, torch.nn.Conv2d):\n",
    "                torch.nn.init.kaiming_normal_(m.weight, mode='fan_out', nonlinearity='relu')\n",
    "                if m.bias is not None:\n",
    "                    torch.nn.init.constant_(m.bias, 0)\n",
    "            elif isinstance(m, torch.nn.Linear):\n",
    "                torch.nn.init.normal_(m.weight, 0, 0.01)\n",
    "                torch.nn.init.constant_(m.bias, 0)"
   ]
  },
  {
   "cell_type": "code",
   "execution_count": 12,
   "id": "23b4438e-a5c7-4879-9ebd-605aff35fa24",
   "metadata": {},
   "outputs": [],
   "source": [
    "# Make model.\n",
    "model = GoogLeNet(num_classes, False, True).to(device)"
   ]
  },
  {
   "cell_type": "code",
   "execution_count": 14,
   "id": "8f6620de-e5de-4f7e-8695-6c2c60bff9c7",
   "metadata": {},
   "outputs": [],
   "source": [
    "# Loss ans optimizer.\n",
    "criterion = torch.nn.CrossEntropyLoss()\n",
    "optimizer = torch.optim.Adam(model.parameters(), lr=learning_rate)"
   ]
  },
  {
   "cell_type": "code",
   "execution_count": 15,
   "id": "c9d54a5c-4893-42b7-9a99-5f7f4320a04e",
   "metadata": {},
   "outputs": [],
   "source": [
    "# For updating learning rate.\n",
    "def update_lr(optimizer, lr):\n",
    "    for param_group in optimizer.param_groups:\n",
    "        param_group['lr'] = lr"
   ]
  },
  {
   "cell_type": "code",
   "execution_count": 16,
   "id": "02884405-82d2-4616-97b3-ff19696f98fa",
   "metadata": {},
   "outputs": [
    {
     "name": "stdout",
     "output_type": "stream",
     "text": [
      "Epoch [1/80], Step [100/500], Loss 2.8020\n",
      "Epoch [1/80], Step [200/500], Loss 2.4131\n"
     ]
    }
   ],
   "source": [
    "# Train the model\n",
    "import gc\n",
    "total_step = len(train_loader)\n",
    "curr_lr = learning_rate\n",
    "for epoch in range(num_epochs):\n",
    "    gc.collect()\n",
    "    torch.cuda.empty_cache()\n",
    "    model.train()\n",
    "    for i, (images, labels) in enumerate(train_loader):\n",
    "        images = images.to(device)\n",
    "        labels = labels.to(device)\n",
    "        \n",
    "        # Forward pass\n",
    "        outputs = model(images)\n",
    "        # loss = criterion(outputs, labels)\n",
    "        # If open the InceptionAux\n",
    "        (logits, aux_logits2, aux_logits1) = model(images)\n",
    "        loss0 = criterion(logits, labels)\n",
    "        loss1 = criterion(aux_logits1, labels)\n",
    "        loss2 = criterion(aux_logits2, labels)\n",
    "        loss = loss0 + 0.3 * loss1 + 0.3 * loss2\n",
    "        \n",
    "        # Backward and optimize\n",
    "        optimizer.zero_grad()\n",
    "        loss.backward()\n",
    "        optimizer.step()\n",
    "        \n",
    "        if (i+1) % 100 == 0:\n",
    "            print ('Epoch [{}/{}], Step [{}/{}], Loss {:.4f}'.format(epoch+1, num_epochs, i+1, total_step, loss.item()))\n",
    "            \n",
    "    # Decay learning rate\n",
    "    if (epoch+1) % 20 == 0:\n",
    "        curr_lr /= 3\n",
    "        update_lr(optimizer, curr_lr)"
   ]
  },
  {
   "cell_type": "code",
   "execution_count": null,
   "id": "5555391d-b4bb-4ac4-bd5c-6bb8f91e4899",
   "metadata": {},
   "outputs": [],
   "source": [
    "# Test the mdoel.\n",
    "model.eval()\n",
    "with torch.no_grad():\n",
    "    correct = 0\n",
    "    total = 0\n",
    "    for images, labels in test_loader:\n",
    "        images = images.to(device)\n",
    "        labels = labels.to(device)\n",
    "        outputs = model(images)\n",
    "        _, predicted = torch.max(outputs.data, 1)\n",
    "        total += labels.size(0)\n",
    "        correct += (predicted == labels).sum().item()\n",
    "        \n",
    "    print('Accuracy of the model on the test images: {} %'.format(100 * correct / total))"
   ]
  },
  {
   "cell_type": "code",
   "execution_count": null,
   "id": "280ac4e1-5f0b-44bb-835c-2002d76b7f50",
   "metadata": {},
   "outputs": [],
   "source": [
    "# Save the model checkpoint.\n",
    "torch.save(model.state_dict(), 'GoogLeNet(Aux).ckpt')"
   ]
  },
  {
   "cell_type": "code",
   "execution_count": null,
   "id": "be5d8dc3-1215-40c5-b24c-1f9323a56470",
   "metadata": {},
   "outputs": [],
   "source": []
  }
 ],
 "metadata": {
  "kernelspec": {
   "display_name": "pytorch",
   "language": "python",
   "name": "pytorch"
  },
  "language_info": {
   "codemirror_mode": {
    "name": "ipython",
    "version": 3
   },
   "file_extension": ".py",
   "mimetype": "text/x-python",
   "name": "python",
   "nbconvert_exporter": "python",
   "pygments_lexer": "ipython3",
   "version": "3.8.12"
  },
  "widgets": {
   "application/vnd.jupyter.widget-state+json": {
    "state": {},
    "version_major": 2,
    "version_minor": 0
   }
  }
 },
 "nbformat": 4,
 "nbformat_minor": 5
}
