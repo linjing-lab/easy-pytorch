{
 "cells": [
  {
   "cell_type": "markdown",
   "id": "2dd10da4-a209-4455-92f9-e5d72578512b",
   "metadata": {},
   "source": [
    "# Recurrent Neural Network"
   ]
  },
  {
   "cell_type": "code",
   "execution_count": 1,
   "id": "5bfc1d5c-387f-43a4-b761-165986058df4",
   "metadata": {},
   "outputs": [],
   "source": [
    "# import packages.\n",
    "import torch\n",
    "import torchvision"
   ]
  },
  {
   "cell_type": "code",
   "execution_count": 2,
   "id": "95f3b1f3-5b4c-4b7c-99f9-802bf3a64cd1",
   "metadata": {},
   "outputs": [],
   "source": [
    "# Device configuration.\n",
    "device = torch.device('cuda' if torch.cuda.is_available() else 'cpu')"
   ]
  },
  {
   "cell_type": "code",
   "execution_count": 3,
   "id": "ea915ba3-7e81-4cc8-9f99-9bd5903ce08d",
   "metadata": {},
   "outputs": [],
   "source": [
    "# Hyper-parameters\n",
    "sequence_length = 28\n",
    "input_size = 28\n",
    "hidden_size = 128\n",
    "num_layers = 2\n",
    "num_classes = 10\n",
    "batch_size = 100\n",
    "num_epochs = 2\n",
    "learning_rate = 0.01"
   ]
  },
  {
   "cell_type": "code",
   "execution_count": 4,
   "id": "5a14aa44-1c23-4a53-af02-cbc383c87f92",
   "metadata": {},
   "outputs": [],
   "source": [
    "# Load downloaded dataset.\n",
    "import numpy as np\n",
    "import gzip\n",
    "import os\n",
    "class MNISTDataset(torch.utils.data.Dataset):\n",
    "    def __init__(self, root, train=True, transform=None):\n",
    "        self.file_pre = 'train' if train == True else 't10k'\n",
    "        self.transform = transform\n",
    "        self.label_path = os.path.join(root, '%s-labels-idx1-ubyte.gz' % self.file_pre)\n",
    "        self.image_path = os.path.join(root, '%s-images-idx3-ubyte.gz' % self.file_pre)\n",
    "        self.images, self.labels = self.__read_data__(self.image_path, self.label_path)\n",
    "    \n",
    "    def __read_data__(self, image_path, label_path):\n",
    "        # Read dataset.\n",
    "        with gzip.open(label_path, 'rb') as lbpath:\n",
    "            labels = np.frombuffer(lbpath.read(), np.uint8, offset=8)\n",
    "        with gzip.open(image_path, 'rb') as imgpath:\n",
    "            images = np.frombuffer(imgpath.read(), np.uint8, offset=16).reshape(len(labels), 28, 28)\n",
    "        return images, labels\n",
    "    \n",
    "    def __getitem__(self, index):\n",
    "        image, label = self.images[index], int(self.labels[index])\n",
    "        if self.transform is not None:\n",
    "            image = self.transform(np.array(image))\n",
    "        return image, label\n",
    "    \n",
    "    def __len__(self):\n",
    "        return len(self.labels)"
   ]
  },
  {
   "cell_type": "code",
   "execution_count": 5,
   "id": "c231be39-3efb-42ce-87dc-08dbf0d4cebf",
   "metadata": {},
   "outputs": [],
   "source": [
    "# MNIST dataset\n",
    "train_dataset = MNISTDataset('../data/MNIST/', transform=torchvision.transforms.ToTensor())\n",
    "test_dataset = MNISTDataset('../data/MNIST/', train=False, transform=torchvision.transforms.ToTensor())"
   ]
  },
  {
   "cell_type": "code",
   "execution_count": 6,
   "id": "8e86d0c6-aa8f-4019-8700-353738cb47b4",
   "metadata": {},
   "outputs": [],
   "source": [
    "# Data loader.\n",
    "train_loader = torch.utils.data.DataLoader(dataset=train_dataset, batch_size=batch_size, shuffle=True)\n",
    "test_loader = torch.utils.data.DataLoader(dataset=train_dataset, batch_size=batch_size, shuffle=False)"
   ]
  },
  {
   "cell_type": "code",
   "execution_count": 7,
   "id": "4093834f-3d75-4e65-bcf0-6caf9e4775b1",
   "metadata": {},
   "outputs": [],
   "source": [
    "# Recurrent neural network (many-to-one)\n",
    "class RNN(torch.nn.Module):\n",
    "    def __init__(self, input_size, hidden_size, num_layers, num_classes):\n",
    "        super(RNN, self).__init__()\n",
    "        self.hidden_size = hidden_size\n",
    "        self.num_layers = num_layers\n",
    "        self.lstm = torch.nn.LSTM(input_size, hidden_size, num_layers, batch_first=True)\n",
    "        self.fc = torch.nn.Linear(hidden_size, num_classes)\n",
    "        \n",
    "    def forward(self, x):\n",
    "        # Set initial hidden and cell states.\n",
    "        h0 = torch.zeros(self.num_layers, x.size(0), self.hidden_size).to(device)\n",
    "        c0 = torch.zeros(self.num_layers, x.size(0), self.hidden_size).to(device)\n",
    "        \n",
    "        # Forward propagate LSTM\n",
    "        out, _ = self.lstm(x, (h0, c0)) # out: tensor of shape (batch_size, seq_length, hidden_size)\n",
    "        \n",
    "        # Decode the hidden state of the last time step.\n",
    "        out = self.fc(out[:, -1, :])\n",
    "        return out"
   ]
  },
  {
   "cell_type": "code",
   "execution_count": 8,
   "id": "0af7f70c-f7aa-425f-bdda-cf3919610d26",
   "metadata": {},
   "outputs": [],
   "source": [
    "# Make model.\n",
    "model = RNN(input_size, hidden_size, num_layers, num_classes).to(device)"
   ]
  },
  {
   "cell_type": "code",
   "execution_count": 9,
   "id": "0e431fc6-10be-47b2-8a32-bd6d7ae31e61",
   "metadata": {},
   "outputs": [],
   "source": [
    "# Loss and optimizer\n",
    "criterion = torch.nn.CrossEntropyLoss()\n",
    "optimizer = torch.optim.Adam(model.parameters(), lr=learning_rate)"
   ]
  },
  {
   "cell_type": "code",
   "execution_count": 10,
   "id": "0588c9e1-9100-4e5e-b390-0c42e1a47f69",
   "metadata": {},
   "outputs": [
    {
     "name": "stdout",
     "output_type": "stream",
     "text": [
      "Epoch [1/2], Step [100/600], Loss: 0.5874\n",
      "Epoch [1/2], Step [200/600], Loss: 0.2861\n",
      "Epoch [1/2], Step [300/600], Loss: 0.1178\n",
      "Epoch [1/2], Step [400/600], Loss: 0.0953\n",
      "Epoch [1/2], Step [500/600], Loss: 0.0616\n",
      "Epoch [1/2], Step [600/600], Loss: 0.0445\n",
      "Epoch [2/2], Step [100/600], Loss: 0.1617\n",
      "Epoch [2/2], Step [200/600], Loss: 0.1722\n",
      "Epoch [2/2], Step [300/600], Loss: 0.0585\n",
      "Epoch [2/2], Step [400/600], Loss: 0.1982\n",
      "Epoch [2/2], Step [500/600], Loss: 0.0853\n",
      "Epoch [2/2], Step [600/600], Loss: 0.0803\n"
     ]
    }
   ],
   "source": [
    "# Train the model\n",
    "import gc\n",
    "total_step = len(train_loader)\n",
    "for epoch in range(num_epochs):\n",
    "    gc.collect()\n",
    "    torch.cuda.empty_cache()\n",
    "    for i, (images, labels) in enumerate(train_loader):\n",
    "        images = images.reshape(-1, sequence_length, input_size).to(device)\n",
    "        labels = labels.to(device)\n",
    "        \n",
    "        # Forward pass\n",
    "        outputs = model(images)\n",
    "        loss = criterion(outputs, labels)\n",
    "        \n",
    "        # Backward and optimize\n",
    "        optimizer.zero_grad()\n",
    "        loss.backward()\n",
    "        optimizer.step()\n",
    "        \n",
    "        # Print\n",
    "        if (i+1) % 100 == 0:\n",
    "            print ('Epoch [{}/{}], Step [{}/{}], Loss: {:.4f}'.format(epoch+1, num_epochs, i+1, total_step, loss.item()))"
   ]
  },
  {
   "cell_type": "code",
   "execution_count": 11,
   "id": "68a02916-5bdd-406c-9c02-a04043227cc0",
   "metadata": {},
   "outputs": [
    {
     "name": "stdout",
     "output_type": "stream",
     "text": [
      "Test Accuracy of the model on the 10000 test images: 98.20666666666666 %\n"
     ]
    }
   ],
   "source": [
    "# Test the model.\n",
    "model.eval()\n",
    "with torch.no_grad():\n",
    "    correct = 0\n",
    "    total = 0\n",
    "    for images, labels in test_loader:\n",
    "        images = images.reshape(-1, sequence_length, input_size).to(device)\n",
    "        labels = labels.to(device)\n",
    "        outputs = model(images)\n",
    "        _, predicted = torch.max(outputs.data, 1)\n",
    "        total += labels.size(0)\n",
    "        correct += (predicted == labels).sum().item()\n",
    "        \n",
    "    print('Test Accuracy of the model on the 10000 test images: {} %'.format(100 * correct / total))"
   ]
  },
  {
   "cell_type": "code",
   "execution_count": 12,
   "id": "9a694bcd-4f5c-49a1-aa42-f7d4f53451f3",
   "metadata": {},
   "outputs": [],
   "source": [
    "# Save the model checkpoint\n",
    "torch.save(model.state_dict(), 'rnn.ckpt')"
   ]
  },
  {
   "cell_type": "code",
   "execution_count": null,
   "id": "4ceca59b-d115-467a-8f86-0f95b8258dde",
   "metadata": {},
   "outputs": [],
   "source": []
  }
 ],
 "metadata": {
  "kernelspec": {
   "display_name": "pytorch",
   "language": "python",
   "name": "pytorch"
  },
  "language_info": {
   "codemirror_mode": {
    "name": "ipython",
    "version": 3
   },
   "file_extension": ".py",
   "mimetype": "text/x-python",
   "name": "python",
   "nbconvert_exporter": "python",
   "pygments_lexer": "ipython3",
   "version": "3.8.13"
  },
  "widgets": {
   "application/vnd.jupyter.widget-state+json": {
    "state": {},
    "version_major": 2,
    "version_minor": 0
   }
  }
 },
 "nbformat": 4,
 "nbformat_minor": 5
}
