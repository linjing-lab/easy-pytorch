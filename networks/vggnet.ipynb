{
 "cells": [
  {
   "cell_type": "markdown",
   "id": "38a34dc1-0eba-4916-8be4-b3f80dc496c2",
   "metadata": {},
   "source": [
    "# VGGNet"
   ]
  },
  {
   "cell_type": "code",
   "execution_count": 1,
   "id": "1fde3773-0c62-4a6b-a9f2-9559611782a6",
   "metadata": {},
   "outputs": [],
   "source": [
    "# import packages\n",
    "import torch\n",
    "import torchvision"
   ]
  },
  {
   "cell_type": "code",
   "execution_count": 2,
   "id": "84686e6f-f586-436b-9522-8aedfe6085f9",
   "metadata": {},
   "outputs": [],
   "source": [
    "# Device configuration.\n",
    "device = torch.device('cuda' if torch.cuda.is_available() else 'cpu')"
   ]
  },
  {
   "cell_type": "code",
   "execution_count": 3,
   "id": "565052a2-cf40-4b64-b472-abcb9f8eb771",
   "metadata": {},
   "outputs": [],
   "source": [
    "# Hyper-parameters\n",
    "num_epochs = 80\n",
    "batch_size = 100\n",
    "learning_rate = 0.001\n",
    "num_classes = 10"
   ]
  },
  {
   "cell_type": "code",
   "execution_count": 4,
   "id": "184efc70-2308-48fd-bc4c-263b15a0ef68",
   "metadata": {},
   "outputs": [],
   "source": [
    "# Transform configuration and Data Augmentation.\n",
    "transform_train = torchvision.transforms.Compose([torchvision.transforms.Pad(4),\n",
    "                                                  torchvision.transforms.RandomHorizontalFlip(),\n",
    "                                                  torchvision.transforms.RandomCrop(32),\n",
    "                                                  torchvision.transforms.ToTensor(),\n",
    "                                                  torchvision.transforms.Normalize([0.5, 0.5, 0.5], [0.5, 0.5, 0.5])])\n",
    "\n",
    "transform_test = torchvision.transforms.Compose([torchvision.transforms.ToTensor(),\n",
    "                                                 torchvision.transforms.Normalize([0.5, 0.5, 0.5], [0.5, 0.5, 0.5])])"
   ]
  },
  {
   "cell_type": "code",
   "execution_count": 5,
   "id": "4de5db43-09e2-45a1-bab9-0171bedbc256",
   "metadata": {},
   "outputs": [],
   "source": [
    "# Load downloaded dataset.\n",
    "train_dataset = torchvision.datasets.CIFAR10('../data/CIFAR/', download=False, train=True, transform=transform_train)\n",
    "test_dataset = torchvision.datasets.CIFAR10('../data/CIFAR/', download=False, train=False, transform=transform_test)"
   ]
  },
  {
   "cell_type": "code",
   "execution_count": 6,
   "id": "50f8c093-e5a8-43b3-aa9c-b0111cbf4709",
   "metadata": {},
   "outputs": [],
   "source": [
    "# Data Loader.\n",
    "train_loader = torch.utils.data.DataLoader(dataset=train_dataset, batch_size=batch_size, shuffle=True)\n",
    "test_loader = torch.utils.data.DataLoader(dataset=test_dataset, batch_size=batch_size, shuffle=False)"
   ]
  },
  {
   "cell_type": "code",
   "execution_count": 7,
   "id": "5bf40bfc-9923-47fd-96b5-58c9e5226e0c",
   "metadata": {},
   "outputs": [],
   "source": [
    "# Define VGG-16 and VGG-19.\n",
    "cfg = {\n",
    "    'VGG-16': [64, 64, 'M', 128, 128, 'M', 256, 256, 256, 'M', 512, 512, 512, 'M', 512, 512, 512, 'M'], \n",
    "    'VGG-19': [64, 64, 'M', 128, 128, 'M', 256, 256, 256, 256, 'M', 512, 512, 512, 512, 'M', 512, 512, 512, 512,'M']\n",
    "}\n",
    "\n",
    "# VGG-16 and VGG-19\n",
    "class VGGNet(torch.nn.Module):\n",
    "    def __init__(self, VGG_type, num_classes):\n",
    "        super(VGGNet, self).__init__()\n",
    "        self.features = self._make_layers(cfg[VGG_type])\n",
    "        self.classifier = torch.nn.Linear(512, num_classes)\n",
    "        \n",
    "    def forward(self, x):\n",
    "        out = self.features(x)\n",
    "        out = out.view(out.size(0), -1)\n",
    "        out = self.classifier(out)\n",
    "        return out\n",
    "    \n",
    "    def _make_layers(self, cfg):\n",
    "        layers = []\n",
    "        in_channels = 3\n",
    "        for x in cfg:\n",
    "            if x == 'M': # MaxPool2d\n",
    "                layers += [torch.nn.MaxPool2d(kernel_size=2, stride=2)]\n",
    "            else:\n",
    "                layers += [torch.nn.Conv2d(in_channels, x, kernel_size=3, padding=1),\n",
    "                           torch.nn.BatchNorm2d(x),\n",
    "                           torch.nn.ReLU(inplace=True)]\n",
    "                in_channels = x\n",
    "        layers += [torch.nn.AvgPool2d(kernel_size=1, stride=1)]\n",
    "        return torch.nn.Sequential(*layers) # The number of parameters is more than one."
   ]
  },
  {
   "cell_type": "code",
   "execution_count": 9,
   "id": "35a93714-8910-4826-b6b2-5528f85f7d0d",
   "metadata": {},
   "outputs": [],
   "source": [
    "# Make model.\n",
    "net_name = 'VGG-19'\n",
    "model = VGGNet(net_name, num_classes).to(device)"
   ]
  },
  {
   "cell_type": "code",
   "execution_count": 10,
   "id": "fa433c76-7f64-44d8-84a4-2d10d2f72f87",
   "metadata": {},
   "outputs": [],
   "source": [
    "# Loss ans optimizer.\n",
    "criterion = torch.nn.CrossEntropyLoss()\n",
    "optimizer = torch.optim.Adam(model.parameters(), lr=learning_rate)"
   ]
  },
  {
   "cell_type": "code",
   "execution_count": 11,
   "id": "ef04e526-01b6-4c2f-b568-dd0fe4c68f58",
   "metadata": {},
   "outputs": [],
   "source": [
    "# For updating learning rate.\n",
    "def update_lr(optimizer, lr):\n",
    "    for param_group in optimizer.param_groups:\n",
    "        param_group['lr'] = lr"
   ]
  },
  {
   "cell_type": "code",
   "execution_count": null,
   "id": "0993ea4f-ce5a-4cb9-82ba-82c725592fd9",
   "metadata": {},
   "outputs": [
    {
     "name": "stdout",
     "output_type": "stream",
     "text": [
      "Epoch [1/80], Step [100/500], Loss 1.6919\n",
      "Epoch [1/80], Step [200/500], Loss 1.3388\n",
      "Epoch [1/80], Step [300/500], Loss 1.3001\n",
      "Epoch [1/80], Step [400/500], Loss 1.2932\n",
      "Epoch [1/80], Step [500/500], Loss 1.0757\n",
      "Epoch [2/80], Step [100/500], Loss 0.9988\n",
      "Epoch [2/80], Step [200/500], Loss 1.2330\n",
      "Epoch [2/80], Step [300/500], Loss 0.9244\n",
      "Epoch [2/80], Step [400/500], Loss 0.7698\n",
      "Epoch [2/80], Step [500/500], Loss 1.0753\n",
      "Epoch [3/80], Step [100/500], Loss 0.8556\n",
      "Epoch [3/80], Step [200/500], Loss 1.1296\n",
      "Epoch [3/80], Step [300/500], Loss 0.9370\n",
      "Epoch [3/80], Step [400/500], Loss 0.7062\n",
      "Epoch [3/80], Step [500/500], Loss 0.8892\n"
     ]
    }
   ],
   "source": [
    "# Train the model\n",
    "import gc\n",
    "total_step = len(train_loader)\n",
    "curr_lr = learning_rate\n",
    "for epoch in range(num_epochs):\n",
    "    gc.collect()\n",
    "    torch.cuda.empty_cache()\n",
    "    for i, (images, labels) in enumerate(train_loader):\n",
    "        images = images.to(device)\n",
    "        labels = labels.to(device)\n",
    "        \n",
    "        # Forward pass\n",
    "        outputs = model(images)\n",
    "        loss = criterion(outputs, labels)\n",
    "        \n",
    "        # Backward and optimize\n",
    "        optimizer.zero_grad()\n",
    "        loss.backward()\n",
    "        optimizer.step()\n",
    "        \n",
    "        if (i+1) % 100 == 0:\n",
    "            print ('Epoch [{}/{}], Step [{}/{}], Loss {:.4f}'.format(epoch+1, num_epochs, i+1, total_step, loss.item()))\n",
    "            \n",
    "    # Decay learning rate\n",
    "    if (epoch+1) % 20 == 0:\n",
    "        curr_lr /= 3\n",
    "        update_lr(optimizer, curr_lr)"
   ]
  },
  {
   "cell_type": "code",
   "execution_count": null,
   "id": "90414fed-00e1-46c4-a648-e901a3e07dc1",
   "metadata": {},
   "outputs": [],
   "source": [
    "# Test the mdoel.\n",
    "model.eval()\n",
    "with torch.no_grad():\n",
    "    correct = 0\n",
    "    total = 0\n",
    "    for images, labels in test_loader:\n",
    "        images = images.to(device)\n",
    "        labels = labels.to(device)\n",
    "        outputs = model(images)\n",
    "        _, predicted = torch.max(outputs.data, 1)\n",
    "        total += labels.size(0)\n",
    "        correct += (predicted == labels).sum().item()\n",
    "        \n",
    "    print('Accuracy of the model on the test images: {} %'.format(100 * correct / total))"
   ]
  },
  {
   "cell_type": "code",
   "execution_count": null,
   "id": "392cf5b3-6dbf-4342-a258-8e183f6be310",
   "metadata": {},
   "outputs": [],
   "source": [
    "# Save the model checkpoint.\n",
    "torch.save(model.state_dict(), 'VGG-19.ckpt')"
   ]
  },
  {
   "cell_type": "code",
   "execution_count": null,
   "id": "83351285-afbc-4a6c-aae9-12afb11c51ec",
   "metadata": {},
   "outputs": [],
   "source": []
  }
 ],
 "metadata": {
  "kernelspec": {
   "display_name": "pytorch",
   "language": "python",
   "name": "pytorch"
  },
  "language_info": {
   "codemirror_mode": {
    "name": "ipython",
    "version": 3
   },
   "file_extension": ".py",
   "mimetype": "text/x-python",
   "name": "python",
   "nbconvert_exporter": "python",
   "pygments_lexer": "ipython3",
   "version": "3.8.12"
  },
  "widgets": {
   "application/vnd.jupyter.widget-state+json": {
    "state": {},
    "version_major": 2,
    "version_minor": 0
   }
  }
 },
 "nbformat": 4,
 "nbformat_minor": 5
}
