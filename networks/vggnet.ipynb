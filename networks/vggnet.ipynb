{
 "cells": [
  {
   "cell_type": "markdown",
   "id": "38a34dc1-0eba-4916-8be4-b3f80dc496c2",
   "metadata": {},
   "source": [
    "# VGGNet"
   ]
  },
  {
   "cell_type": "markdown",
   "id": "6f14471c-64ba-458a-a8a5-3c0752c2c53a",
   "metadata": {},
   "source": [
    "## Load Dependent Packages"
   ]
  },
  {
   "cell_type": "code",
   "execution_count": 1,
   "id": "a6a24f56-2d0f-460b-81ae-54ef6ab7e5e2",
   "metadata": {},
   "outputs": [],
   "source": [
    "import torch\n",
    "import torchvision"
   ]
  },
  {
   "cell_type": "markdown",
   "id": "c7f25aa6-41f2-48cf-815b-8f67ec5b8f26",
   "metadata": {},
   "source": [
    "## Device Configuration: CPU or GPU"
   ]
  },
  {
   "cell_type": "code",
   "execution_count": 2,
   "id": "a3508b2d-d7e1-4e02-921f-1e256a8bd508",
   "metadata": {},
   "outputs": [],
   "source": [
    "device = torch.device('cuda' if torch.cuda.is_available() else 'cpu')"
   ]
  },
  {
   "cell_type": "markdown",
   "id": "e8897e93-69c0-4aa3-a734-16d90949417e",
   "metadata": {},
   "source": [
    "## Select Hyper Parameters"
   ]
  },
  {
   "cell_type": "code",
   "execution_count": 3,
   "id": "32680b81-2bee-43b6-986c-1f1efe992e9f",
   "metadata": {},
   "outputs": [],
   "source": [
    "num_epochs = 80\n",
    "batch_size = 100\n",
    "learning_rate = 0.001\n",
    "num_classes = 10"
   ]
  },
  {
   "cell_type": "markdown",
   "id": "673659fb-1db7-478c-954e-bf77cd252c75",
   "metadata": {},
   "source": [
    "## Transform Configuration and Data Augmentation"
   ]
  },
  {
   "cell_type": "code",
   "execution_count": 4,
   "id": "7cb4a428-016c-49b8-bd89-0e928a8a3237",
   "metadata": {},
   "outputs": [],
   "source": [
    "transform_train = torchvision.transforms.Compose([torchvision.transforms.Pad(4),\n",
    "                                                  torchvision.transforms.RandomHorizontalFlip(),\n",
    "                                                  torchvision.transforms.RandomCrop(32),\n",
    "                                                  torchvision.transforms.ToTensor(),\n",
    "                                                  torchvision.transforms.Normalize([0.5, 0.5, 0.5], [0.5, 0.5, 0.5])])\n",
    "\n",
    "transform_test = torchvision.transforms.Compose([torchvision.transforms.ToTensor(),\n",
    "                                                 torchvision.transforms.Normalize([0.5, 0.5, 0.5], [0.5, 0.5, 0.5])])"
   ]
  },
  {
   "cell_type": "markdown",
   "id": "e70ea00b-c58a-4eef-b5db-f72b263ba241",
   "metadata": {},
   "source": [
    "## Load Downloaded Dataset"
   ]
  },
  {
   "cell_type": "code",
   "execution_count": 5,
   "id": "df84af47-30c1-4e47-82ac-ff7c6c0f899b",
   "metadata": {},
   "outputs": [],
   "source": [
    "train_dataset = torchvision.datasets.CIFAR10('../data/CIFAR10/', download=False, train=True, transform=transform_train)\n",
    "test_dataset = torchvision.datasets.CIFAR10('../data/CIFAR10/', download=False, train=False, transform=transform_test)"
   ]
  },
  {
   "cell_type": "markdown",
   "id": "4f2d738b-d20d-40d6-aa70-409b7ab0dc63",
   "metadata": {},
   "source": [
    "## Set Data Loader (Input Pipeline)"
   ]
  },
  {
   "cell_type": "code",
   "execution_count": 6,
   "id": "af85748e-9ea4-46de-ac1c-3b63e36003ce",
   "metadata": {},
   "outputs": [],
   "source": [
    "train_loader = torch.utils.data.DataLoader(dataset=train_dataset, batch_size=batch_size, shuffle=True)\n",
    "test_loader = torch.utils.data.DataLoader(dataset=test_dataset, batch_size=batch_size, shuffle=False)"
   ]
  },
  {
   "cell_type": "markdown",
   "id": "1266123e-5120-4f5d-9eb9-e9843bc6dd75",
   "metadata": {},
   "source": [
    "## Define VGG-16 and VGG-19"
   ]
  },
  {
   "cell_type": "code",
   "execution_count": 7,
   "id": "63632dd4-a8f0-4e1f-a20b-82581b90ce01",
   "metadata": {},
   "outputs": [],
   "source": [
    "cfg = {\n",
    "    'VGG-16': [64, 64, 'M', 128, 128, 'M', 256, 256, 256, 'M', 512, 512, 512, 'M', 512, 512, 512, 'M'], \n",
    "    'VGG-19': [64, 64, 'M', 128, 128, 'M', 256, 256, 256, 256, 'M', 512, 512, 512, 512, 'M', 512, 512, 512, 512,'M']\n",
    "}\n",
    "\n",
    "# VGG-16 and VGG-19\n",
    "class VGGNet(torch.nn.Module):\n",
    "    def __init__(self, VGG_type, num_classes):\n",
    "        super(VGGNet, self).__init__()\n",
    "        self.features = self._make_layers(cfg[VGG_type])\n",
    "        self.classifier = torch.nn.Linear(512, num_classes)\n",
    "        \n",
    "    def forward(self, x):\n",
    "        out = self.features(x)\n",
    "        out = out.view(out.size(0), -1)\n",
    "        out = self.classifier(out)\n",
    "        return out\n",
    "    \n",
    "    def _make_layers(self, cfg):\n",
    "        layers = []\n",
    "        in_channels = 3\n",
    "        for x in cfg:\n",
    "            if x == 'M': # MaxPool2d\n",
    "                layers += [torch.nn.MaxPool2d(kernel_size=2, stride=2)]\n",
    "            else:\n",
    "                layers += [torch.nn.Conv2d(in_channels, x, kernel_size=3, padding=1),\n",
    "                           torch.nn.BatchNorm2d(x),\n",
    "                           torch.nn.ReLU(inplace=True)]\n",
    "                in_channels = x\n",
    "        layers += [torch.nn.AvgPool2d(kernel_size=1, stride=1)]\n",
    "        return torch.nn.Sequential(*layers) # The number of parameters is more than one."
   ]
  },
  {
   "cell_type": "markdown",
   "id": "24b8247a-70ef-460c-971c-3e30f2ebf17b",
   "metadata": {},
   "source": [
    "## Make Model with net_name"
   ]
  },
  {
   "cell_type": "code",
   "execution_count": 9,
   "id": "d154898d-a888-4f37-93f7-b688148d9d71",
   "metadata": {},
   "outputs": [],
   "source": [
    "net_name = 'VGG-19'\n",
    "model = VGGNet(net_name, num_classes).to(device)"
   ]
  },
  {
   "cell_type": "markdown",
   "id": "fb1637c9-c06e-491a-8d6b-71fba229ffaf",
   "metadata": {},
   "source": [
    "## Loss and Optimizer"
   ]
  },
  {
   "cell_type": "code",
   "execution_count": 10,
   "id": "8a7c1f9f-2024-4166-8094-4a67f1e22ad2",
   "metadata": {},
   "outputs": [],
   "source": [
    "criterion = torch.nn.CrossEntropyLoss()\n",
    "optimizer = torch.optim.Adam(model.parameters(), lr=learning_rate)"
   ]
  },
  {
   "cell_type": "markdown",
   "id": "2fc7c745-7ffd-4843-9ef8-2fb08c679e44",
   "metadata": {},
   "source": [
    "### Update Learning Rate"
   ]
  },
  {
   "cell_type": "code",
   "execution_count": 11,
   "id": "f6cead8e-fb1e-4007-b542-9204a9b45979",
   "metadata": {},
   "outputs": [],
   "source": [
    "def update_lr(optimizer, lr):\n",
    "    for param_group in optimizer.param_groups:\n",
    "        param_group['lr'] = lr"
   ]
  },
  {
   "cell_type": "markdown",
   "id": "e5cb7a8e-2efb-4c54-847b-b3b210049e15",
   "metadata": {},
   "source": [
    "## Train Model with Batch"
   ]
  },
  {
   "cell_type": "code",
   "execution_count": null,
   "id": "b261c220-b417-4651-bb0a-2810acb1e4f1",
   "metadata": {},
   "outputs": [
    {
     "name": "stdout",
     "output_type": "stream",
     "text": [
      "Epoch [1/80], Step [100/500], Loss 1.6919\n",
      "Epoch [1/80], Step [200/500], Loss 1.3388\n",
      "Epoch [1/80], Step [300/500], Loss 1.3001\n",
      "Epoch [1/80], Step [400/500], Loss 1.2932\n",
      "Epoch [1/80], Step [500/500], Loss 1.0757\n",
      "Epoch [2/80], Step [100/500], Loss 0.9988\n",
      "Epoch [2/80], Step [200/500], Loss 1.2330\n",
      "Epoch [2/80], Step [300/500], Loss 0.9244\n",
      "Epoch [2/80], Step [400/500], Loss 0.7698\n",
      "Epoch [2/80], Step [500/500], Loss 1.0753\n",
      "Epoch [3/80], Step [100/500], Loss 0.8556\n",
      "Epoch [3/80], Step [200/500], Loss 1.1296\n",
      "Epoch [3/80], Step [300/500], Loss 0.9370\n",
      "Epoch [3/80], Step [400/500], Loss 0.7062\n",
      "Epoch [3/80], Step [500/500], Loss 0.8892\n"
     ]
    }
   ],
   "source": [
    "import gc\n",
    "total_step = len(train_loader)\n",
    "curr_lr = learning_rate\n",
    "for epoch in range(num_epochs):\n",
    "    gc.collect()\n",
    "    torch.cuda.empty_cache()\n",
    "    for i, (images, labels) in enumerate(train_loader):\n",
    "        images = images.to(device)\n",
    "        labels = labels.to(device)\n",
    "        \n",
    "        # Forward pass\n",
    "        outputs = model(images)\n",
    "        loss = criterion(outputs, labels)\n",
    "        \n",
    "        # Backward and optimize\n",
    "        optimizer.zero_grad()\n",
    "        loss.backward()\n",
    "        optimizer.step()\n",
    "        \n",
    "        if (i+1) % 100 == 0:\n",
    "            print ('Epoch [{}/{}], Step [{}/{}], Loss {:.4f}'.format(epoch+1, num_epochs, i+1, total_step, loss.item()))\n",
    "            \n",
    "    # Decay learning rate\n",
    "    if (epoch+1) % 20 == 0:\n",
    "        curr_lr /= 3\n",
    "        update_lr(optimizer, curr_lr)"
   ]
  },
  {
   "cell_type": "markdown",
   "id": "353665d7-b6ca-4ed8-b7ae-0ffb5d41e014",
   "metadata": {},
   "source": [
    "## Test Model with .eval()"
   ]
  },
  {
   "cell_type": "code",
   "execution_count": null,
   "id": "bcc7c10c-7475-4fbc-b778-093e936a0e8d",
   "metadata": {},
   "outputs": [],
   "source": [
    "model.eval()\n",
    "with torch.no_grad():\n",
    "    correct = 0\n",
    "    total = 0\n",
    "    for images, labels in test_loader:\n",
    "        images = images.to(device)\n",
    "        labels = labels.to(device)\n",
    "        outputs = model(images)\n",
    "        _, predicted = torch.max(outputs.data, 1)\n",
    "        total += labels.size(0)\n",
    "        correct += (predicted == labels).sum().item()\n",
    "        \n",
    "    print('Accuracy of the model on the test images: {} %'.format(100 * correct / total))"
   ]
  },
  {
   "cell_type": "markdown",
   "id": "1813ff40-44e5-488c-93f0-d11ffa0f0525",
   "metadata": {},
   "source": [
    "## Save the Model Checkpoint"
   ]
  },
  {
   "cell_type": "code",
   "execution_count": null,
   "id": "1c18c09b-ecf8-4b3d-ab37-949f4ea1fea1",
   "metadata": {},
   "outputs": [],
   "source": [
    "torch.save(model.state_dict(), 'VGG-19.ckpt')"
   ]
  },
  {
   "cell_type": "code",
   "execution_count": null,
   "id": "83351285-afbc-4a6c-aae9-12afb11c51ec",
   "metadata": {},
   "outputs": [],
   "source": []
  }
 ],
 "metadata": {
  "kernelspec": {
   "display_name": "pytorch",
   "language": "python",
   "name": "pytorch"
  },
  "language_info": {
   "codemirror_mode": {
    "name": "ipython",
    "version": 3
   },
   "file_extension": ".py",
   "mimetype": "text/x-python",
   "name": "python",
   "nbconvert_exporter": "python",
   "pygments_lexer": "ipython3",
   "version": "3.8.13"
  },
  "widgets": {
   "application/vnd.jupyter.widget-state+json": {
    "state": {},
    "version_major": 2,
    "version_minor": 0
   }
  }
 },
 "nbformat": 4,
 "nbformat_minor": 5
}
