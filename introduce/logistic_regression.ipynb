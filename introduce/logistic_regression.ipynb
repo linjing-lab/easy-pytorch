{
 "cells": [
  {
   "cell_type": "markdown",
   "id": "bafbad7e-d2de-45ab-ab78-2ae418cb6753",
   "metadata": {},
   "source": [
    "# Logistic Regression"
   ]
  },
  {
   "cell_type": "markdown",
   "id": "34ba2c1a-90f1-459a-a347-53ce652e5482",
   "metadata": {},
   "source": [
    "## Load Dependent Packages"
   ]
  },
  {
   "cell_type": "code",
   "execution_count": 1,
   "id": "308849bc-860d-4a77-954e-944d08105782",
   "metadata": {},
   "outputs": [],
   "source": [
    "import torch\n",
    "import torchvision"
   ]
  },
  {
   "cell_type": "markdown",
   "id": "b14cf5bd-bf2b-49f3-b389-a5391d7e4ef4",
   "metadata": {},
   "source": [
    "## Select Hyper Parameters"
   ]
  },
  {
   "cell_type": "code",
   "execution_count": 2,
   "id": "119a1dcf-3d4d-4ad6-a506-17ca43315a68",
   "metadata": {},
   "outputs": [],
   "source": [
    "# Hyper-parameters\n",
    "input_size = 28 * 28\n",
    "num_classes = 10\n",
    "num_epochs = 5\n",
    "batch_size = 100\n",
    "learning_rate = 0.5"
   ]
  },
  {
   "cell_type": "markdown",
   "id": "eed5b80b-9364-48c4-9b75-f032b4960dc2",
   "metadata": {},
   "source": [
    "Download Dataset from Online:\n",
    "```python\n",
    "train_dataset = torchvision.datasets.MNIST(root='../data/MNIST', train=True, transform=torchvision.transforms.ToTensor(), download=True)\n",
    "test_dataset = torchvision.datasets.MNIST(root='../data/MNIST', train=False, transform=torchvision.transfroms.ToTensor(), download=True)\n",
    "```"
   ]
  },
  {
   "cell_type": "markdown",
   "id": "b7a500b9-8bdc-4e71-8777-4d14ff185441",
   "metadata": {},
   "source": [
    "## Define Dataset Class"
   ]
  },
  {
   "cell_type": "code",
   "execution_count": 3,
   "id": "3789e69c-f206-4150-832a-15f14b6e9274",
   "metadata": {},
   "outputs": [],
   "source": [
    "import numpy as np\n",
    "import gzip\n",
    "import os\n",
    "class MNISTDataset(torch.utils.data.Dataset):\n",
    "    def __init__(self, root, train=True, transform=None):\n",
    "        # The file name prefix is obtained according to whether it is a training set or not.\n",
    "        self.file_pre = 'train' if train == True else 't10k'\n",
    "        self.transform = transform\n",
    "\n",
    "        # Generate the image and label file path of the corresponding dataset.\n",
    "        self.label_path = os.path.join(root, '%s-labels-idx1-ubyte.gz' % self.file_pre)\n",
    "        self.image_path = os.path.join(root, '%s-images-idx3-ubyte.gz' % self.file_pre)\n",
    "\n",
    "        # Read file data and return pictures and labels.\n",
    "        self.images, self.labels = self.__read_data__(self.image_path, self.label_path)\n",
    "\n",
    "    def __read_data__(self, image_path, label_path):\n",
    "        # Data set reading.\n",
    "        with gzip.open(label_path, 'rb') as lbpath:\n",
    "            labels = np.frombuffer(lbpath.read(), np.uint8, offset=8)\n",
    "        with gzip.open(image_path, 'rb') as imgpath:\n",
    "            images = np.frombuffer(imgpath.read(), np.uint8, offset=16).reshape(len(labels), 28, 28)\n",
    "        return images, labels\n",
    "\n",
    "    def __getitem__(self, index):\n",
    "        image, label = self.images[index], int(self.labels[index])\n",
    "        \n",
    "        # If you need to convert to tensor, use tansform.\n",
    "        if self.transform is not None:\n",
    "            image = self.transform(np.array(image))  # Avoid bug: use np.array\n",
    "        return image, label\n",
    "\n",
    "    def __len__(self):\n",
    "        return len(self.labels)"
   ]
  },
  {
   "cell_type": "markdown",
   "id": "a87aad8e-9bdf-4a95-976f-9b49eaf4d47b",
   "metadata": {},
   "source": [
    "## Load through Local Dataset"
   ]
  },
  {
   "cell_type": "code",
   "execution_count": 4,
   "id": "4f02d712-f7c3-435b-9b6f-ec991c45027d",
   "metadata": {},
   "outputs": [],
   "source": [
    "# MNIST dataset (images and labels)\n",
    "train_dataset = MNISTDataset('../data/MNIST/', transform=torchvision.transforms.ToTensor())\n",
    "test_dataset = MNISTDataset('../data/MNIST/', train=False, transform=torchvision.transforms.ToTensor())"
   ]
  },
  {
   "cell_type": "markdown",
   "id": "af6fa02e-8634-4d33-84b2-147c2eaffb16",
   "metadata": {},
   "source": [
    "## Set Data loader (Input Pipeline)"
   ]
  },
  {
   "cell_type": "code",
   "execution_count": 5,
   "id": "6e7384f1-eefd-4411-8fc9-3c0e865536bb",
   "metadata": {},
   "outputs": [],
   "source": [
    "train_loader = torch.utils.data.DataLoader(dataset=train_dataset, batch_size=batch_size, shuffle=True)\n",
    "test_loader = torch.utils.data.DataLoader(dataset=test_dataset, batch_size=batch_size, shuffle=False)"
   ]
  },
  {
   "cell_type": "markdown",
   "id": "e3abc9d2-d3e3-4a3c-bbe1-a857cf178235",
   "metadata": {},
   "source": [
    "## Logistic Regression Model"
   ]
  },
  {
   "cell_type": "code",
   "execution_count": 6,
   "id": "0fc5c03b-4726-443c-b167-ff5359ab22d7",
   "metadata": {},
   "outputs": [],
   "source": [
    "model = torch.nn.Linear(input_size, num_classes)"
   ]
  },
  {
   "cell_type": "code",
   "execution_count": 7,
   "id": "44f6d6bc-a771-430b-864b-d5a4528ae07e",
   "metadata": {},
   "outputs": [
    {
     "name": "stdout",
     "output_type": "stream",
     "text": [
      "Linear(in_features=784, out_features=10, bias=True)\n"
     ]
    }
   ],
   "source": [
    "print(model)"
   ]
  },
  {
   "cell_type": "markdown",
   "id": "198af1de-d6ae-460f-8b4e-08d3f63b1cbc",
   "metadata": {},
   "source": [
    "## Loss and Optimizer"
   ]
  },
  {
   "cell_type": "code",
   "execution_count": 8,
   "id": "70a550ba-661a-417a-a359-3063b53400fc",
   "metadata": {},
   "outputs": [],
   "source": [
    "criterion = torch.nn.CrossEntropyLoss() # nn.CrossEntropyLoss() computes softmax internally\n",
    "optimizer = torch.optim.SGD(model.parameters(), lr=learning_rate)"
   ]
  },
  {
   "cell_type": "markdown",
   "id": "fd398d6d-74b3-4b66-809e-17532e6be1de",
   "metadata": {},
   "source": [
    "## Train Model with CPU"
   ]
  },
  {
   "cell_type": "code",
   "execution_count": 9,
   "id": "6e2fea0a-e964-45f4-be14-95bf03e52c9d",
   "metadata": {},
   "outputs": [
    {
     "name": "stdout",
     "output_type": "stream",
     "text": [
      "Epoch [1/5], Step [100/600], Loss: 0.5635\n",
      "Epoch [1/5], Step [200/600], Loss: 0.3512\n",
      "Epoch [1/5], Step [300/600], Loss: 0.2914\n",
      "Epoch [1/5], Step [400/600], Loss: 0.2715\n",
      "Epoch [1/5], Step [500/600], Loss: 0.3056\n",
      "Epoch [1/5], Step [600/600], Loss: 0.1922\n",
      "Epoch [2/5], Step [100/600], Loss: 0.3942\n",
      "Epoch [2/5], Step [200/600], Loss: 0.4073\n",
      "Epoch [2/5], Step [300/600], Loss: 0.3201\n",
      "Epoch [2/5], Step [400/600], Loss: 0.4200\n",
      "Epoch [2/5], Step [500/600], Loss: 0.2857\n",
      "Epoch [2/5], Step [600/600], Loss: 0.2606\n",
      "Epoch [3/5], Step [100/600], Loss: 0.3036\n",
      "Epoch [3/5], Step [200/600], Loss: 0.2816\n",
      "Epoch [3/5], Step [300/600], Loss: 0.3356\n",
      "Epoch [3/5], Step [400/600], Loss: 0.2491\n",
      "Epoch [3/5], Step [500/600], Loss: 0.1818\n",
      "Epoch [3/5], Step [600/600], Loss: 0.2922\n",
      "Epoch [4/5], Step [100/600], Loss: 0.4220\n",
      "Epoch [4/5], Step [200/600], Loss: 0.2750\n",
      "Epoch [4/5], Step [300/600], Loss: 0.3386\n",
      "Epoch [4/5], Step [400/600], Loss: 0.3740\n",
      "Epoch [4/5], Step [500/600], Loss: 0.3123\n",
      "Epoch [4/5], Step [600/600], Loss: 0.2854\n",
      "Epoch [5/5], Step [100/600], Loss: 0.2066\n",
      "Epoch [5/5], Step [200/600], Loss: 0.1816\n",
      "Epoch [5/5], Step [300/600], Loss: 0.3088\n",
      "Epoch [5/5], Step [400/600], Loss: 0.2741\n",
      "Epoch [5/5], Step [500/600], Loss: 0.2889\n",
      "Epoch [5/5], Step [600/600], Loss: 0.2514\n"
     ]
    }
   ],
   "source": [
    "total_steps = len(train_loader)\n",
    "for epoch in range(num_epochs):\n",
    "    for i, (images, labels) in enumerate(train_loader):\n",
    "        # Reshape images to (batch_size, input_size)\n",
    "        images = images.reshape(-1, input_size)\n",
    "        \n",
    "        # Forward pass\n",
    "        outputs = model(images)\n",
    "        loss = criterion(outputs, labels)\n",
    "        \n",
    "        # Backward and optimize\n",
    "        optimizer.zero_grad()\n",
    "        loss.backward()\n",
    "        optimizer.step()\n",
    "        \n",
    "        if (i+1) % 100 == 0:\n",
    "            print ('Epoch [{}/{}], Step [{}/{}], Loss: {:.4f}'.format(epoch+1, num_epochs, i+1, total_steps, loss.item()))"
   ]
  },
  {
   "cell_type": "markdown",
   "id": "caa6b051-5407-435d-bded-9a2b06b59499",
   "metadata": {},
   "source": [
    "## Test Model with no_grad"
   ]
  },
  {
   "cell_type": "code",
   "execution_count": 10,
   "id": "a6552501-47fa-45e8-9f1e-7488defc7fcf",
   "metadata": {},
   "outputs": [
    {
     "name": "stdout",
     "output_type": "stream",
     "text": [
      "Accuracy of the model on the 10000 test images: 92.08000183105469 %\n"
     ]
    }
   ],
   "source": [
    "with torch.no_grad(): # no need to compute gradients (for memory efficiency)\n",
    "    correct = 0\n",
    "    total = 0\n",
    "    for images, labels in test_loader:\n",
    "        images = images.reshape(-1, input_size)\n",
    "        outputs = model(images)\n",
    "        # Find the maximum value of the prediction category probability of each row of samples, and 1 represents the row.(values, type)\n",
    "        _, predicted = torch.max(outputs.data, 1)\n",
    "        total += labels.size(0)\n",
    "        correct += (predicted == labels).sum()\n",
    "    print ('Accuracy of the model on the 10000 test images: {} %'.format(100 * correct / total))"
   ]
  },
  {
   "cell_type": "markdown",
   "id": "f6442540-5a7e-4233-95db-189c6ca54ff6",
   "metadata": {},
   "source": [
    "## Save the Model Checkpoint"
   ]
  },
  {
   "cell_type": "code",
   "execution_count": 11,
   "id": "577500bd-eac9-4218-9bf3-655d431b96e0",
   "metadata": {},
   "outputs": [],
   "source": [
    "torch.save(model.state_dict(), 'logistic_regression.ckpt')"
   ]
  },
  {
   "cell_type": "code",
   "execution_count": null,
   "id": "294f1f23-85cb-46e2-b85e-72efa4889031",
   "metadata": {},
   "outputs": [],
   "source": []
  }
 ],
 "metadata": {
  "kernelspec": {
   "display_name": "pytorch",
   "language": "python",
   "name": "pytorch"
  },
  "language_info": {
   "codemirror_mode": {
    "name": "ipython",
    "version": 3
   },
   "file_extension": ".py",
   "mimetype": "text/x-python",
   "name": "python",
   "nbconvert_exporter": "python",
   "pygments_lexer": "ipython3",
   "version": "3.8.13"
  },
  "widgets": {
   "application/vnd.jupyter.widget-state+json": {
    "state": {},
    "version_major": 2,
    "version_minor": 0
   }
  }
 },
 "nbformat": 4,
 "nbformat_minor": 5
}
