{
 "cells": [
  {
   "cell_type": "markdown",
   "id": "7cb26c38-3b79-4c33-9151-d8697661478c",
   "metadata": {},
   "source": [
    "# Feedforward Neural Network\n",
    "https://cuijiahua.com/blog/2018/11/dl-9.html"
   ]
  },
  {
   "cell_type": "code",
   "execution_count": 1,
   "id": "dbcfd04c-90da-4187-afd3-6556f6bf3473",
   "metadata": {},
   "outputs": [],
   "source": [
    "# import packages\n",
    "import torch\n",
    "import torchvision"
   ]
  },
  {
   "cell_type": "code",
   "execution_count": 2,
   "id": "eb10ee3b-da40-426d-bb10-f0e33f984916",
   "metadata": {},
   "outputs": [],
   "source": [
    "# Device configuration\n",
    "device = torch.device('cuda' if torch.cuda.is_available() else 'cpu')"
   ]
  },
  {
   "cell_type": "code",
   "execution_count": 3,
   "id": "14018a2d-c208-402c-bcd3-108f31f00157",
   "metadata": {},
   "outputs": [],
   "source": [
    "# Hyper-parameters\n",
    "input_size = 28 * 28\n",
    "hidden_size = 500\n",
    "num_classes = 10\n",
    "num_epochs = 5\n",
    "batch_size = 100\n",
    "learning_rate = 0.01"
   ]
  },
  {
   "cell_type": "code",
   "execution_count": 4,
   "id": "93a91937-e917-4718-a1e9-18fee8086ca8",
   "metadata": {},
   "outputs": [],
   "source": [
    "import numpy as np\n",
    "import gzip\n",
    "import os\n",
    "class MNISTDataset(torch.utils.data.Dataset):\n",
    "    def __init__(self, root, train=True, transform=None):\n",
    "        # The file name prefix is obtained according to whether it is a training set or not.\n",
    "        self.file_pre = 'train' if train == True else 't10k'\n",
    "        self.transform = transform\n",
    "\n",
    "        # Generate the image and label file path of the corresponding dataset.\n",
    "        self.label_path = os.path.join(root, '%s-labels-idx1-ubyte.gz' % self.file_pre)\n",
    "        self.image_path = os.path.join(root, '%s-images-idx3-ubyte.gz' % self.file_pre)\n",
    "\n",
    "        # Read file data and return pictures and labels.\n",
    "        self.images, self.labels = self.__read_data__(self.image_path, self.label_path)\n",
    "\n",
    "    def __read_data__(self, image_path, label_path):\n",
    "        # Data set reading.\n",
    "        with gzip.open(label_path, 'rb') as lbpath:\n",
    "            labels = np.frombuffer(lbpath.read(), np.uint8, offset=8)\n",
    "        with gzip.open(image_path, 'rb') as imgpath:\n",
    "            images = np.frombuffer(imgpath.read(), np.uint8, offset=16).reshape(len(labels), 28, 28)\n",
    "        return images, labels\n",
    "\n",
    "    def __getitem__(self, index):\n",
    "        image, label = self.images[index], int(self.labels[index])\n",
    "        \n",
    "        # If you need to convert to tensor, use tansform.\n",
    "        if self.transform is not None:\n",
    "            image = self.transform(np.array(image))  # Avoid bug: use np.array\n",
    "        return image, label\n",
    "\n",
    "    def __len__(self):\n",
    "        return len(self.labels)"
   ]
  },
  {
   "cell_type": "code",
   "execution_count": 5,
   "id": "88a5c36a-0cd4-494a-829c-6e2d6d0b607c",
   "metadata": {},
   "outputs": [],
   "source": [
    "# MNIST dataset (images and labels)\n",
    "train_dataset = MNISTDataset('../data/MNIST/', transform=torchvision.transforms.ToTensor())\n",
    "test_dataset = MNISTDataset('../data/MNIST/', train=False, transform=torchvision.transforms.ToTensor())"
   ]
  },
  {
   "cell_type": "code",
   "execution_count": 6,
   "id": "eb958c2e-05a2-45a3-8c0f-3e274d5f64e7",
   "metadata": {},
   "outputs": [],
   "source": [
    "# Data loader\n",
    "train_loader = torch.utils.data.DataLoader(dataset=train_dataset, batch_size=batch_size, shuffle=True)\n",
    "test_loader = torch.utils.data.DataLoader(dataset=test_dataset, batch_size=batch_size, shuffle=False)"
   ]
  },
  {
   "cell_type": "code",
   "execution_count": 7,
   "id": "77b49982-67af-4945-b889-a5d15921b75a",
   "metadata": {},
   "outputs": [],
   "source": [
    "# Fully connected neural network with one hidden layer\n",
    "class NeuralNet(torch.nn.Module):\n",
    "    def __init__(self, input_size, hidden_size, num_classes):\n",
    "        super(NeuralNet, self).__init__()\n",
    "        self.fc1 = torch.nn.Linear(input_size, hidden_size)\n",
    "        self.relu = torch.nn.ReLU()\n",
    "        self.fc2 = torch.nn.Linear(hidden_size, num_classes)\n",
    "    \n",
    "    def forward(self, x):\n",
    "        output = self.fc1(x)\n",
    "        output = self.relu(output)\n",
    "        output = self.fc2(output)\n",
    "        return output"
   ]
  },
  {
   "cell_type": "code",
   "execution_count": 8,
   "id": "1b02a292-ad98-4f09-abd0-b29baade40d6",
   "metadata": {},
   "outputs": [],
   "source": [
    "# Make model\n",
    "model = NeuralNet(input_size, hidden_size, num_classes).to(device)"
   ]
  },
  {
   "cell_type": "code",
   "execution_count": 9,
   "id": "95b77ca2-3e3f-4c05-879f-25750dabc3b2",
   "metadata": {},
   "outputs": [],
   "source": [
    "# Loss and optimizer\n",
    "criterion = torch.nn.CrossEntropyLoss()\n",
    "optimizer = torch.optim.Adam(model.parameters(), lr = learning_rate)"
   ]
  },
  {
   "cell_type": "code",
   "execution_count": 10,
   "id": "dbb9e4a1-d813-424a-ab2b-552cae68a0b3",
   "metadata": {},
   "outputs": [
    {
     "name": "stdout",
     "output_type": "stream",
     "text": [
      "Epoch [1/5], Step [100/600], Loss: 0.1497\n",
      "Epoch [1/5], Step [200/600], Loss: 0.1784\n",
      "Epoch [1/5], Step [300/600], Loss: 0.1305\n",
      "Epoch [1/5], Step [400/600], Loss: 0.2647\n",
      "Epoch [1/5], Step [500/600], Loss: 0.0610\n",
      "Epoch [1/5], Step [600/600], Loss: 0.1270\n",
      "Epoch [2/5], Step [100/600], Loss: 0.0852\n",
      "Epoch [2/5], Step [200/600], Loss: 0.1298\n",
      "Epoch [2/5], Step [300/600], Loss: 0.1569\n",
      "Epoch [2/5], Step [400/600], Loss: 0.1664\n",
      "Epoch [2/5], Step [500/600], Loss: 0.1579\n",
      "Epoch [2/5], Step [600/600], Loss: 0.1103\n",
      "Epoch [3/5], Step [100/600], Loss: 0.0402\n",
      "Epoch [3/5], Step [200/600], Loss: 0.2022\n",
      "Epoch [3/5], Step [300/600], Loss: 0.0964\n",
      "Epoch [3/5], Step [400/600], Loss: 0.0559\n",
      "Epoch [3/5], Step [500/600], Loss: 0.3254\n",
      "Epoch [3/5], Step [600/600], Loss: 0.0056\n",
      "Epoch [4/5], Step [100/600], Loss: 0.1022\n",
      "Epoch [4/5], Step [200/600], Loss: 0.0503\n",
      "Epoch [4/5], Step [300/600], Loss: 0.0574\n",
      "Epoch [4/5], Step [400/600], Loss: 0.0434\n",
      "Epoch [4/5], Step [500/600], Loss: 0.1882\n",
      "Epoch [4/5], Step [600/600], Loss: 0.0897\n",
      "Epoch [5/5], Step [100/600], Loss: 0.0414\n",
      "Epoch [5/5], Step [200/600], Loss: 0.0072\n",
      "Epoch [5/5], Step [300/600], Loss: 0.0489\n",
      "Epoch [5/5], Step [400/600], Loss: 0.0390\n",
      "Epoch [5/5], Step [500/600], Loss: 0.0055\n",
      "Epoch [5/5], Step [600/600], Loss: 0.0403\n"
     ]
    }
   ],
   "source": [
    "# Train the model\n",
    "total_step = len(train_loader)\n",
    "for epoch in range(num_epochs):\n",
    "    for i, (images, labels) in enumerate(train_loader):\n",
    "        # Move tensors to configured device\n",
    "        # images.size = (batchsize, channels, x, y)\n",
    "        # images = images.reshape(images.size(0), -1).to(device)\n",
    "        images = images.reshape(-1, input_size).to(device)\n",
    "        labels = labels.to(device)\n",
    "        \n",
    "        # Forward pass\n",
    "        outputs = model(images)\n",
    "        loss = criterion(outputs, labels)\n",
    "        \n",
    "        # Backward and optimize\n",
    "        optimizer.zero_grad()\n",
    "        loss.backward()\n",
    "        optimizer.step()\n",
    "        \n",
    "        if (i+1) % 100 == 0:\n",
    "            print ('Epoch [{}/{}], Step [{}/{}], Loss: {:.4f}' .format(epoch+1, num_epochs, i+1, total_step, loss.item()))"
   ]
  },
  {
   "cell_type": "code",
   "execution_count": 11,
   "id": "378c3c35-ff32-486a-9135-520f6e04b41a",
   "metadata": {},
   "outputs": [
    {
     "name": "stdout",
     "output_type": "stream",
     "text": [
      "Accuracy of the network on the 10000 test images: 97.09 %\n"
     ]
    }
   ],
   "source": [
    "# Test the model\n",
    "# In test phase, we don't need to compute gradients (for memory efficiency)\n",
    "with torch.no_grad():\n",
    "    correct = 0\n",
    "    total = 0\n",
    "    for images, labels in test_loader:\n",
    "        images = images.reshape(-1, 28*28).to(device)\n",
    "        labels = labels.to(device)\n",
    "        outputs = model(images)\n",
    "        _, predicted = torch.max(outputs.data, 1)\n",
    "        total += labels.size(0)\n",
    "        correct += (predicted == labels).sum().item()\n",
    "\n",
    "    print('Accuracy of the network on the 10000 test images: {} %'.format(100 * correct / total))"
   ]
  },
  {
   "cell_type": "code",
   "execution_count": 12,
   "id": "88fe5eff-bc47-4dd4-ab7d-c79cf0a4db9b",
   "metadata": {},
   "outputs": [],
   "source": [
    "# Save the model checkpoint\n",
    "torch.save(model.state_dict(), 'feedforward_neural_network.ckpt')"
   ]
  },
  {
   "cell_type": "code",
   "execution_count": null,
   "id": "896f8dd6-c8c6-4b85-b2bc-58e475eb263f",
   "metadata": {},
   "outputs": [],
   "source": []
  }
 ],
 "metadata": {
  "kernelspec": {
   "display_name": "pytorch",
   "language": "python",
   "name": "pytorch"
  },
  "language_info": {
   "codemirror_mode": {
    "name": "ipython",
    "version": 3
   },
   "file_extension": ".py",
   "mimetype": "text/x-python",
   "name": "python",
   "nbconvert_exporter": "python",
   "pygments_lexer": "ipython3",
   "version": "3.8.12"
  },
  "widgets": {
   "application/vnd.jupyter.widget-state+json": {
    "state": {},
    "version_major": 2,
    "version_minor": 0
   }
  }
 },
 "nbformat": 4,
 "nbformat_minor": 5
}
