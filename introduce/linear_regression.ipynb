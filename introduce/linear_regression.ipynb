{
 "cells": [
  {
   "cell_type": "markdown",
   "id": "9fde1170-7703-4960-b943-0334702897b2",
   "metadata": {},
   "source": [
    "# Linear Regression"
   ]
  },
  {
   "cell_type": "markdown",
   "id": "94396244-5074-49a4-9b3e-68904fc84624",
   "metadata": {},
   "source": [
    "## Load Dependent Packages"
   ]
  },
  {
   "cell_type": "code",
   "execution_count": 1,
   "id": "ec3e2305-6edc-4360-b4aa-99e2382d3cec",
   "metadata": {},
   "outputs": [],
   "source": [
    "import torch\n",
    "import numpy as np\n",
    "import matplotlib.pyplot as plt"
   ]
  },
  {
   "cell_type": "markdown",
   "id": "9eef5d0a-6a50-4efa-a3c3-ad5fd31804dc",
   "metadata": {},
   "source": [
    "## Select Hyper Parameters"
   ]
  },
  {
   "cell_type": "code",
   "execution_count": 2,
   "id": "95f8b933-ad32-46ac-a146-1d22668e944e",
   "metadata": {},
   "outputs": [],
   "source": [
    "input_size = 1\n",
    "output_size = 1\n",
    "num_epochs = 60\n",
    "learning_rate = 0.001"
   ]
  },
  {
   "cell_type": "markdown",
   "id": "72b4c26c-bb41-4b55-8410-85e1fc802435",
   "metadata": {},
   "source": [
    "## Input Dataset and Pretreat"
   ]
  },
  {
   "cell_type": "code",
   "execution_count": 3,
   "id": "5d5eff25-e7d5-443a-8743-efc1bde64783",
   "metadata": {},
   "outputs": [],
   "source": [
    "X_train = np.array([[3.3], [4.4], [5.5], [6.71], [6.93], [4.168], \n",
    "                    [9.779], [6.182], [7.59], [2.167], [7.042], \n",
    "                    [10.791], [5.313], [7.997], [3.1]], dtype=np.float32)\n",
    "y_train = np.array([[1.7], [2.76], [2.09], [3.19], [1.694], [1.573], \n",
    "                    [3.366], [2.596], [2.53], [1.221], [2.827], \n",
    "                    [3.465], [1.65], [2.904], [1.3]], dtype=np.float32)"
   ]
  },
  {
   "cell_type": "markdown",
   "id": "d981f4cc-af26-44f4-a5a0-38c248b0a83d",
   "metadata": {},
   "source": [
    "## Linear Regression Model"
   ]
  },
  {
   "cell_type": "code",
   "execution_count": 4,
   "id": "4b824d16-e7e2-4439-b9f8-74fd28d281cc",
   "metadata": {},
   "outputs": [],
   "source": [
    "model = torch.nn.Linear(input_size, output_size)"
   ]
  },
  {
   "cell_type": "markdown",
   "id": "909bd6ec-2fb8-4870-a554-c24a2c94d672",
   "metadata": {},
   "source": [
    "## Loss and Optimizer"
   ]
  },
  {
   "cell_type": "code",
   "execution_count": 5,
   "id": "b8aae423-1a2b-4ef6-99ff-b2e5317464b5",
   "metadata": {},
   "outputs": [],
   "source": [
    "criterion = torch.nn.MSELoss()\n",
    "optimizer = torch.optim.SGD(model.parameters(), lr=learning_rate)"
   ]
  },
  {
   "cell_type": "markdown",
   "id": "f7b66fbc-b0b5-4a79-96e2-1260ab4eeb53",
   "metadata": {},
   "source": [
    "## Train Model with CPU"
   ]
  },
  {
   "cell_type": "code",
   "execution_count": 6,
   "id": "415a70ec-8461-4ea3-b409-20e126994e52",
   "metadata": {},
   "outputs": [
    {
     "name": "stdout",
     "output_type": "stream",
     "text": [
      "Epoch [5/60], Loss: 4.7176\n",
      "Epoch [10/60], Loss: 2.1193\n",
      "Epoch [15/60], Loss: 1.0664\n",
      "Epoch [20/60], Loss: 0.6395\n",
      "Epoch [25/60], Loss: 0.4663\n",
      "Epoch [30/60], Loss: 0.3959\n",
      "Epoch [35/60], Loss: 0.3671\n",
      "Epoch [40/60], Loss: 0.3552\n",
      "Epoch [45/60], Loss: 0.3500\n",
      "Epoch [50/60], Loss: 0.3477\n",
      "Epoch [55/60], Loss: 0.3465\n",
      "Epoch [60/60], Loss: 0.3457\n"
     ]
    }
   ],
   "source": [
    "for epoch in range(num_epochs):\n",
    "    # Convert numpy arrays to torch tensors.\n",
    "    inputs = torch.from_numpy(X_train)\n",
    "    targets = torch.from_numpy(y_train)\n",
    "    \n",
    "    # Forward pass\n",
    "    outputs = model(inputs)\n",
    "    loss = criterion(outputs, targets)\n",
    "    \n",
    "    # Backward and optimize\n",
    "    optimizer.zero_grad()\n",
    "    loss.backward()\n",
    "    optimizer.step()\n",
    "    \n",
    "    if (epoch+1) % 5 == 0:\n",
    "        print ('Epoch [{}/{}], Loss: {:.4f}'.format(epoch+1, num_epochs, loss.item()))"
   ]
  },
  {
   "cell_type": "markdown",
   "id": "5337ec6e-2892-49c8-879f-2c5f46d32e22",
   "metadata": {},
   "source": [
    "## Plot Image with Origin and Predicted"
   ]
  },
  {
   "cell_type": "code",
   "execution_count": 7,
   "id": "20296c05-bbfb-483b-863c-183a1e9fe5a2",
   "metadata": {},
   "outputs": [
    {
     "data": {
      "image/png": "[encoded data removed]",
      "text/plain": [
       "<Figure size 432x288 with 1 Axes>"
      ]
     },
     "metadata": {
      "needs_background": "light"
     },
     "output_type": "display_data"
    }
   ],
   "source": [
    "predicted = model(torch.from_numpy(X_train)).detach().numpy()\n",
    "plt.plot(X_train, y_train, 'ro', label='Original data')\n",
    "plt.plot(X_train, predicted, label='Fitted line')\n",
    "plt.legend()\n",
    "plt.show()"
   ]
  },
  {
   "cell_type": "markdown",
   "id": "f03b7f05-3896-493b-9c2a-dc1f4e0c189c",
   "metadata": {},
   "source": [
    "## Save the Model Checkpoint."
   ]
  },
  {
   "cell_type": "code",
   "execution_count": 8,
   "id": "9075fda0-04a3-403d-b0f9-db77e9c777cb",
   "metadata": {},
   "outputs": [],
   "source": [
    "torch.save(model.state_dict(), 'linear_regression.ckpt')"
   ]
  },
  {
   "cell_type": "code",
   "execution_count": null,
   "id": "f2e76474-b61d-4161-a1d8-1e38a87ed823",
   "metadata": {},
   "outputs": [],
   "source": []
  }
 ],
 "metadata": {
  "kernelspec": {
   "display_name": "pytorch",
   "language": "python",
   "name": "pytorch"
  },
  "language_info": {
   "codemirror_mode": {
    "name": "ipython",
    "version": 3
   },
   "file_extension": ".py",
   "mimetype": "text/x-python",
   "name": "python",
   "nbconvert_exporter": "python",
   "pygments_lexer": "ipython3",
   "version": "3.8.13"
  },
  "widgets": {
   "application/vnd.jupyter.widget-state+json": {
    "state": {},
    "version_major": 2,
    "version_minor": 0
   }
  }
 },
 "nbformat": 4,
 "nbformat_minor": 5
}
