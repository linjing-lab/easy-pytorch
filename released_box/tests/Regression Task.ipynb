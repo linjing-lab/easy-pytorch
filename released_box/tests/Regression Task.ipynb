{
 "cells": [
  {
   "attachments": {},
   "cell_type": "markdown",
   "metadata": {},
   "source": [
    "# Regression Task"
   ]
  },
  {
   "cell_type": "code",
   "execution_count": 1,
   "metadata": {},
   "outputs": [],
   "source": [
    "!pip install polars[pandas]"
   ]
  },
  {
   "cell_type": "code",
   "execution_count": 1,
   "metadata": {},
   "outputs": [],
   "source": [
    "import numpy\n",
    "import pandas"
   ]
  },
  {
   "attachments": {},
   "cell_type": "markdown",
   "metadata": {},
   "source": [
    "## Data Cleaning and Processing"
   ]
  },
  {
   "attachments": {},
   "cell_type": "markdown",
   "metadata": {},
   "source": [
    "### Load Dataset from TXT File by IO Process"
   ]
  },
  {
   "cell_type": "code",
   "execution_count": 2,
   "metadata": {},
   "outputs": [
    {
     "data": {
      "text/html": [
       "<div>\n",
       "<style scoped>\n",
       "    .dataframe tbody tr th:only-of-type {\n",
       "        vertical-align: middle;\n",
       "    }\n",
       "\n",
       "    .dataframe tbody tr th {\n",
       "        vertical-align: top;\n",
       "    }\n",
       "\n",
       "    .dataframe thead th {\n",
       "        text-align: right;\n",
       "    }\n",
       "</style>\n",
       "<table border=\"1\" class=\"dataframe\">\n",
       "  <thead>\n",
       "    <tr style=\"text-align: right;\">\n",
       "      <th></th>\n",
       "      <th>Lever position (lp) [ ]</th>\n",
       "      <th>Ship speed (v) [knots]</th>\n",
       "      <th>Gas Turbine shaft torque (GTT) [kN m]</th>\n",
       "      <th>Gas Turbine rate of revolutions (GTn) [rpm]</th>\n",
       "      <th>Gas Generator rate of revolutions (GGn) [rpm]</th>\n",
       "      <th>Starboard Propeller Torque (Ts) [kN]</th>\n",
       "      <th>Port Propeller Torque (Tp) [kN]</th>\n",
       "      <th>HP Turbine exit temperature (T48) [C]</th>\n",
       "      <th>GT Compressor inlet air temperature (T1) [C]</th>\n",
       "      <th>GT Compressor outlet air temperature (T2) [C]</th>\n",
       "      <th>HP Turbine exit pressure (P48) [bar]</th>\n",
       "      <th>GT Compressor inlet air pressure (P1) [bar]</th>\n",
       "      <th>GT Compressor outlet air pressure (P2) [bar]</th>\n",
       "      <th>Gas Turbine exhaust gas pressure (Pexh) [bar]</th>\n",
       "      <th>Turbine Injecton Control (TIC) [%]</th>\n",
       "      <th>Fuel flow (mf) [kg/s]</th>\n",
       "      <th>GT Compressor decay state coefficient.</th>\n",
       "      <th>GT Turbine decay state coefficient.</th>\n",
       "    </tr>\n",
       "  </thead>\n",
       "  <tbody>\n",
       "    <tr>\n",
       "      <th>0</th>\n",
       "      <td>1.138</td>\n",
       "      <td>3.0</td>\n",
       "      <td>289.964</td>\n",
       "      <td>1349.489</td>\n",
       "      <td>6677.380</td>\n",
       "      <td>7.584</td>\n",
       "      <td>7.584</td>\n",
       "      <td>464.006</td>\n",
       "      <td>288.0</td>\n",
       "      <td>550.563</td>\n",
       "      <td>1.096</td>\n",
       "      <td>0.998</td>\n",
       "      <td>5.947</td>\n",
       "      <td>1.019</td>\n",
       "      <td>7.137</td>\n",
       "      <td>0.082</td>\n",
       "      <td>0.95</td>\n",
       "      <td>0.975</td>\n",
       "    </tr>\n",
       "    <tr>\n",
       "      <th>1</th>\n",
       "      <td>2.088</td>\n",
       "      <td>6.0</td>\n",
       "      <td>6960.180</td>\n",
       "      <td>1376.166</td>\n",
       "      <td>6828.469</td>\n",
       "      <td>28.204</td>\n",
       "      <td>28.204</td>\n",
       "      <td>635.401</td>\n",
       "      <td>288.0</td>\n",
       "      <td>581.658</td>\n",
       "      <td>1.331</td>\n",
       "      <td>0.998</td>\n",
       "      <td>7.282</td>\n",
       "      <td>1.019</td>\n",
       "      <td>10.655</td>\n",
       "      <td>0.287</td>\n",
       "      <td>0.95</td>\n",
       "      <td>0.975</td>\n",
       "    </tr>\n",
       "    <tr>\n",
       "      <th>2</th>\n",
       "      <td>3.144</td>\n",
       "      <td>9.0</td>\n",
       "      <td>8379.229</td>\n",
       "      <td>1386.757</td>\n",
       "      <td>7111.811</td>\n",
       "      <td>60.358</td>\n",
       "      <td>60.358</td>\n",
       "      <td>606.002</td>\n",
       "      <td>288.0</td>\n",
       "      <td>587.587</td>\n",
       "      <td>1.389</td>\n",
       "      <td>0.998</td>\n",
       "      <td>7.574</td>\n",
       "      <td>1.020</td>\n",
       "      <td>13.086</td>\n",
       "      <td>0.259</td>\n",
       "      <td>0.95</td>\n",
       "      <td>0.975</td>\n",
       "    </tr>\n",
       "    <tr>\n",
       "      <th>3</th>\n",
       "      <td>4.161</td>\n",
       "      <td>12.0</td>\n",
       "      <td>14724.395</td>\n",
       "      <td>1547.465</td>\n",
       "      <td>7792.630</td>\n",
       "      <td>113.774</td>\n",
       "      <td>113.774</td>\n",
       "      <td>661.471</td>\n",
       "      <td>288.0</td>\n",
       "      <td>613.851</td>\n",
       "      <td>1.658</td>\n",
       "      <td>0.998</td>\n",
       "      <td>9.007</td>\n",
       "      <td>1.022</td>\n",
       "      <td>18.109</td>\n",
       "      <td>0.358</td>\n",
       "      <td>0.95</td>\n",
       "      <td>0.975</td>\n",
       "    </tr>\n",
       "    <tr>\n",
       "      <th>4</th>\n",
       "      <td>5.140</td>\n",
       "      <td>15.0</td>\n",
       "      <td>21636.432</td>\n",
       "      <td>1924.313</td>\n",
       "      <td>8494.777</td>\n",
       "      <td>175.306</td>\n",
       "      <td>175.306</td>\n",
       "      <td>731.494</td>\n",
       "      <td>288.0</td>\n",
       "      <td>645.642</td>\n",
       "      <td>2.078</td>\n",
       "      <td>0.998</td>\n",
       "      <td>11.197</td>\n",
       "      <td>1.026</td>\n",
       "      <td>26.373</td>\n",
       "      <td>0.522</td>\n",
       "      <td>0.95</td>\n",
       "      <td>0.975</td>\n",
       "    </tr>\n",
       "  </tbody>\n",
       "</table>\n",
       "</div>"
      ],
      "text/plain": [
       "   Lever position (lp) [ ]  Ship speed (v) [knots]  \\\n",
       "0                    1.138                     3.0   \n",
       "1                    2.088                     6.0   \n",
       "2                    3.144                     9.0   \n",
       "3                    4.161                    12.0   \n",
       "4                    5.140                    15.0   \n",
       "\n",
       "   Gas Turbine shaft torque (GTT) [kN m]  \\\n",
       "0                                289.964   \n",
       "1                               6960.180   \n",
       "2                               8379.229   \n",
       "3                              14724.395   \n",
       "4                              21636.432   \n",
       "\n",
       "   Gas Turbine rate of revolutions (GTn) [rpm]  \\\n",
       "0                                     1349.489   \n",
       "1                                     1376.166   \n",
       "2                                     1386.757   \n",
       "3                                     1547.465   \n",
       "4                                     1924.313   \n",
       "\n",
       "   Gas Generator rate of revolutions (GGn) [rpm]  \\\n",
       "0                                       6677.380   \n",
       "1                                       6828.469   \n",
       "2                                       7111.811   \n",
       "3                                       7792.630   \n",
       "4                                       8494.777   \n",
       "\n",
       "   Starboard Propeller Torque (Ts) [kN]  Port Propeller Torque (Tp) [kN]  \\\n",
       "0                                 7.584                            7.584   \n",
       "1                                28.204                           28.204   \n",
       "2                                60.358                           60.358   \n",
       "3                               113.774                          113.774   \n",
       "4                               175.306                          175.306   \n",
       "\n",
       "   HP Turbine exit temperature (T48) [C]  \\\n",
       "0                                464.006   \n",
       "1                                635.401   \n",
       "2                                606.002   \n",
       "3                                661.471   \n",
       "4                                731.494   \n",
       "\n",
       "   GT Compressor inlet air temperature (T1) [C]  \\\n",
       "0                                         288.0   \n",
       "1                                         288.0   \n",
       "2                                         288.0   \n",
       "3                                         288.0   \n",
       "4                                         288.0   \n",
       "\n",
       "   GT Compressor outlet air temperature (T2) [C]  \\\n",
       "0                                        550.563   \n",
       "1                                        581.658   \n",
       "2                                        587.587   \n",
       "3                                        613.851   \n",
       "4                                        645.642   \n",
       "\n",
       "   HP Turbine exit pressure (P48) [bar]  \\\n",
       "0                                 1.096   \n",
       "1                                 1.331   \n",
       "2                                 1.389   \n",
       "3                                 1.658   \n",
       "4                                 2.078   \n",
       "\n",
       "   GT Compressor inlet air pressure (P1) [bar]  \\\n",
       "0                                        0.998   \n",
       "1                                        0.998   \n",
       "2                                        0.998   \n",
       "3                                        0.998   \n",
       "4                                        0.998   \n",
       "\n",
       "   GT Compressor outlet air pressure (P2) [bar]  \\\n",
       "0                                         5.947   \n",
       "1                                         7.282   \n",
       "2                                         7.574   \n",
       "3                                         9.007   \n",
       "4                                        11.197   \n",
       "\n",
       "   Gas Turbine exhaust gas pressure (Pexh) [bar]  \\\n",
       "0                                          1.019   \n",
       "1                                          1.019   \n",
       "2                                          1.020   \n",
       "3                                          1.022   \n",
       "4                                          1.026   \n",
       "\n",
       "   Turbine Injecton Control (TIC) [%]  Fuel flow (mf) [kg/s]  \\\n",
       "0                               7.137                  0.082   \n",
       "1                              10.655                  0.287   \n",
       "2                              13.086                  0.259   \n",
       "3                              18.109                  0.358   \n",
       "4                              26.373                  0.522   \n",
       "\n",
       "   GT Compressor decay state coefficient.  GT Turbine decay state coefficient.  \n",
       "0                                    0.95                                0.975  \n",
       "1                                    0.95                                0.975  \n",
       "2                                    0.95                                0.975  \n",
       "3                                    0.95                                0.975  \n",
       "4                                    0.95                                0.975  "
      ]
     },
     "execution_count": 2,
     "metadata": {},
     "output_type": "execute_result"
    }
   ],
   "source": [
    "\n",
    "df = pandas.read_csv('../data/uci_gbm_data.txt', sep='   ', engine='python')\n",
    "df.head()"
   ]
  },
  {
   "attachments": {},
   "cell_type": "markdown",
   "metadata": {},
   "source": [
    "### Convert Any Format of Data to Numpy"
   ]
  },
  {
   "cell_type": "code",
   "execution_count": 3,
   "metadata": {},
   "outputs": [],
   "source": [
    "df = df.to_numpy()\n",
    "values = df[:,-1]"
   ]
  },
  {
   "attachments": {},
   "cell_type": "markdown",
   "metadata": {},
   "source": [
    "### Obtain Dataset Information: features.shape"
   ]
  },
  {
   "cell_type": "code",
   "execution_count": 4,
   "metadata": {},
   "outputs": [
    {
     "data": {
      "text/plain": [
       "((11934, 17), (11934,))"
      ]
     },
     "execution_count": 4,
     "metadata": {},
     "output_type": "execute_result"
    }
   ],
   "source": [
    "features = df[:,:-1]\n",
    "features.shape, values.shape # prefer 1d value, not (11934, 1)"
   ]
  },
  {
   "attachments": {},
   "cell_type": "markdown",
   "metadata": {},
   "source": [
    "## Machine Learning Process"
   ]
  },
  {
   "attachments": {},
   "cell_type": "markdown",
   "metadata": {},
   "source": [
    "### Load Perming and Config Hyperparameters"
   ]
  },
  {
   "cell_type": "code",
   "execution_count": 5,
   "metadata": {},
   "outputs": [
    {
     "name": "stdout",
     "output_type": "stream",
     "text": [
      "MLP(\n",
      "  (mlp): Sequential(\n",
      "    (Linear0): Linear(in_features=17, out_features=30, bias=True)\n",
      "    (Activation0): ReLU(inplace=True)\n",
      "    (Linear1): Linear(in_features=30, out_features=1, bias=True)\n",
      "  )\n",
      ")\n"
     ]
    },
    {
     "data": {
      "text/plain": [
       "OrderedDict([('torch -v', '1.7.1+cu101'),\n",
       "             ('criterion', MSELoss()),\n",
       "             ('batch_size', 4),\n",
       "             ('solver',\n",
       "              Adam (\n",
       "              Parameter Group 0\n",
       "                  amsgrad: False\n",
       "                  betas: (0.9, 0.99)\n",
       "                  eps: 1e-08\n",
       "                  lr: 0.01\n",
       "                  weight_decay: 0\n",
       "              )),\n",
       "             ('lr_scheduler', None),\n",
       "             ('device', device(type='cuda'))])"
      ]
     },
     "execution_count": 5,
     "metadata": {},
     "output_type": "execute_result"
    }
   ],
   "source": [
    "import perming\n",
    "main = perming.Box(17, 1, (30,), criterion='MSELoss', batch_size=4, activation='relu', inplace_on=True, solver='adam', learning_rate_init=0.01)\n",
    "# main = perming.Regressier(17, (30,), batch_size=4, activation='relu', solver='adam', learning_rate_init=0.01)\n",
    "# main = perming.COMMON_MODELS['Regression'](17, (30,), batch_size=4, activation='relu', solver='adam', learning_rate_init=0.01)\n",
    "main.print_config()"
   ]
  },
  {
   "attachments": {},
   "cell_type": "markdown",
   "metadata": {},
   "source": [
    "### Dataloader from Numpy with Multi-threaded"
   ]
  },
  {
   "cell_type": "code",
   "execution_count": 6,
   "metadata": {},
   "outputs": [],
   "source": [
    "main.data_loader(features, values, random_seed=0)"
   ]
  },
  {
   "attachments": {},
   "cell_type": "markdown",
   "metadata": {},
   "source": [
    "### Training Stage and Accelerated Validation"
   ]
  },
  {
   "cell_type": "code",
   "execution_count": 7,
   "metadata": {},
   "outputs": [
    {
     "name": "stdout",
     "output_type": "stream",
     "text": [
      "Epoch [1/2], Step [100/2387], Training Loss: 1811.7351, Validation Loss: 850.1376\n",
      "Epoch [1/2], Step [200/2387], Training Loss: 155.5079, Validation Loss: 151.5589\n",
      "Epoch [1/2], Step [300/2387], Training Loss: 45.4253, Validation Loss: 35.0514\n",
      "Epoch [1/2], Step [400/2387], Training Loss: 82.6545, Validation Loss: 193.5130\n",
      "Epoch [1/2], Step [500/2387], Training Loss: 11.7659, Validation Loss: 21.8191\n",
      "Epoch [1/2], Step [600/2387], Training Loss: 4.1697, Validation Loss: 10.8706\n",
      "Epoch [1/2], Step [700/2387], Training Loss: 192.7459, Validation Loss: 687.2558\n",
      "Epoch [1/2], Step [800/2387], Training Loss: 3.6560, Validation Loss: 5.0652\n",
      "Epoch [1/2], Step [900/2387], Training Loss: 7.1976, Validation Loss: 13.3680\n",
      "Epoch [1/2], Step [1000/2387], Training Loss: 1571.8372, Validation Loss: 268.6063\n",
      "Epoch [1/2], Step [1100/2387], Training Loss: 3.8344, Validation Loss: 2.4011\n",
      "Epoch [1/2], Step [1200/2387], Training Loss: 0.4304, Validation Loss: 0.5378\n",
      "Epoch [1/2], Step [1300/2387], Training Loss: 0.4543, Validation Loss: 0.4874\n",
      "Epoch [1/2], Step [1400/2387], Training Loss: 0.1333, Validation Loss: 0.3956\n",
      "Epoch [1/2], Step [1500/2387], Training Loss: 29.4907, Validation Loss: 8.6214\n",
      "Epoch [1/2], Step [1600/2387], Training Loss: 0.4585, Validation Loss: 0.3895\n",
      "Epoch [1/2], Step [1700/2387], Training Loss: 0.1333, Validation Loss: 0.1389\n",
      "Epoch [1/2], Step [1800/2387], Training Loss: 0.0240, Validation Loss: 0.0123\n",
      "Epoch [1/2], Step [1900/2387], Training Loss: 0.1550, Validation Loss: 0.2195\n",
      "Epoch [1/2], Step [2000/2387], Training Loss: 0.0176, Validation Loss: 0.0068\n",
      "Epoch [1/2], Step [2100/2387], Training Loss: 0.0246, Validation Loss: 0.0544\n",
      "Epoch [1/2], Step [2200/2387], Training Loss: 0.0163, Validation Loss: 0.0059\n",
      "Epoch [1/2], Step [2300/2387], Training Loss: 0.0029, Validation Loss: 0.0015\n",
      "Epoch [2/2], Step [100/2387], Training Loss: 0.0087, Validation Loss: 0.0021\n",
      "Epoch [2/2], Step [200/2387], Training Loss: 0.0146, Validation Loss: 0.0075\n",
      "Epoch [2/2], Step [300/2387], Training Loss: 0.0187, Validation Loss: 0.0148\n",
      "Epoch [2/2], Step [400/2387], Training Loss: 0.1378, Validation Loss: 0.1737\n",
      "Epoch [2/2], Step [500/2387], Training Loss: 0.0002, Validation Loss: 0.0004\n",
      "Epoch [2/2], Step [600/2387], Training Loss: 0.0001, Validation Loss: 0.0003\n",
      "Epoch [2/2], Step [700/2387], Training Loss: 0.0000, Validation Loss: 0.0001\n",
      "Epoch [2/2], Step [800/2387], Training Loss: 0.0001, Validation Loss: 0.0001\n",
      "Epoch [2/2], Step [900/2387], Training Loss: 0.0001, Validation Loss: 0.0001\n",
      "Epoch [2/2], Step [1000/2387], Training Loss: 0.0001, Validation Loss: 0.0001\n",
      "Epoch [2/2], Step [1100/2387], Training Loss: 0.0001, Validation Loss: 0.0001\n",
      "Epoch [2/2], Step [1200/2387], Training Loss: 0.0001, Validation Loss: 0.0001\n",
      "Epoch [2/2], Step [1300/2387], Training Loss: 0.0001, Validation Loss: 0.0001\n",
      "Epoch [2/2], Step [1400/2387], Training Loss: 0.0001, Validation Loss: 0.0001\n",
      "Epoch [2/2], Step [1500/2387], Training Loss: 0.0000, Validation Loss: 0.0001\n",
      "Epoch [2/2], Step [1600/2387], Training Loss: 0.0001, Validation Loss: 0.0001\n",
      "Epoch [2/2], Step [1700/2387], Training Loss: 0.0000, Validation Loss: 0.0001\n",
      "Epoch [2/2], Step [1800/2387], Training Loss: 0.0001, Validation Loss: 0.0001\n",
      "Epoch [2/2], Step [1900/2387], Training Loss: 0.0000, Validation Loss: 0.0001\n",
      "Epoch [2/2], Step [2000/2387], Training Loss: 0.0001, Validation Loss: 0.0001\n",
      "Epoch [2/2], Step [2100/2387], Training Loss: 0.0000, Validation Loss: 0.0001\n",
      "Epoch [2/2], Step [2200/2387], Training Loss: 0.0001, Validation Loss: 0.0001\n",
      "Epoch [2/2], Step [2300/2387], Training Loss: 0.0001, Validation Loss: 0.0001\n"
     ]
    }
   ],
   "source": [
    "main.train_val(num_epochs=2, interval=100)"
   ]
  },
  {
   "attachments": {},
   "cell_type": "markdown",
   "metadata": {},
   "source": [
    "### Test with Trained Parameters"
   ]
  },
  {
   "cell_type": "code",
   "execution_count": 8,
   "metadata": {},
   "outputs": [
    {
     "name": "stdout",
     "output_type": "stream",
     "text": [
      "loss of Regressier on the 1196 test dataset: 6.521651084767655e-05. accuracy: 0.0000 %\n"
     ]
    },
    {
     "data": {
      "text/plain": [
       "OrderedDict([('problem', 'regression'),\n",
       "             ('loss',\n",
       "              {'train': 3.9175843994598836e-05,\n",
       "               'val': 6.435448449337855e-05,\n",
       "               'test': 6.521651084767655e-05})])"
      ]
     },
     "execution_count": 8,
     "metadata": {},
     "output_type": "execute_result"
    }
   ],
   "source": [
    "main.test()"
   ]
  },
  {
   "attachments": {},
   "cell_type": "markdown",
   "metadata": {},
   "source": [
    "### Save Model Parameters to Models Folder"
   ]
  },
  {
   "cell_type": "code",
   "execution_count": 9,
   "metadata": {},
   "outputs": [],
   "source": [
    "main.save(False, '../models/ucigbm.ckpt')"
   ]
  },
  {
   "attachments": {},
   "cell_type": "markdown",
   "metadata": {},
   "source": [
    "### Load Model Parameters from Models Folder"
   ]
  },
  {
   "cell_type": "code",
   "execution_count": 10,
   "metadata": {},
   "outputs": [],
   "source": [
    "main.load(False, '../models/ucigbm.ckpt')"
   ]
  },
  {
   "attachments": {},
   "cell_type": "markdown",
   "metadata": {},
   "source": [
    "### Test with Loaded Parameters or Tune Model"
   ]
  },
  {
   "cell_type": "code",
   "execution_count": 11,
   "metadata": {},
   "outputs": [
    {
     "name": "stdout",
     "output_type": "stream",
     "text": [
      "loss of Regressier on the 1196 test dataset: 6.517106521641836e-05. accuracy: 0.0000 %\n"
     ]
    },
    {
     "data": {
      "text/plain": [
       "OrderedDict([('problem', 'regression'),\n",
       "             ('loss',\n",
       "              {'train': 3.9175843994598836e-05,\n",
       "               'val': 6.435448449337855e-05,\n",
       "               'test': 6.517106521641836e-05})])"
      ]
     },
     "execution_count": 11,
     "metadata": {},
     "output_type": "execute_result"
    }
   ],
   "source": [
    "main.test()\n",
    "# main = perming.Box(17, 1, (25,), criterion='MSELoss', batch_size=4, activation='relu', inplace_on=True, solver='adam', learning_rate_init=0.01)\n",
    "# main = perming.Regressier(17, (25,), batch_size=4, activation='relu', solver='adam', learning_rate_init=0.01)\n",
    "# main = perming.COMMON_MODELS['Regressier'](17, (25,), batch_size=4, activation='relu', solver='adam', learning_rate_init=0.01)"
   ]
  }
 ],
 "metadata": {
  "kernelspec": {
   "display_name": "pytorch",
   "language": "python",
   "name": "python3"
  },
  "language_info": {
   "codemirror_mode": {
    "name": "ipython",
    "version": 3
   },
   "file_extension": ".py",
   "mimetype": "text/x-python",
   "name": "python",
   "nbconvert_exporter": "python",
   "pygments_lexer": "ipython3",
   "version": "3.8.13"
  },
  "orig_nbformat": 4
 },
 "nbformat": 4,
 "nbformat_minor": 2
}
