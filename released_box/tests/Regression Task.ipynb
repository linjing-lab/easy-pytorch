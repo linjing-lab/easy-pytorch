{
 "cells": [
  {
   "attachments": {},
   "cell_type": "markdown",
   "metadata": {},
   "source": [
    "# Regression Task"
   ]
  },
  {
   "cell_type": "code",
   "execution_count": null,
   "metadata": {},
   "outputs": [],
   "source": [
    "!pip install polars[pandas]"
   ]
  },
  {
   "cell_type": "code",
   "execution_count": 1,
   "metadata": {},
   "outputs": [],
   "source": [
    "import numpy\n",
    "import pandas"
   ]
  },
  {
   "attachments": {},
   "cell_type": "markdown",
   "metadata": {},
   "source": [
    "## Data Cleaning and Processing"
   ]
  },
  {
   "attachments": {},
   "cell_type": "markdown",
   "metadata": {},
   "source": [
    "### Load Dataset from TXT File by IO Process"
   ]
  },
  {
   "cell_type": "code",
   "execution_count": 2,
   "metadata": {},
   "outputs": [
    {
     "data": {
      "text/html": [
       "<div>\n",
       "<style scoped>\n",
       "    .dataframe tbody tr th:only-of-type {\n",
       "        vertical-align: middle;\n",
       "    }\n",
       "\n",
       "    .dataframe tbody tr th {\n",
       "        vertical-align: top;\n",
       "    }\n",
       "\n",
       "    .dataframe thead th {\n",
       "        text-align: right;\n",
       "    }\n",
       "</style>\n",
       "<table border=\"1\" class=\"dataframe\">\n",
       "  <thead>\n",
       "    <tr style=\"text-align: right;\">\n",
       "      <th></th>\n",
       "      <th>Lever position (lp) [ ]</th>\n",
       "      <th>Ship speed (v) [knots]</th>\n",
       "      <th>Gas Turbine shaft torque (GTT) [kN m]</th>\n",
       "      <th>Gas Turbine rate of revolutions (GTn) [rpm]</th>\n",
       "      <th>Gas Generator rate of revolutions (GGn) [rpm]</th>\n",
       "      <th>Starboard Propeller Torque (Ts) [kN]</th>\n",
       "      <th>Port Propeller Torque (Tp) [kN]</th>\n",
       "      <th>HP Turbine exit temperature (T48) [C]</th>\n",
       "      <th>GT Compressor inlet air temperature (T1) [C]</th>\n",
       "      <th>GT Compressor outlet air temperature (T2) [C]</th>\n",
       "      <th>HP Turbine exit pressure (P48) [bar]</th>\n",
       "      <th>GT Compressor inlet air pressure (P1) [bar]</th>\n",
       "      <th>GT Compressor outlet air pressure (P2) [bar]</th>\n",
       "      <th>Gas Turbine exhaust gas pressure (Pexh) [bar]</th>\n",
       "      <th>Turbine Injecton Control (TIC) [%]</th>\n",
       "      <th>Fuel flow (mf) [kg/s]</th>\n",
       "      <th>GT Compressor decay state coefficient.</th>\n",
       "      <th>GT Turbine decay state coefficient.</th>\n",
       "    </tr>\n",
       "  </thead>\n",
       "  <tbody>\n",
       "    <tr>\n",
       "      <th>0</th>\n",
       "      <td>1.138</td>\n",
       "      <td>3.0</td>\n",
       "      <td>289.964</td>\n",
       "      <td>1349.489</td>\n",
       "      <td>6677.380</td>\n",
       "      <td>7.584</td>\n",
       "      <td>7.584</td>\n",
       "      <td>464.006</td>\n",
       "      <td>288.0</td>\n",
       "      <td>550.563</td>\n",
       "      <td>1.096</td>\n",
       "      <td>0.998</td>\n",
       "      <td>5.947</td>\n",
       "      <td>1.019</td>\n",
       "      <td>7.137</td>\n",
       "      <td>0.082</td>\n",
       "      <td>0.95</td>\n",
       "      <td>0.975</td>\n",
       "    </tr>\n",
       "    <tr>\n",
       "      <th>1</th>\n",
       "      <td>2.088</td>\n",
       "      <td>6.0</td>\n",
       "      <td>6960.180</td>\n",
       "      <td>1376.166</td>\n",
       "      <td>6828.469</td>\n",
       "      <td>28.204</td>\n",
       "      <td>28.204</td>\n",
       "      <td>635.401</td>\n",
       "      <td>288.0</td>\n",
       "      <td>581.658</td>\n",
       "      <td>1.331</td>\n",
       "      <td>0.998</td>\n",
       "      <td>7.282</td>\n",
       "      <td>1.019</td>\n",
       "      <td>10.655</td>\n",
       "      <td>0.287</td>\n",
       "      <td>0.95</td>\n",
       "      <td>0.975</td>\n",
       "    </tr>\n",
       "    <tr>\n",
       "      <th>2</th>\n",
       "      <td>3.144</td>\n",
       "      <td>9.0</td>\n",
       "      <td>8379.229</td>\n",
       "      <td>1386.757</td>\n",
       "      <td>7111.811</td>\n",
       "      <td>60.358</td>\n",
       "      <td>60.358</td>\n",
       "      <td>606.002</td>\n",
       "      <td>288.0</td>\n",
       "      <td>587.587</td>\n",
       "      <td>1.389</td>\n",
       "      <td>0.998</td>\n",
       "      <td>7.574</td>\n",
       "      <td>1.020</td>\n",
       "      <td>13.086</td>\n",
       "      <td>0.259</td>\n",
       "      <td>0.95</td>\n",
       "      <td>0.975</td>\n",
       "    </tr>\n",
       "    <tr>\n",
       "      <th>3</th>\n",
       "      <td>4.161</td>\n",
       "      <td>12.0</td>\n",
       "      <td>14724.395</td>\n",
       "      <td>1547.465</td>\n",
       "      <td>7792.630</td>\n",
       "      <td>113.774</td>\n",
       "      <td>113.774</td>\n",
       "      <td>661.471</td>\n",
       "      <td>288.0</td>\n",
       "      <td>613.851</td>\n",
       "      <td>1.658</td>\n",
       "      <td>0.998</td>\n",
       "      <td>9.007</td>\n",
       "      <td>1.022</td>\n",
       "      <td>18.109</td>\n",
       "      <td>0.358</td>\n",
       "      <td>0.95</td>\n",
       "      <td>0.975</td>\n",
       "    </tr>\n",
       "    <tr>\n",
       "      <th>4</th>\n",
       "      <td>5.140</td>\n",
       "      <td>15.0</td>\n",
       "      <td>21636.432</td>\n",
       "      <td>1924.313</td>\n",
       "      <td>8494.777</td>\n",
       "      <td>175.306</td>\n",
       "      <td>175.306</td>\n",
       "      <td>731.494</td>\n",
       "      <td>288.0</td>\n",
       "      <td>645.642</td>\n",
       "      <td>2.078</td>\n",
       "      <td>0.998</td>\n",
       "      <td>11.197</td>\n",
       "      <td>1.026</td>\n",
       "      <td>26.373</td>\n",
       "      <td>0.522</td>\n",
       "      <td>0.95</td>\n",
       "      <td>0.975</td>\n",
       "    </tr>\n",
       "  </tbody>\n",
       "</table>\n",
       "</div>"
      ],
      "text/plain": [
       "   Lever position (lp) [ ]  Ship speed (v) [knots]  \\\n",
       "0                    1.138                     3.0   \n",
       "1                    2.088                     6.0   \n",
       "2                    3.144                     9.0   \n",
       "3                    4.161                    12.0   \n",
       "4                    5.140                    15.0   \n",
       "\n",
       "   Gas Turbine shaft torque (GTT) [kN m]  \\\n",
       "0                                289.964   \n",
       "1                               6960.180   \n",
       "2                               8379.229   \n",
       "3                              14724.395   \n",
       "4                              21636.432   \n",
       "\n",
       "   Gas Turbine rate of revolutions (GTn) [rpm]  \\\n",
       "0                                     1349.489   \n",
       "1                                     1376.166   \n",
       "2                                     1386.757   \n",
       "3                                     1547.465   \n",
       "4                                     1924.313   \n",
       "\n",
       "   Gas Generator rate of revolutions (GGn) [rpm]  \\\n",
       "0                                       6677.380   \n",
       "1                                       6828.469   \n",
       "2                                       7111.811   \n",
       "3                                       7792.630   \n",
       "4                                       8494.777   \n",
       "\n",
       "   Starboard Propeller Torque (Ts) [kN]  Port Propeller Torque (Tp) [kN]  \\\n",
       "0                                 7.584                            7.584   \n",
       "1                                28.204                           28.204   \n",
       "2                                60.358                           60.358   \n",
       "3                               113.774                          113.774   \n",
       "4                               175.306                          175.306   \n",
       "\n",
       "   HP Turbine exit temperature (T48) [C]  \\\n",
       "0                                464.006   \n",
       "1                                635.401   \n",
       "2                                606.002   \n",
       "3                                661.471   \n",
       "4                                731.494   \n",
       "\n",
       "   GT Compressor inlet air temperature (T1) [C]  \\\n",
       "0                                         288.0   \n",
       "1                                         288.0   \n",
       "2                                         288.0   \n",
       "3                                         288.0   \n",
       "4                                         288.0   \n",
       "\n",
       "   GT Compressor outlet air temperature (T2) [C]  \\\n",
       "0                                        550.563   \n",
       "1                                        581.658   \n",
       "2                                        587.587   \n",
       "3                                        613.851   \n",
       "4                                        645.642   \n",
       "\n",
       "   HP Turbine exit pressure (P48) [bar]  \\\n",
       "0                                 1.096   \n",
       "1                                 1.331   \n",
       "2                                 1.389   \n",
       "3                                 1.658   \n",
       "4                                 2.078   \n",
       "\n",
       "   GT Compressor inlet air pressure (P1) [bar]  \\\n",
       "0                                        0.998   \n",
       "1                                        0.998   \n",
       "2                                        0.998   \n",
       "3                                        0.998   \n",
       "4                                        0.998   \n",
       "\n",
       "   GT Compressor outlet air pressure (P2) [bar]  \\\n",
       "0                                         5.947   \n",
       "1                                         7.282   \n",
       "2                                         7.574   \n",
       "3                                         9.007   \n",
       "4                                        11.197   \n",
       "\n",
       "   Gas Turbine exhaust gas pressure (Pexh) [bar]  \\\n",
       "0                                          1.019   \n",
       "1                                          1.019   \n",
       "2                                          1.020   \n",
       "3                                          1.022   \n",
       "4                                          1.026   \n",
       "\n",
       "   Turbine Injecton Control (TIC) [%]  Fuel flow (mf) [kg/s]  \\\n",
       "0                               7.137                  0.082   \n",
       "1                              10.655                  0.287   \n",
       "2                              13.086                  0.259   \n",
       "3                              18.109                  0.358   \n",
       "4                              26.373                  0.522   \n",
       "\n",
       "   GT Compressor decay state coefficient.  GT Turbine decay state coefficient.  \n",
       "0                                    0.95                                0.975  \n",
       "1                                    0.95                                0.975  \n",
       "2                                    0.95                                0.975  \n",
       "3                                    0.95                                0.975  \n",
       "4                                    0.95                                0.975  "
      ]
     },
     "execution_count": 2,
     "metadata": {},
     "output_type": "execute_result"
    }
   ],
   "source": [
    "\n",
    "df = pandas.read_csv('../data/uci_gbm_data.txt', sep='   ', engine='python')\n",
    "df.head()"
   ]
  },
  {
   "attachments": {},
   "cell_type": "markdown",
   "metadata": {},
   "source": [
    "### Convert Any Format of Data to Numpy"
   ]
  },
  {
   "cell_type": "code",
   "execution_count": 3,
   "metadata": {},
   "outputs": [],
   "source": [
    "df = df.to_numpy()\n",
    "values = df[:,-1]"
   ]
  },
  {
   "attachments": {},
   "cell_type": "markdown",
   "metadata": {},
   "source": [
    "### Obtain Dataset Information: features.shape"
   ]
  },
  {
   "cell_type": "code",
   "execution_count": 4,
   "metadata": {},
   "outputs": [
    {
     "data": {
      "text/plain": [
       "((11934, 17), (11934,))"
      ]
     },
     "execution_count": 4,
     "metadata": {},
     "output_type": "execute_result"
    }
   ],
   "source": [
    "features = df[:,:-1]\n",
    "features.shape, values.shape # prefer 1d value, not (11934, 1)"
   ]
  },
  {
   "attachments": {},
   "cell_type": "markdown",
   "metadata": {},
   "source": [
    "## Machine Learning Process"
   ]
  },
  {
   "attachments": {},
   "cell_type": "markdown",
   "metadata": {},
   "source": [
    "### Load Perming and Config Hyperparameters"
   ]
  },
  {
   "cell_type": "code",
   "execution_count": 5,
   "metadata": {},
   "outputs": [
    {
     "name": "stdout",
     "output_type": "stream",
     "text": [
      "MLP(\n",
      "  (mlp): Sequential(\n",
      "    (Linear0): Linear(in_features=17, out_features=30, bias=True)\n",
      "    (Activation0): ReLU(inplace=True)\n",
      "    (Linear1): Linear(in_features=30, out_features=1, bias=True)\n",
      "  )\n",
      ")\n"
     ]
    },
    {
     "data": {
      "text/plain": [
       "OrderedDict([('torch -v', '1.7.1+cu101'),\n",
       "             ('criterion', MSELoss()),\n",
       "             ('batch_size', 4),\n",
       "             ('solver',\n",
       "              Adam (\n",
       "              Parameter Group 0\n",
       "                  amsgrad: False\n",
       "                  betas: (0.9, 0.99)\n",
       "                  eps: 1e-08\n",
       "                  lr: 0.01\n",
       "                  weight_decay: 0\n",
       "              )),\n",
       "             ('lr_scheduler', None),\n",
       "             ('device', device(type='cuda'))])"
      ]
     },
     "execution_count": 5,
     "metadata": {},
     "output_type": "execute_result"
    }
   ],
   "source": [
    "import perming\n",
    "main = perming.Box(17, 1, (30,), criterion='MSELoss', batch_size=4, activation='relu', inplace_on=True, solver='adam', learning_rate_init=0.01)\n",
    "# main = perming.Regressier(17, (30,), batch_size=4, activation='relu', solver='adam', learning_rate_init=0.01)\n",
    "# main = perming.COMMON_MODELS['Regression'](17, (30,), batch_size=4, activation='relu', solver='adam', learning_rate_init=0.01)\n",
    "main.print_config()"
   ]
  },
  {
   "attachments": {},
   "cell_type": "markdown",
   "metadata": {},
   "source": [
    "### Dataloader from Numpy with Multi-threaded"
   ]
  },
  {
   "cell_type": "code",
   "execution_count": 6,
   "metadata": {},
   "outputs": [],
   "source": [
    "main.data_loader(features, values, random_seed=0)"
   ]
  },
  {
   "attachments": {},
   "cell_type": "markdown",
   "metadata": {},
   "source": [
    "### Training Stage and Accelerated Validation"
   ]
  },
  {
   "cell_type": "code",
   "execution_count": 7,
   "metadata": {},
   "outputs": [
    {
     "name": "stdout",
     "output_type": "stream",
     "text": [
      "Epoch [1/2], Step [100/2387], Training Loss: 23.0912, Validation Loss: 24.5740\n",
      "Epoch [1/2], Step [200/2387], Training Loss: 291.9099, Validation Loss: 6.7348\n",
      "Epoch [1/2], Step [300/2387], Training Loss: 5637.1328, Validation Loss: 1480.3076\n",
      "Epoch [1/2], Step [400/2387], Training Loss: 1211.0406, Validation Loss: 210.9741\n",
      "Epoch [1/2], Step [500/2387], Training Loss: 90.4388, Validation Loss: 23.6573\n",
      "Epoch [1/2], Step [600/2387], Training Loss: 67.0454, Validation Loss: 24.6701\n",
      "Epoch [1/2], Step [700/2387], Training Loss: 1253.5343, Validation Loss: 1144.0096\n",
      "Epoch [1/2], Step [800/2387], Training Loss: 39.3887, Validation Loss: 257.6939\n",
      "Epoch [1/2], Step [900/2387], Training Loss: 0.9986, Validation Loss: 1.1887\n",
      "Epoch [1/2], Step [1000/2387], Training Loss: 30.2453, Validation Loss: 9.7175\n",
      "Epoch [1/2], Step [1100/2387], Training Loss: 264.4302, Validation Loss: 19.0528\n",
      "Epoch [1/2], Step [1200/2387], Training Loss: 5.2984, Validation Loss: 8.8709\n",
      "Epoch [1/2], Step [1300/2387], Training Loss: 0.0152, Validation Loss: 0.3077\n",
      "Epoch [1/2], Step [1400/2387], Training Loss: 0.0118, Validation Loss: 0.0014\n",
      "Epoch [1/2], Step [1500/2387], Training Loss: 0.3608, Validation Loss: 0.3265\n",
      "Epoch [1/2], Step [1600/2387], Training Loss: 5616.9810, Validation Loss: 54.1350\n",
      "Epoch [1/2], Step [1700/2387], Training Loss: 1.0014, Validation Loss: 0.3494\n",
      "Epoch [1/2], Step [1800/2387], Training Loss: 0.0025, Validation Loss: 0.0249\n",
      "Epoch [1/2], Step [1900/2387], Training Loss: 0.0008, Validation Loss: 0.0195\n",
      "Epoch [1/2], Step [2000/2387], Training Loss: 0.0041, Validation Loss: 0.0234\n",
      "Epoch [1/2], Step [2100/2387], Training Loss: 0.2388, Validation Loss: 0.0222\n",
      "Process stop at epoch [1/2] with patience 10 within tolerance 0.001\n"
     ]
    }
   ],
   "source": [
    "main.train_val(num_epochs=2, interval=100, early_stop=True)"
   ]
  },
  {
   "attachments": {},
   "cell_type": "markdown",
   "metadata": {},
   "source": [
    "### Test with Trained Parameters"
   ]
  },
  {
   "cell_type": "code",
   "execution_count": 12,
   "metadata": {},
   "outputs": [
    {
     "name": "stdout",
     "output_type": "stream",
     "text": [
      "loss of Box on the 1196 test dataset: 0.14259785413742065.\n"
     ]
    },
    {
     "data": {
      "text/plain": [
       "OrderedDict([('problem', 'regression'),\n",
       "             ('loss',\n",
       "              {'train': 0.18060052394866943,\n",
       "               'val': 0.025247152894735336,\n",
       "               'test': 0.14259785413742065})])"
      ]
     },
     "execution_count": 12,
     "metadata": {},
     "output_type": "execute_result"
    }
   ],
   "source": [
    "main.test()\n",
    "# refer to https://pytorch.org/torcheval/main/ for metrics functional tools, like r2_score\n",
    "# features_, values_ = torch.as_tensor(features, dtype=torch.float).to(torch.device(\"cuda\")), torch.as_tensor(values, dtype=torch.float).to(torch.device(\"cuda\"))\n",
    "# pred = main.model(features_)\n",
    "# r2_score(pred, values_)"
   ]
  },
  {
   "attachments": {},
   "cell_type": "markdown",
   "metadata": {},
   "source": [
    "### Save Model Parameters to Models Folder"
   ]
  },
  {
   "cell_type": "code",
   "execution_count": 13,
   "metadata": {},
   "outputs": [],
   "source": [
    "main.save(False, '../models/ucigbm.ckpt')"
   ]
  },
  {
   "attachments": {},
   "cell_type": "markdown",
   "metadata": {},
   "source": [
    "### Load Model Parameters from Models Folder"
   ]
  },
  {
   "cell_type": "code",
   "execution_count": 18,
   "metadata": {},
   "outputs": [],
   "source": [
    "main.load(False, '../models/ucigbm.ckpt')"
   ]
  },
  {
   "attachments": {},
   "cell_type": "markdown",
   "metadata": {},
   "source": [
    "### Test with Loaded Parameters or Tune Model"
   ]
  },
  {
   "cell_type": "code",
   "execution_count": 19,
   "metadata": {},
   "outputs": [
    {
     "name": "stdout",
     "output_type": "stream",
     "text": [
      "loss of Box on the 1196 test dataset: 0.14268778264522552.\n"
     ]
    },
    {
     "data": {
      "text/plain": [
       "OrderedDict([('problem', 'regression'),\n",
       "             ('loss',\n",
       "              {'train': 0.10978104919195175,\n",
       "               'val': 0.7494950294494629,\n",
       "               'test': 0.14268778264522552})])"
      ]
     },
     "execution_count": 19,
     "metadata": {},
     "output_type": "execute_result"
    }
   ],
   "source": [
    "main.test()\n",
    "# main = perming.Box(17, 1, (25,), criterion='MSELoss', batch_size=4, activation='relu', inplace_on=True, solver='adam', learning_rate_init=0.01)\n",
    "# main = perming.Regressier(17, (25,), batch_size=4, activation='relu', solver='adam', learning_rate_init=0.01)\n",
    "# main = perming.COMMON_MODELS['Regression'](17, (25,), batch_size=4, activation='relu', solver='adam', learning_rate_init=0.01)"
   ]
  },
  {
   "cell_type": "code",
   "execution_count": null,
   "metadata": {},
   "outputs": [],
   "source": []
  }
 ],
 "metadata": {
  "kernelspec": {
   "display_name": "pytorch",
   "language": "python",
   "name": "python3"
  },
  "language_info": {
   "codemirror_mode": {
    "name": "ipython",
    "version": 3
   },
   "file_extension": ".py",
   "mimetype": "text/x-python",
   "name": "python",
   "nbconvert_exporter": "python",
   "pygments_lexer": "ipython3",
   "version": "3.8.13"
  },
  "orig_nbformat": 4
 },
 "nbformat": 4,
 "nbformat_minor": 2
}
