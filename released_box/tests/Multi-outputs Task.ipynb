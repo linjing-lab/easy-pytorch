{
 "cells": [
  {
   "attachments": {},
   "cell_type": "markdown",
   "metadata": {},
   "source": [
    "# Multi-outputs Task"
   ]
  },
  {
   "cell_type": "code",
   "execution_count": null,
   "metadata": {},
   "outputs": [],
   "source": [
    "!pip install polars[pandas]"
   ]
  },
  {
   "cell_type": "code",
   "execution_count": 1,
   "metadata": {},
   "outputs": [],
   "source": [
    "import numpy\n",
    "import pandas # or use `polars`\n",
    "import torch"
   ]
  },
  {
   "attachments": {},
   "cell_type": "markdown",
   "metadata": {},
   "source": [
    "## Data Processing from scikit-learn"
   ]
  },
  {
   "cell_type": "code",
   "execution_count": 2,
   "metadata": {},
   "outputs": [],
   "source": [
    "from sklearn.datasets import make_multilabel_classification"
   ]
  },
  {
   "cell_type": "code",
   "execution_count": 3,
   "metadata": {},
   "outputs": [],
   "source": [
    "X, y = make_multilabel_classification(n_samples=1000, \n",
    "                                      n_features=10,\n",
    "                                      n_classes=3,\n",
    "                                      n_labels=2,\n",
    "                                      random_state=1)"
   ]
  },
  {
   "cell_type": "code",
   "execution_count": 4,
   "metadata": {},
   "outputs": [
    {
     "data": {
      "text/plain": [
       "((1000, 10), (1000, 3))"
      ]
     },
     "execution_count": 4,
     "metadata": {},
     "output_type": "execute_result"
    }
   ],
   "source": [
    "X.shape, y.shape"
   ]
  },
  {
   "attachments": {},
   "cell_type": "markdown",
   "metadata": {},
   "source": [
    "## Machine Learning Process"
   ]
  },
  {
   "attachments": {},
   "cell_type": "markdown",
   "metadata": {},
   "source": [
    "### Load Perming and Config Hyperparameters\n"
   ]
  },
  {
   "cell_type": "code",
   "execution_count": 5,
   "metadata": {},
   "outputs": [
    {
     "name": "stdout",
     "output_type": "stream",
     "text": [
      "MLP(\n",
      "  (mlp): Sequential(\n",
      "    (Linear0): Linear(in_features=10, out_features=30, bias=True)\n",
      "    (Activation0): ReLU(inplace=True)\n",
      "    (Linear1): Linear(in_features=30, out_features=3, bias=True)\n",
      "  )\n",
      ")\n"
     ]
    },
    {
     "data": {
      "text/plain": [
       "OrderedDict([('torch -v', '1.7.1+cu101'),\n",
       "             ('criterion', MultiLabelSoftMarginLoss()),\n",
       "             ('batch_size', 8),\n",
       "             ('solver',\n",
       "              SGD (\n",
       "              Parameter Group 0\n",
       "                  dampening: 0\n",
       "                  lr: 0.01\n",
       "                  momentum: 0\n",
       "                  nesterov: False\n",
       "                  weight_decay: 0\n",
       "              )),\n",
       "             ('lr_scheduler', None),\n",
       "             ('device', device(type='cuda'))])"
      ]
     },
     "execution_count": 5,
     "metadata": {},
     "output_type": "execute_result"
    }
   ],
   "source": [
    "import perming\n",
    "main = perming.Box(10, 3, (30,), batch_size=8, activation='relu', inplace_on=True, solver='sgd', criterion=\"MultiLabelSoftMarginLoss\", learning_rate_init=0.01)\n",
    "# main = perming.Ranker(10, 3, (30,), batch_size=16, activation='relu', solver='sgd', criterion=\"MultiLabelSoftMarginLoss\", learning_rate_init=0.01)\n",
    "# main = perming.COMMON_MODELS['Multi-outputs'](10, 3, (30,), batch_size=16, activation='relu', solver='sgd', criterion=\"MultiLabelSoftMarginLoss\", learning_rate_init=0.01)\n",
    "main.print_config()"
   ]
  },
  {
   "attachments": {},
   "cell_type": "markdown",
   "metadata": {},
   "source": [
    "### Dataloader from Numpy with Multi-threaded\n"
   ]
  },
  {
   "cell_type": "code",
   "execution_count": 6,
   "metadata": {},
   "outputs": [],
   "source": [
    "main.data_loader(X, y, random_seed=0)"
   ]
  },
  {
   "attachments": {},
   "cell_type": "markdown",
   "metadata": {},
   "source": [
    "### Training Stage and Accelerated Validation\n"
   ]
  },
  {
   "cell_type": "code",
   "execution_count": 7,
   "metadata": {},
   "outputs": [
    {
     "name": "stdout",
     "output_type": "stream",
     "text": [
      "Epoch [1/60], Step [25/100], Training Loss: 0.5728, Validation Loss: 0.6097\n",
      "Epoch [1/60], Step [50/100], Training Loss: 0.5332, Validation Loss: 0.5659\n",
      "Epoch [1/60], Step [75/100], Training Loss: 0.6924, Validation Loss: 0.5343\n",
      "Epoch [1/60], Step [100/100], Training Loss: 0.4715, Validation Loss: 0.5089\n",
      "Epoch [2/60], Step [25/100], Training Loss: 0.3703, Validation Loss: 0.4871\n",
      "Epoch [2/60], Step [50/100], Training Loss: 0.4212, Validation Loss: 0.4736\n",
      "Epoch [2/60], Step [75/100], Training Loss: 0.4324, Validation Loss: 0.4670\n",
      "Epoch [2/60], Step [100/100], Training Loss: 0.4909, Validation Loss: 0.4555\n",
      "Epoch [3/60], Step [25/100], Training Loss: 0.4825, Validation Loss: 0.4467\n",
      "Epoch [3/60], Step [50/100], Training Loss: 0.3726, Validation Loss: 0.4297\n",
      "Epoch [3/60], Step [75/100], Training Loss: 0.3812, Validation Loss: 0.4221\n",
      "Epoch [3/60], Step [100/100], Training Loss: 0.2042, Validation Loss: 0.4202\n",
      "Epoch [4/60], Step [25/100], Training Loss: 0.1721, Validation Loss: 0.4101\n",
      "Epoch [4/60], Step [50/100], Training Loss: 0.3554, Validation Loss: 0.4062\n",
      "Epoch [4/60], Step [75/100], Training Loss: 0.2780, Validation Loss: 0.4088\n",
      "Epoch [4/60], Step [100/100], Training Loss: 0.2092, Validation Loss: 0.3893\n",
      "Epoch [5/60], Step [25/100], Training Loss: 0.3058, Validation Loss: 0.3878\n",
      "Epoch [5/60], Step [50/100], Training Loss: 0.2867, Validation Loss: 0.3819\n",
      "Epoch [5/60], Step [75/100], Training Loss: 0.2682, Validation Loss: 0.3756\n",
      "Epoch [5/60], Step [100/100], Training Loss: 0.3207, Validation Loss: 0.3693\n",
      "Epoch [6/60], Step [25/100], Training Loss: 0.4245, Validation Loss: 0.3705\n",
      "Epoch [6/60], Step [50/100], Training Loss: 0.2397, Validation Loss: 0.3664\n",
      "Epoch [6/60], Step [75/100], Training Loss: 0.2172, Validation Loss: 0.3558\n",
      "Epoch [6/60], Step [100/100], Training Loss: 0.3066, Validation Loss: 0.3579\n",
      "Epoch [7/60], Step [25/100], Training Loss: 0.3107, Validation Loss: 0.3618\n",
      "Epoch [7/60], Step [50/100], Training Loss: 0.4089, Validation Loss: 0.3453\n",
      "Epoch [7/60], Step [75/100], Training Loss: 0.1355, Validation Loss: 0.3559\n",
      "Epoch [7/60], Step [100/100], Training Loss: 0.4259, Validation Loss: 0.3400\n",
      "Epoch [8/60], Step [25/100], Training Loss: 0.2672, Validation Loss: 0.3378\n",
      "Epoch [8/60], Step [50/100], Training Loss: 0.2109, Validation Loss: 0.3330\n",
      "Epoch [8/60], Step [75/100], Training Loss: 0.2375, Validation Loss: 0.3314\n",
      "Epoch [8/60], Step [100/100], Training Loss: 0.3246, Validation Loss: 0.3287\n",
      "Epoch [9/60], Step [25/100], Training Loss: 0.5481, Validation Loss: 0.3246\n",
      "Epoch [9/60], Step [50/100], Training Loss: 0.3272, Validation Loss: 0.3589\n",
      "Epoch [9/60], Step [75/100], Training Loss: 0.1677, Validation Loss: 0.3228\n",
      "Epoch [9/60], Step [100/100], Training Loss: 0.2425, Validation Loss: 0.3171\n",
      "Epoch [10/60], Step [25/100], Training Loss: 0.2200, Validation Loss: 0.3266\n",
      "Epoch [10/60], Step [50/100], Training Loss: 0.2471, Validation Loss: 0.3145\n",
      "Epoch [10/60], Step [75/100], Training Loss: 0.3111, Validation Loss: 0.3153\n",
      "Epoch [10/60], Step [100/100], Training Loss: 0.2583, Validation Loss: 0.3124\n",
      "Epoch [11/60], Step [25/100], Training Loss: 0.1526, Validation Loss: 0.3033\n",
      "Epoch [11/60], Step [50/100], Training Loss: 0.1991, Validation Loss: 0.3035\n",
      "Epoch [11/60], Step [75/100], Training Loss: 0.2494, Validation Loss: 0.3073\n",
      "Epoch [11/60], Step [100/100], Training Loss: 0.2705, Validation Loss: 0.3087\n",
      "Epoch [12/60], Step [25/100], Training Loss: 0.1503, Validation Loss: 0.3101\n",
      "Epoch [12/60], Step [50/100], Training Loss: 0.3667, Validation Loss: 0.3184\n",
      "Epoch [12/60], Step [75/100], Training Loss: 0.1418, Validation Loss: 0.2957\n",
      "Epoch [12/60], Step [100/100], Training Loss: 0.4034, Validation Loss: 0.2952\n",
      "Epoch [13/60], Step [25/100], Training Loss: 0.2439, Validation Loss: 0.2919\n",
      "Epoch [13/60], Step [50/100], Training Loss: 0.3409, Validation Loss: 0.2929\n",
      "Epoch [13/60], Step [75/100], Training Loss: 0.2626, Validation Loss: 0.2859\n",
      "Epoch [13/60], Step [100/100], Training Loss: 0.3425, Validation Loss: 0.2954\n",
      "Epoch [14/60], Step [25/100], Training Loss: 0.4661, Validation Loss: 0.2853\n",
      "Epoch [14/60], Step [50/100], Training Loss: 0.3278, Validation Loss: 0.2948\n",
      "Epoch [14/60], Step [75/100], Training Loss: 0.5840, Validation Loss: 0.2921\n",
      "Epoch [14/60], Step [100/100], Training Loss: 0.3380, Validation Loss: 0.2976\n",
      "Epoch [15/60], Step [25/100], Training Loss: 0.1440, Validation Loss: 0.2901\n",
      "Epoch [15/60], Step [50/100], Training Loss: 0.2118, Validation Loss: 0.3014\n",
      "Epoch [15/60], Step [75/100], Training Loss: 0.2511, Validation Loss: 0.2799\n",
      "Epoch [15/60], Step [100/100], Training Loss: 0.1944, Validation Loss: 0.3183\n",
      "Epoch [16/60], Step [25/100], Training Loss: 0.1498, Validation Loss: 0.2849\n",
      "Epoch [16/60], Step [50/100], Training Loss: 0.3593, Validation Loss: 0.2794\n",
      "Epoch [16/60], Step [75/100], Training Loss: 0.4349, Validation Loss: 0.3052\n",
      "Epoch [16/60], Step [100/100], Training Loss: 0.1401, Validation Loss: 0.2819\n",
      "Epoch [17/60], Step [25/100], Training Loss: 0.3331, Validation Loss: 0.2963\n",
      "Epoch [17/60], Step [50/100], Training Loss: 0.3019, Validation Loss: 0.2794\n",
      "Epoch [17/60], Step [75/100], Training Loss: 0.2019, Validation Loss: 0.2786\n",
      "Epoch [17/60], Step [100/100], Training Loss: 0.2816, Validation Loss: 0.2774\n",
      "Epoch [18/60], Step [25/100], Training Loss: 0.4374, Validation Loss: 0.2755\n",
      "Epoch [18/60], Step [50/100], Training Loss: 0.2004, Validation Loss: 0.2740\n",
      "Epoch [18/60], Step [75/100], Training Loss: 0.2047, Validation Loss: 0.2754\n",
      "Epoch [18/60], Step [100/100], Training Loss: 0.3476, Validation Loss: 0.2710\n",
      "Epoch [19/60], Step [25/100], Training Loss: 0.1812, Validation Loss: 0.2711\n",
      "Epoch [19/60], Step [50/100], Training Loss: 0.4272, Validation Loss: 0.2744\n",
      "Epoch [19/60], Step [75/100], Training Loss: 0.2175, Validation Loss: 0.2723\n",
      "Epoch [19/60], Step [100/100], Training Loss: 0.2502, Validation Loss: 0.2764\n",
      "Epoch [20/60], Step [25/100], Training Loss: 0.1415, Validation Loss: 0.2790\n",
      "Epoch [20/60], Step [50/100], Training Loss: 0.1691, Validation Loss: 0.2703\n",
      "Epoch [20/60], Step [75/100], Training Loss: 0.2424, Validation Loss: 0.2844\n",
      "Epoch [20/60], Step [100/100], Training Loss: 0.1554, Validation Loss: 0.2831\n",
      "Epoch [21/60], Step [25/100], Training Loss: 0.1477, Validation Loss: 0.2804\n",
      "Epoch [21/60], Step [50/100], Training Loss: 0.3297, Validation Loss: 0.2786\n",
      "Epoch [21/60], Step [75/100], Training Loss: 0.4439, Validation Loss: 0.2691\n",
      "Epoch [21/60], Step [100/100], Training Loss: 0.1496, Validation Loss: 0.2677\n",
      "Process stop at epoch [22/60] with patience 10 within tolerance 0.0001\n"
     ]
    }
   ],
   "source": [
    "main.train_val(num_epochs=60, interval=25, tolerance=1e-4, patience=10, early_stop=True)"
   ]
  },
  {
   "attachments": {},
   "cell_type": "markdown",
   "metadata": {},
   "source": [
    "### Test Model with Loss\n"
   ]
  },
  {
   "cell_type": "code",
   "execution_count": 8,
   "metadata": {},
   "outputs": [
    {
     "name": "stdout",
     "output_type": "stream",
     "text": [
      "loss of Box on the 104 test dataset: 0.17087210714817047.\n"
     ]
    },
    {
     "data": {
      "text/plain": [
       "OrderedDict([('problem', 'multi-outputs'),\n",
       "             ('loss',\n",
       "              {'train': 0.2868916988372803,\n",
       "               'val': 0.2697790265083313,\n",
       "               'test': 0.17087210714817047})])"
      ]
     },
     "execution_count": 8,
     "metadata": {},
     "output_type": "execute_result"
    }
   ],
   "source": [
    "main.test()"
   ]
  },
  {
   "cell_type": "code",
   "execution_count": 9,
   "metadata": {},
   "outputs": [],
   "source": [
    "X, y = torch.as_tensor(X, dtype=torch.float).to(torch.device(\"cuda\")), torch.as_tensor(y, dtype=torch.float).to(torch.device(\"cuda\"))"
   ]
  },
  {
   "cell_type": "code",
   "execution_count": 10,
   "metadata": {},
   "outputs": [],
   "source": [
    "pred = main.model(X) # predicted\n",
    "# refer to https://pytorch.org/torcheval/main/ for metrics functional tools, like classification\n",
    "# take input as pred, target as y"
   ]
  },
  {
   "cell_type": "code",
   "execution_count": 11,
   "metadata": {},
   "outputs": [
    {
     "data": {
      "text/plain": [
       "'76.5%'"
      ]
     },
     "execution_count": 11,
     "metadata": {},
     "output_type": "execute_result"
    }
   ],
   "source": [
    "'{}%'.format(100 * sum(row.all().int().item() for row in (pred.ge(0.5) == y)) / X.shape[0])"
   ]
  },
  {
   "attachments": {},
   "cell_type": "markdown",
   "metadata": {},
   "source": [
    "### Save Model Parameters to Models Folder\n"
   ]
  },
  {
   "cell_type": "code",
   "execution_count": 12,
   "metadata": {},
   "outputs": [],
   "source": [
    "main.save(con=False, dir='../models/outputs.ckpt')"
   ]
  },
  {
   "attachments": {},
   "cell_type": "markdown",
   "metadata": {},
   "source": [
    "### Load Model Parameters from Models Folder"
   ]
  },
  {
   "cell_type": "code",
   "execution_count": 13,
   "metadata": {},
   "outputs": [],
   "source": [
    "main.load(con=False, dir='../models/outputs.ckpt')"
   ]
  },
  {
   "cell_type": "code",
   "execution_count": null,
   "metadata": {},
   "outputs": [],
   "source": []
  }
 ],
 "metadata": {
  "kernelspec": {
   "display_name": "pytorch",
   "language": "python",
   "name": "python3"
  },
  "language_info": {
   "codemirror_mode": {
    "name": "ipython",
    "version": 3
   },
   "file_extension": ".py",
   "mimetype": "text/x-python",
   "name": "python",
   "nbconvert_exporter": "python",
   "pygments_lexer": "ipython3",
   "version": "3.8.13"
  },
  "orig_nbformat": 4
 },
 "nbformat": 4,
 "nbformat_minor": 2
}
