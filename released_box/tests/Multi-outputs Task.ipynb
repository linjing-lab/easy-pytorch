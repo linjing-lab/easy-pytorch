{
 "cells": [
  {
   "attachments": {},
   "cell_type": "markdown",
   "metadata": {},
   "source": [
    "# Multi-outputs Task"
   ]
  },
  {
   "cell_type": "code",
   "execution_count": null,
   "metadata": {},
   "outputs": [],
   "source": [
    "!pip install polars[pandas]"
   ]
  },
  {
   "cell_type": "code",
   "execution_count": 2,
   "metadata": {},
   "outputs": [],
   "source": [
    "import numpy\n",
    "import pandas # or use `polars`\n",
    "import torch"
   ]
  },
  {
   "attachments": {},
   "cell_type": "markdown",
   "metadata": {},
   "source": [
    "## Data Processing from scikit-learn"
   ]
  },
  {
   "cell_type": "code",
   "execution_count": 3,
   "metadata": {},
   "outputs": [],
   "source": [
    "from sklearn.datasets import make_multilabel_classification"
   ]
  },
  {
   "cell_type": "code",
   "execution_count": 4,
   "metadata": {},
   "outputs": [],
   "source": [
    "X, y = make_multilabel_classification(n_samples=1000, \n",
    "                                      n_features=10,\n",
    "                                      n_classes=3,\n",
    "                                      n_labels=2,\n",
    "                                      random_state=1)"
   ]
  },
  {
   "cell_type": "code",
   "execution_count": 5,
   "metadata": {},
   "outputs": [
    {
     "data": {
      "text/plain": [
       "((1000, 10), (1000, 3))"
      ]
     },
     "execution_count": 5,
     "metadata": {},
     "output_type": "execute_result"
    }
   ],
   "source": [
    "X.shape, y.shape"
   ]
  },
  {
   "attachments": {},
   "cell_type": "markdown",
   "metadata": {},
   "source": [
    "## Machine Learning Process"
   ]
  },
  {
   "attachments": {},
   "cell_type": "markdown",
   "metadata": {},
   "source": [
    "### Load Perming and Config Hyperparameters\n"
   ]
  },
  {
   "cell_type": "code",
   "execution_count": 6,
   "metadata": {},
   "outputs": [
    {
     "name": "stdout",
     "output_type": "stream",
     "text": [
      "MLP(\n",
      "  (mlp): Sequential(\n",
      "    (Linear0): Linear(in_features=10, out_features=30, bias=True)\n",
      "    (Activation0): ReLU(inplace=True)\n",
      "    (Linear1): Linear(in_features=30, out_features=3, bias=True)\n",
      "  )\n",
      ")\n"
     ]
    },
    {
     "data": {
      "text/plain": [
       "OrderedDict([('torch -v', '1.7.1+cu101'),\n",
       "             ('criterion', MultiLabelSoftMarginLoss()),\n",
       "             ('batch_size', 16),\n",
       "             ('solver',\n",
       "              SGD (\n",
       "              Parameter Group 0\n",
       "                  dampening: 0\n",
       "                  lr: 0.01\n",
       "                  momentum: 0\n",
       "                  nesterov: False\n",
       "                  weight_decay: 0\n",
       "              )),\n",
       "             ('lr_scheduler', None),\n",
       "             ('device', device(type='cuda'))])"
      ]
     },
     "execution_count": 6,
     "metadata": {},
     "output_type": "execute_result"
    }
   ],
   "source": [
    "import perming\n",
    "main = perming.Box(10, 3, (30,), batch_size=16, activation='relu', inplace_on=True, solver='sgd', criterion=\"MultiLabelSoftMarginLoss\", learning_rate_init=0.01)\n",
    "# main = perming.Ranker(10, 3, (30,), batch_size=16, activation='relu', solver='sgd', criterion=\"MultiLabelSoftMarginLoss\", learning_rate_init=0.01)\n",
    "# main = perming.COMMON_MODELS['Multi-outputs'](10, 3, (30,), batch_size=16, activation='relu', solver='sgd', criterion=\"MultiLabelSoftMarginLoss\", learning_rate_init=0.01)\n",
    "main.print_config()"
   ]
  },
  {
   "attachments": {},
   "cell_type": "markdown",
   "metadata": {},
   "source": [
    "### Dataloader from Numpy with Multi-threaded\n"
   ]
  },
  {
   "cell_type": "code",
   "execution_count": 7,
   "metadata": {},
   "outputs": [],
   "source": [
    "main.data_loader(X, y, random_seed=0)"
   ]
  },
  {
   "attachments": {},
   "cell_type": "markdown",
   "metadata": {},
   "source": [
    "### Training Stage and Accelerated Validation\n"
   ]
  },
  {
   "cell_type": "code",
   "execution_count": 8,
   "metadata": {},
   "outputs": [
    {
     "name": "stdout",
     "output_type": "stream",
     "text": [
      "Epoch [1/20], Step [10/50], Training Loss: 0.5813, Validation Loss: 0.6255\n",
      "Epoch [1/20], Step [20/50], Training Loss: 0.5474, Validation Loss: 0.5794\n",
      "Epoch [1/20], Step [30/50], Training Loss: 0.5363, Validation Loss: 0.5585\n",
      "Epoch [1/20], Step [40/50], Training Loss: 0.5204, Validation Loss: 0.5364\n",
      "Epoch [1/20], Step [50/50], Training Loss: 0.4003, Validation Loss: 0.5185\n",
      "Epoch [2/20], Step [10/50], Training Loss: 0.3562, Validation Loss: 0.5080\n",
      "Epoch [2/20], Step [20/50], Training Loss: 0.4315, Validation Loss: 0.4914\n",
      "Epoch [2/20], Step [30/50], Training Loss: 0.4022, Validation Loss: 0.4806\n",
      "Epoch [2/20], Step [40/50], Training Loss: 0.4219, Validation Loss: 0.4698\n",
      "Epoch [2/20], Step [50/50], Training Loss: 0.4118, Validation Loss: 0.4621\n",
      "Epoch [3/20], Step [10/50], Training Loss: 0.4103, Validation Loss: 0.4508\n",
      "Epoch [3/20], Step [20/50], Training Loss: 0.4358, Validation Loss: 0.4449\n",
      "Epoch [3/20], Step [30/50], Training Loss: 0.4108, Validation Loss: 0.4341\n",
      "Epoch [3/20], Step [40/50], Training Loss: 0.3935, Validation Loss: 0.4294\n",
      "Epoch [3/20], Step [50/50], Training Loss: 0.4054, Validation Loss: 0.4207\n",
      "Epoch [4/20], Step [10/50], Training Loss: 0.3447, Validation Loss: 0.4167\n",
      "Epoch [4/20], Step [20/50], Training Loss: 0.4195, Validation Loss: 0.4100\n",
      "Epoch [4/20], Step [30/50], Training Loss: 0.3789, Validation Loss: 0.4045\n",
      "Epoch [4/20], Step [40/50], Training Loss: 0.2928, Validation Loss: 0.4004\n",
      "Epoch [4/20], Step [50/50], Training Loss: 0.3542, Validation Loss: 0.3947\n",
      "Epoch [5/20], Step [10/50], Training Loss: 0.3401, Validation Loss: 0.3904\n",
      "Epoch [5/20], Step [20/50], Training Loss: 0.3002, Validation Loss: 0.3934\n",
      "Epoch [5/20], Step [30/50], Training Loss: 0.4178, Validation Loss: 0.3839\n",
      "Epoch [5/20], Step [40/50], Training Loss: 0.3845, Validation Loss: 0.3776\n",
      "Epoch [5/20], Step [50/50], Training Loss: 0.2989, Validation Loss: 0.3739\n",
      "Epoch [6/20], Step [10/50], Training Loss: 0.3633, Validation Loss: 0.3732\n",
      "Epoch [6/20], Step [20/50], Training Loss: 0.2840, Validation Loss: 0.3681\n",
      "Epoch [6/20], Step [30/50], Training Loss: 0.3491, Validation Loss: 0.3650\n",
      "Epoch [6/20], Step [40/50], Training Loss: 0.4639, Validation Loss: 0.3621\n",
      "Epoch [6/20], Step [50/50], Training Loss: 0.3467, Validation Loss: 0.3587\n",
      "Epoch [7/20], Step [10/50], Training Loss: 0.2648, Validation Loss: 0.3581\n",
      "Epoch [7/20], Step [20/50], Training Loss: 0.3066, Validation Loss: 0.3562\n",
      "Epoch [7/20], Step [30/50], Training Loss: 0.4474, Validation Loss: 0.3510\n",
      "Epoch [7/20], Step [40/50], Training Loss: 0.2594, Validation Loss: 0.3492\n",
      "Epoch [7/20], Step [50/50], Training Loss: 0.3913, Validation Loss: 0.3463\n",
      "Epoch [8/20], Step [10/50], Training Loss: 0.3717, Validation Loss: 0.3506\n",
      "Epoch [8/20], Step [20/50], Training Loss: 0.2534, Validation Loss: 0.3459\n",
      "Epoch [8/20], Step [30/50], Training Loss: 0.3077, Validation Loss: 0.3426\n",
      "Epoch [8/20], Step [40/50], Training Loss: 0.3018, Validation Loss: 0.3381\n",
      "Epoch [8/20], Step [50/50], Training Loss: 0.2382, Validation Loss: 0.3362\n",
      "Epoch [9/20], Step [10/50], Training Loss: 0.3458, Validation Loss: 0.3375\n",
      "Epoch [9/20], Step [20/50], Training Loss: 0.2677, Validation Loss: 0.3325\n",
      "Epoch [9/20], Step [30/50], Training Loss: 0.2558, Validation Loss: 0.3318\n",
      "Epoch [9/20], Step [40/50], Training Loss: 0.3620, Validation Loss: 0.3348\n",
      "Epoch [9/20], Step [50/50], Training Loss: 0.4660, Validation Loss: 0.3311\n",
      "Epoch [10/20], Step [10/50], Training Loss: 0.2778, Validation Loss: 0.3365\n",
      "Epoch [10/20], Step [20/50], Training Loss: 0.2702, Validation Loss: 0.3283\n",
      "Epoch [10/20], Step [30/50], Training Loss: 0.3250, Validation Loss: 0.3252\n",
      "Epoch [10/20], Step [40/50], Training Loss: 0.3287, Validation Loss: 0.3221\n",
      "Epoch [10/20], Step [50/50], Training Loss: 0.2576, Validation Loss: 0.3228\n",
      "Epoch [11/20], Step [10/50], Training Loss: 0.2795, Validation Loss: 0.3221\n",
      "Epoch [11/20], Step [20/50], Training Loss: 0.2471, Validation Loss: 0.3162\n",
      "Epoch [11/20], Step [30/50], Training Loss: 0.2494, Validation Loss: 0.3200\n",
      "Epoch [11/20], Step [40/50], Training Loss: 0.3046, Validation Loss: 0.3203\n",
      "Epoch [11/20], Step [50/50], Training Loss: 0.3502, Validation Loss: 0.3163\n",
      "Epoch [12/20], Step [10/50], Training Loss: 0.2009, Validation Loss: 0.3255\n",
      "Epoch [12/20], Step [20/50], Training Loss: 0.3321, Validation Loss: 0.3112\n",
      "Epoch [12/20], Step [30/50], Training Loss: 0.2724, Validation Loss: 0.3106\n",
      "Epoch [12/20], Step [40/50], Training Loss: 0.2532, Validation Loss: 0.3108\n",
      "Epoch [12/20], Step [50/50], Training Loss: 0.2588, Validation Loss: 0.3088\n",
      "Epoch [13/20], Step [10/50], Training Loss: 0.2707, Validation Loss: 0.3092\n",
      "Epoch [13/20], Step [20/50], Training Loss: 0.2997, Validation Loss: 0.3075\n",
      "Epoch [13/20], Step [30/50], Training Loss: 0.3525, Validation Loss: 0.3036\n",
      "Epoch [13/20], Step [40/50], Training Loss: 0.3087, Validation Loss: 0.3070\n",
      "Epoch [13/20], Step [50/50], Training Loss: 0.3000, Validation Loss: 0.3039\n",
      "Epoch [14/20], Step [10/50], Training Loss: 0.2698, Validation Loss: 0.3031\n",
      "Epoch [14/20], Step [20/50], Training Loss: 0.2892, Validation Loss: 0.3083\n",
      "Epoch [14/20], Step [30/50], Training Loss: 0.2796, Validation Loss: 0.3017\n",
      "Epoch [14/20], Step [40/50], Training Loss: 0.2681, Validation Loss: 0.2993\n",
      "Epoch [14/20], Step [50/50], Training Loss: 0.2853, Validation Loss: 0.3002\n",
      "Epoch [15/20], Step [10/50], Training Loss: 0.2496, Validation Loss: 0.2972\n",
      "Epoch [15/20], Step [20/50], Training Loss: 0.4379, Validation Loss: 0.2951\n",
      "Epoch [15/20], Step [30/50], Training Loss: 0.3123, Validation Loss: 0.2980\n",
      "Epoch [15/20], Step [40/50], Training Loss: 0.3575, Validation Loss: 0.2926\n",
      "Epoch [15/20], Step [50/50], Training Loss: 0.2838, Validation Loss: 0.3116\n",
      "Epoch [16/20], Step [10/50], Training Loss: 0.2410, Validation Loss: 0.3019\n",
      "Epoch [16/20], Step [20/50], Training Loss: 0.2992, Validation Loss: 0.2944\n",
      "Epoch [16/20], Step [30/50], Training Loss: 0.2184, Validation Loss: 0.2909\n",
      "Epoch [16/20], Step [40/50], Training Loss: 0.2089, Validation Loss: 0.3007\n",
      "Epoch [16/20], Step [50/50], Training Loss: 0.2846, Validation Loss: 0.2957\n",
      "Epoch [17/20], Step [10/50], Training Loss: 0.1867, Validation Loss: 0.2870\n",
      "Epoch [17/20], Step [20/50], Training Loss: 0.1414, Validation Loss: 0.2891\n",
      "Epoch [17/20], Step [30/50], Training Loss: 0.3329, Validation Loss: 0.2883\n",
      "Epoch [17/20], Step [40/50], Training Loss: 0.2105, Validation Loss: 0.2972\n",
      "Epoch [17/20], Step [50/50], Training Loss: 0.2517, Validation Loss: 0.2926\n",
      "Epoch [18/20], Step [10/50], Training Loss: 0.2389, Validation Loss: 0.2885\n",
      "Epoch [18/20], Step [20/50], Training Loss: 0.3690, Validation Loss: 0.2871\n",
      "Epoch [18/20], Step [30/50], Training Loss: 0.2841, Validation Loss: 0.2854\n",
      "Epoch [18/20], Step [40/50], Training Loss: 0.4043, Validation Loss: 0.2828\n",
      "Epoch [18/20], Step [50/50], Training Loss: 0.2563, Validation Loss: 0.2855\n",
      "Epoch [19/20], Step [10/50], Training Loss: 0.1686, Validation Loss: 0.2824\n",
      "Epoch [19/20], Step [20/50], Training Loss: 0.2042, Validation Loss: 0.2808\n",
      "Epoch [19/20], Step [30/50], Training Loss: 0.2614, Validation Loss: 0.3019\n",
      "Epoch [19/20], Step [40/50], Training Loss: 0.2441, Validation Loss: 0.2906\n",
      "Epoch [19/20], Step [50/50], Training Loss: 0.2133, Validation Loss: 0.2823\n",
      "Epoch [20/20], Step [10/50], Training Loss: 0.3115, Validation Loss: 0.2827\n",
      "Epoch [20/20], Step [20/50], Training Loss: 0.2283, Validation Loss: 0.2802\n",
      "Epoch [20/20], Step [30/50], Training Loss: 0.3264, Validation Loss: 0.2804\n",
      "Epoch [20/20], Step [40/50], Training Loss: 0.2463, Validation Loss: 0.2761\n",
      "Epoch [20/20], Step [50/50], Training Loss: 0.2527, Validation Loss: 0.2892\n"
     ]
    }
   ],
   "source": [
    "main.train_val(num_epochs=20, interval=10)"
   ]
  },
  {
   "attachments": {},
   "cell_type": "markdown",
   "metadata": {},
   "source": [
    "### Test Model with Loss\n"
   ]
  },
  {
   "cell_type": "code",
   "execution_count": 9,
   "metadata": {},
   "outputs": [
    {
     "name": "stdout",
     "output_type": "stream",
     "text": [
      "loss of Box on the 112 test dataset: 0.20931537449359894. accuracy: 0.0000 %\n"
     ]
    },
    {
     "data": {
      "text/plain": [
       "OrderedDict([('problem', 'multi-outputs'),\n",
       "             ('loss',\n",
       "              {'train': 0.25271689891815186,\n",
       "               'val': 0.28921976685523987,\n",
       "               'test': 0.20931537449359894})])"
      ]
     },
     "execution_count": 9,
     "metadata": {},
     "output_type": "execute_result"
    }
   ],
   "source": [
    "main.test()"
   ]
  },
  {
   "cell_type": "code",
   "execution_count": 10,
   "metadata": {},
   "outputs": [],
   "source": [
    "X, y = torch.as_tensor(X, dtype=torch.float).to(torch.device(\"cuda\")), torch.as_tensor(y, dtype=torch.float).to(torch.device(\"cuda\"))"
   ]
  },
  {
   "cell_type": "code",
   "execution_count": 11,
   "metadata": {},
   "outputs": [],
   "source": [
    "pred = main.model(X) # predicted"
   ]
  },
  {
   "cell_type": "code",
   "execution_count": 12,
   "metadata": {},
   "outputs": [
    {
     "data": {
      "text/plain": [
       "'72.8%'"
      ]
     },
     "execution_count": 12,
     "metadata": {},
     "output_type": "execute_result"
    }
   ],
   "source": [
    "'{}%'.format(sum(row.all().int().item() for row in (pred.ge(0.5) == y)) / X.shape[1])"
   ]
  },
  {
   "attachments": {},
   "cell_type": "markdown",
   "metadata": {},
   "source": [
    "### Save Model Parameters to Models Folder\n"
   ]
  },
  {
   "cell_type": "code",
   "execution_count": 13,
   "metadata": {},
   "outputs": [],
   "source": [
    "main.save(show=False, dir='../models/outputs.ckpt')"
   ]
  },
  {
   "attachments": {},
   "cell_type": "markdown",
   "metadata": {},
   "source": [
    "### Load Model Parameters from Models Folder"
   ]
  },
  {
   "cell_type": "code",
   "execution_count": 14,
   "metadata": {},
   "outputs": [],
   "source": [
    "main.load(show=False, dir='../models/outputs.ckpt')"
   ]
  },
  {
   "cell_type": "code",
   "execution_count": null,
   "metadata": {},
   "outputs": [],
   "source": []
  }
 ],
 "metadata": {
  "kernelspec": {
   "display_name": "pytorch",
   "language": "python",
   "name": "python3"
  },
  "language_info": {
   "codemirror_mode": {
    "name": "ipython",
    "version": 3
   },
   "file_extension": ".py",
   "mimetype": "text/x-python",
   "name": "python",
   "nbconvert_exporter": "python",
   "pygments_lexer": "ipython3",
   "version": "3.8.13"
  },
  "orig_nbformat": 4
 },
 "nbformat": 4,
 "nbformat_minor": 2
}
