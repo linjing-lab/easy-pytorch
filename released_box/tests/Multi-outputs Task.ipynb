{
 "cells": [
  {
   "attachments": {},
   "cell_type": "markdown",
   "metadata": {},
   "source": [
    "# Multi-outputs Task"
   ]
  },
  {
   "cell_type": "code",
   "execution_count": null,
   "metadata": {},
   "outputs": [],
   "source": [
    "!pip install polars[pandas]"
   ]
  },
  {
   "cell_type": "code",
   "execution_count": 2,
   "metadata": {},
   "outputs": [],
   "source": [
    "import numpy\n",
    "import pandas # or use `polars`\n",
    "import torch"
   ]
  },
  {
   "attachments": {},
   "cell_type": "markdown",
   "metadata": {},
   "source": [
    "## Data Processing from scikit-learn"
   ]
  },
  {
   "cell_type": "code",
   "execution_count": 3,
   "metadata": {},
   "outputs": [],
   "source": [
    "from sklearn.datasets import make_multilabel_classification"
   ]
  },
  {
   "cell_type": "code",
   "execution_count": 4,
   "metadata": {},
   "outputs": [],
   "source": [
    "X, y = make_multilabel_classification(n_samples=1000, \n",
    "                                      n_features=10,\n",
    "                                      n_classes=3,\n",
    "                                      n_labels=2,\n",
    "                                      random_state=1)"
   ]
  },
  {
   "cell_type": "code",
   "execution_count": 5,
   "metadata": {},
   "outputs": [
    {
     "data": {
      "text/plain": [
       "((1000, 10), (1000, 3))"
      ]
     },
     "execution_count": 5,
     "metadata": {},
     "output_type": "execute_result"
    }
   ],
   "source": [
    "X.shape, y.shape"
   ]
  },
  {
   "attachments": {},
   "cell_type": "markdown",
   "metadata": {},
   "source": [
    "## Machine Learning Process"
   ]
  },
  {
   "attachments": {},
   "cell_type": "markdown",
   "metadata": {},
   "source": [
    "### Load Perming and Config Hyperparameters\n"
   ]
  },
  {
   "cell_type": "code",
   "execution_count": 6,
   "metadata": {},
   "outputs": [
    {
     "name": "stdout",
     "output_type": "stream",
     "text": [
      "MLP(\n",
      "  (mlp): Sequential(\n",
      "    (Linear0): Linear(in_features=10, out_features=30, bias=True)\n",
      "    (Activation0): ReLU(inplace=True)\n",
      "    (Linear1): Linear(in_features=30, out_features=3, bias=True)\n",
      "  )\n",
      ")\n"
     ]
    },
    {
     "data": {
      "text/plain": [
       "OrderedDict([('torch -v', '1.7.1+cu101'),\n",
       "             ('criterion', MultiLabelSoftMarginLoss()),\n",
       "             ('batch_size', 16),\n",
       "             ('solver',\n",
       "              SGD (\n",
       "              Parameter Group 0\n",
       "                  dampening: 0\n",
       "                  lr: 0.01\n",
       "                  momentum: 0\n",
       "                  nesterov: False\n",
       "                  weight_decay: 0\n",
       "              )),\n",
       "             ('lr_scheduler', None),\n",
       "             ('device', device(type='cuda'))])"
      ]
     },
     "execution_count": 6,
     "metadata": {},
     "output_type": "execute_result"
    }
   ],
   "source": [
    "import perming\n",
    "main = perming.Box(10, 3, (30,), batch_size=16, activation='relu', inplace_on=True, solver='sgd', criterion=\"MultiLabelSoftMarginLoss\", learning_rate_init=0.01)\n",
    "# main = perming.Ranker(10, 3, (30,), batch_size=16, activation='relu', solver='sgd', criterion=\"MultiLabelSoftMarginLoss\", learning_rate_init=0.01)\n",
    "# main = perming.COMMON_MODELS['Multi-outputs'](10, 3, (30,), batch_size=16, activation='relu', solver='sgd', criterion=\"MultiLabelSoftMarginLoss\", learning_rate_init=0.01)\n",
    "main.print_config()"
   ]
  },
  {
   "attachments": {},
   "cell_type": "markdown",
   "metadata": {},
   "source": [
    "### Dataloader from Numpy with Multi-threaded\n"
   ]
  },
  {
   "cell_type": "code",
   "execution_count": 7,
   "metadata": {},
   "outputs": [],
   "source": [
    "main.data_loader(X, y, random_seed=0)"
   ]
  },
  {
   "attachments": {},
   "cell_type": "markdown",
   "metadata": {},
   "source": [
    "### Training Stage and Accelerated Validation\n"
   ]
  },
  {
   "cell_type": "code",
   "execution_count": 8,
   "metadata": {},
   "outputs": [
    {
     "name": "stdout",
     "output_type": "stream",
     "text": [
      "Epoch [1/20], Step [10/50], Training Loss: 0.5479, Validation Loss: 0.6109\n",
      "Epoch [1/20], Step [20/50], Training Loss: 0.5385, Validation Loss: 0.5826\n",
      "Epoch [1/20], Step [30/50], Training Loss: 0.4993, Validation Loss: 0.5639\n",
      "Epoch [1/20], Step [40/50], Training Loss: 0.5960, Validation Loss: 0.5497\n",
      "Epoch [1/20], Step [50/50], Training Loss: 0.5358, Validation Loss: 0.5348\n",
      "Epoch [2/20], Step [10/50], Training Loss: 0.5558, Validation Loss: 0.5239\n",
      "Epoch [2/20], Step [20/50], Training Loss: 0.6734, Validation Loss: 0.5109\n",
      "Epoch [2/20], Step [30/50], Training Loss: 0.5249, Validation Loss: 0.4995\n",
      "Epoch [2/20], Step [40/50], Training Loss: 0.5660, Validation Loss: 0.4906\n",
      "Epoch [2/20], Step [50/50], Training Loss: 0.4641, Validation Loss: 0.4821\n",
      "Epoch [3/20], Step [10/50], Training Loss: 0.4497, Validation Loss: 0.4732\n",
      "Epoch [3/20], Step [20/50], Training Loss: 0.4283, Validation Loss: 0.4643\n",
      "Epoch [3/20], Step [30/50], Training Loss: 0.4788, Validation Loss: 0.4571\n",
      "Epoch [3/20], Step [40/50], Training Loss: 0.4162, Validation Loss: 0.4506\n",
      "Epoch [3/20], Step [50/50], Training Loss: 0.4685, Validation Loss: 0.4443\n",
      "Epoch [4/20], Step [10/50], Training Loss: 0.4266, Validation Loss: 0.4408\n",
      "Epoch [4/20], Step [20/50], Training Loss: 0.5400, Validation Loss: 0.4334\n",
      "Epoch [4/20], Step [30/50], Training Loss: 0.4217, Validation Loss: 0.4277\n",
      "Epoch [4/20], Step [40/50], Training Loss: 0.2851, Validation Loss: 0.4228\n",
      "Epoch [4/20], Step [50/50], Training Loss: 0.3557, Validation Loss: 0.4176\n",
      "Epoch [5/20], Step [10/50], Training Loss: 0.4293, Validation Loss: 0.4149\n",
      "Epoch [5/20], Step [20/50], Training Loss: 0.4098, Validation Loss: 0.4067\n",
      "Epoch [5/20], Step [30/50], Training Loss: 0.3738, Validation Loss: 0.4026\n",
      "Epoch [5/20], Step [40/50], Training Loss: 0.3103, Validation Loss: 0.4005\n",
      "Epoch [5/20], Step [50/50], Training Loss: 0.4017, Validation Loss: 0.3958\n",
      "Epoch [6/20], Step [10/50], Training Loss: 0.3899, Validation Loss: 0.3963\n",
      "Epoch [6/20], Step [20/50], Training Loss: 0.3654, Validation Loss: 0.3917\n",
      "Epoch [6/20], Step [30/50], Training Loss: 0.3403, Validation Loss: 0.3858\n",
      "Epoch [6/20], Step [40/50], Training Loss: 0.2693, Validation Loss: 0.3825\n",
      "Epoch [6/20], Step [50/50], Training Loss: 0.2993, Validation Loss: 0.3798\n",
      "Epoch [7/20], Step [10/50], Training Loss: 0.4561, Validation Loss: 0.3761\n",
      "Epoch [7/20], Step [20/50], Training Loss: 0.4277, Validation Loss: 0.3729\n",
      "Epoch [7/20], Step [30/50], Training Loss: 0.3195, Validation Loss: 0.3716\n",
      "Epoch [7/20], Step [40/50], Training Loss: 0.3082, Validation Loss: 0.3703\n",
      "Epoch [7/20], Step [50/50], Training Loss: 0.3553, Validation Loss: 0.3741\n",
      "Epoch [8/20], Step [10/50], Training Loss: 0.4126, Validation Loss: 0.3633\n",
      "Epoch [8/20], Step [20/50], Training Loss: 0.3173, Validation Loss: 0.3633\n",
      "Epoch [8/20], Step [30/50], Training Loss: 0.4067, Validation Loss: 0.3650\n",
      "Epoch [8/20], Step [40/50], Training Loss: 0.2880, Validation Loss: 0.3603\n",
      "Epoch [8/20], Step [50/50], Training Loss: 0.3287, Validation Loss: 0.3558\n",
      "Epoch [9/20], Step [10/50], Training Loss: 0.3030, Validation Loss: 0.3571\n",
      "Epoch [9/20], Step [20/50], Training Loss: 0.3968, Validation Loss: 0.3602\n",
      "Epoch [9/20], Step [30/50], Training Loss: 0.2637, Validation Loss: 0.3485\n",
      "Epoch [9/20], Step [40/50], Training Loss: 0.2919, Validation Loss: 0.3476\n",
      "Epoch [9/20], Step [50/50], Training Loss: 0.2982, Validation Loss: 0.3443\n",
      "Epoch [10/20], Step [10/50], Training Loss: 0.3380, Validation Loss: 0.3437\n",
      "Epoch [10/20], Step [20/50], Training Loss: 0.3545, Validation Loss: 0.3439\n",
      "Epoch [10/20], Step [30/50], Training Loss: 0.3116, Validation Loss: 0.3392\n",
      "Epoch [10/20], Step [40/50], Training Loss: 0.2053, Validation Loss: 0.3438\n",
      "Epoch [10/20], Step [50/50], Training Loss: 0.4230, Validation Loss: 0.3450\n",
      "Epoch [11/20], Step [10/50], Training Loss: 0.2627, Validation Loss: 0.3377\n",
      "Epoch [11/20], Step [20/50], Training Loss: 0.2622, Validation Loss: 0.3321\n",
      "Epoch [11/20], Step [30/50], Training Loss: 0.3026, Validation Loss: 0.3326\n",
      "Epoch [11/20], Step [40/50], Training Loss: 0.2939, Validation Loss: 0.3336\n",
      "Epoch [11/20], Step [50/50], Training Loss: 0.3542, Validation Loss: 0.3368\n",
      "Epoch [12/20], Step [10/50], Training Loss: 0.3181, Validation Loss: 0.3277\n",
      "Epoch [12/20], Step [20/50], Training Loss: 0.2500, Validation Loss: 0.3293\n",
      "Epoch [12/20], Step [30/50], Training Loss: 0.3495, Validation Loss: 0.3311\n",
      "Epoch [12/20], Step [40/50], Training Loss: 0.2629, Validation Loss: 0.3228\n",
      "Epoch [12/20], Step [50/50], Training Loss: 0.2545, Validation Loss: 0.3265\n",
      "Epoch [13/20], Step [10/50], Training Loss: 0.2638, Validation Loss: 0.3330\n",
      "Epoch [13/20], Step [20/50], Training Loss: 0.3775, Validation Loss: 0.3307\n",
      "Epoch [13/20], Step [30/50], Training Loss: 0.2120, Validation Loss: 0.3211\n",
      "Epoch [13/20], Step [40/50], Training Loss: 0.3103, Validation Loss: 0.3232\n",
      "Epoch [13/20], Step [50/50], Training Loss: 0.2199, Validation Loss: 0.3170\n",
      "Epoch [14/20], Step [10/50], Training Loss: 0.2564, Validation Loss: 0.3174\n",
      "Epoch [14/20], Step [20/50], Training Loss: 0.2568, Validation Loss: 0.3183\n",
      "Epoch [14/20], Step [30/50], Training Loss: 0.2083, Validation Loss: 0.3155\n",
      "Epoch [14/20], Step [40/50], Training Loss: 0.3043, Validation Loss: 0.3153\n",
      "Epoch [14/20], Step [50/50], Training Loss: 0.2518, Validation Loss: 0.3128\n",
      "Epoch [15/20], Step [10/50], Training Loss: 0.3854, Validation Loss: 0.3122\n",
      "Epoch [15/20], Step [20/50], Training Loss: 0.2276, Validation Loss: 0.3091\n",
      "Epoch [15/20], Step [30/50], Training Loss: 0.3121, Validation Loss: 0.3128\n",
      "Epoch [15/20], Step [40/50], Training Loss: 0.3069, Validation Loss: 0.3164\n",
      "Epoch [15/20], Step [50/50], Training Loss: 0.1578, Validation Loss: 0.3077\n",
      "Epoch [16/20], Step [10/50], Training Loss: 0.2361, Validation Loss: 0.3089\n",
      "Epoch [16/20], Step [20/50], Training Loss: 0.1904, Validation Loss: 0.3061\n",
      "Epoch [16/20], Step [30/50], Training Loss: 0.1804, Validation Loss: 0.3054\n",
      "Epoch [16/20], Step [40/50], Training Loss: 0.2468, Validation Loss: 0.3073\n",
      "Epoch [16/20], Step [50/50], Training Loss: 0.2968, Validation Loss: 0.3077\n",
      "Epoch [17/20], Step [10/50], Training Loss: 0.2934, Validation Loss: 0.3129\n",
      "Epoch [17/20], Step [20/50], Training Loss: 0.2981, Validation Loss: 0.3047\n",
      "Epoch [17/20], Step [30/50], Training Loss: 0.2219, Validation Loss: 0.2967\n",
      "Epoch [17/20], Step [40/50], Training Loss: 0.2430, Validation Loss: 0.2990\n",
      "Epoch [17/20], Step [50/50], Training Loss: 0.2929, Validation Loss: 0.2998\n",
      "Epoch [18/20], Step [10/50], Training Loss: 0.2306, Validation Loss: 0.2981\n",
      "Epoch [18/20], Step [20/50], Training Loss: 0.2237, Validation Loss: 0.3014\n",
      "Epoch [18/20], Step [30/50], Training Loss: 0.1869, Validation Loss: 0.2992\n",
      "Epoch [18/20], Step [40/50], Training Loss: 0.3880, Validation Loss: 0.3038\n",
      "Epoch [18/20], Step [50/50], Training Loss: 0.1903, Validation Loss: 0.2986\n",
      "Epoch [19/20], Step [10/50], Training Loss: 0.1339, Validation Loss: 0.2966\n",
      "Epoch [19/20], Step [20/50], Training Loss: 0.2916, Validation Loss: 0.3034\n",
      "Epoch [19/20], Step [30/50], Training Loss: 0.2913, Validation Loss: 0.2929\n",
      "Epoch [19/20], Step [40/50], Training Loss: 0.4101, Validation Loss: 0.2918\n",
      "Epoch [19/20], Step [50/50], Training Loss: 0.2198, Validation Loss: 0.2876\n",
      "Epoch [20/20], Step [10/50], Training Loss: 0.3450, Validation Loss: 0.2928\n",
      "Epoch [20/20], Step [20/50], Training Loss: 0.1856, Validation Loss: 0.2941\n",
      "Epoch [20/20], Step [30/50], Training Loss: 0.2382, Validation Loss: 0.2922\n",
      "Epoch [20/20], Step [40/50], Training Loss: 0.2117, Validation Loss: 0.2950\n",
      "Epoch [20/20], Step [50/50], Training Loss: 0.2524, Validation Loss: 0.2872\n"
     ]
    }
   ],
   "source": [
    "main.train_val(num_epochs=20, interval=10, tolerance=1e-4, patience=20, early_stop=True)"
   ]
  },
  {
   "attachments": {},
   "cell_type": "markdown",
   "metadata": {},
   "source": [
    "### Test Model with Loss\n"
   ]
  },
  {
   "cell_type": "code",
   "execution_count": 9,
   "metadata": {},
   "outputs": [
    {
     "name": "stdout",
     "output_type": "stream",
     "text": [
      "loss of Box on the 112 test dataset: 0.2146691232919693. accuracy: 0.0000 %\n"
     ]
    },
    {
     "data": {
      "text/plain": [
       "OrderedDict([('problem', 'multi-outputs'),\n",
       "             ('loss',\n",
       "              {'train': 0.25243276357650757,\n",
       "               'val': 0.28719326853752136,\n",
       "               'test': 0.2146691232919693})])"
      ]
     },
     "execution_count": 9,
     "metadata": {},
     "output_type": "execute_result"
    }
   ],
   "source": [
    "main.test()"
   ]
  },
  {
   "cell_type": "code",
   "execution_count": 10,
   "metadata": {},
   "outputs": [],
   "source": [
    "X, y = torch.as_tensor(X, dtype=torch.float).to(torch.device(\"cuda\")), torch.as_tensor(y, dtype=torch.float).to(torch.device(\"cuda\"))"
   ]
  },
  {
   "cell_type": "code",
   "execution_count": 11,
   "metadata": {},
   "outputs": [],
   "source": [
    "pred = main.model(X) # predicted"
   ]
  },
  {
   "cell_type": "code",
   "execution_count": 12,
   "metadata": {},
   "outputs": [
    {
     "data": {
      "text/plain": [
       "'70.8%'"
      ]
     },
     "execution_count": 12,
     "metadata": {},
     "output_type": "execute_result"
    }
   ],
   "source": [
    "'{}%'.format(100 * sum(row.all().int().item() for row in (pred.ge(0.5) == y)) / X.shape[0])"
   ]
  },
  {
   "attachments": {},
   "cell_type": "markdown",
   "metadata": {},
   "source": [
    "### Save Model Parameters to Models Folder\n"
   ]
  },
  {
   "cell_type": "code",
   "execution_count": 13,
   "metadata": {},
   "outputs": [],
   "source": [
    "main.save(show=False, dir='../models/outputs.ckpt')"
   ]
  },
  {
   "attachments": {},
   "cell_type": "markdown",
   "metadata": {},
   "source": [
    "### Load Model Parameters from Models Folder"
   ]
  },
  {
   "cell_type": "code",
   "execution_count": 14,
   "metadata": {},
   "outputs": [],
   "source": [
    "main.load(show=False, dir='../models/outputs.ckpt')"
   ]
  },
  {
   "cell_type": "code",
   "execution_count": null,
   "metadata": {},
   "outputs": [],
   "source": []
  }
 ],
 "metadata": {
  "kernelspec": {
   "display_name": "pytorch",
   "language": "python",
   "name": "python3"
  },
  "language_info": {
   "codemirror_mode": {
    "name": "ipython",
    "version": 3
   },
   "file_extension": ".py",
   "mimetype": "text/x-python",
   "name": "python",
   "nbconvert_exporter": "python",
   "pygments_lexer": "ipython3",
   "version": "3.8.13"
  },
  "orig_nbformat": 4
 },
 "nbformat": 4,
 "nbformat_minor": 2
}
