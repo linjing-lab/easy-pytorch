{
 "cells": [
  {
   "attachments": {},
   "cell_type": "markdown",
   "metadata": {},
   "source": [
    "# Binary-classification Task"
   ]
  },
  {
   "cell_type": "code",
   "execution_count": 1,
   "metadata": {},
   "outputs": [],
   "source": [
    "import numpy\n",
    "import pandas # or use `polars`"
   ]
  },
  {
   "attachments": {},
   "cell_type": "markdown",
   "metadata": {},
   "source": [
    "## Data Loading and Processing"
   ]
  },
  {
   "attachments": {},
   "cell_type": "markdown",
   "metadata": {},
   "source": [
    "### Load Dataset from XLS File by IO Process"
   ]
  },
  {
   "cell_type": "code",
   "execution_count": 2,
   "metadata": {},
   "outputs": [
    {
     "data": {
      "text/html": [
       "<div>\n",
       "<style scoped>\n",
       "    .dataframe tbody tr th:only-of-type {\n",
       "        vertical-align: middle;\n",
       "    }\n",
       "\n",
       "    .dataframe tbody tr th {\n",
       "        vertical-align: top;\n",
       "    }\n",
       "\n",
       "    .dataframe thead th {\n",
       "        text-align: right;\n",
       "    }\n",
       "</style>\n",
       "<table border=\"1\" class=\"dataframe\">\n",
       "  <thead>\n",
       "    <tr style=\"text-align: right;\">\n",
       "      <th></th>\n",
       "      <th>LIMIT_BAL</th>\n",
       "      <th>SEX</th>\n",
       "      <th>EDUCATION</th>\n",
       "      <th>MARRIAGE</th>\n",
       "      <th>AGE</th>\n",
       "      <th>PAY_0</th>\n",
       "      <th>PAY_2</th>\n",
       "      <th>PAY_3</th>\n",
       "      <th>PAY_4</th>\n",
       "      <th>PAY_5</th>\n",
       "      <th>...</th>\n",
       "      <th>BILL_AMT4</th>\n",
       "      <th>BILL_AMT5</th>\n",
       "      <th>BILL_AMT6</th>\n",
       "      <th>PAY_AMT1</th>\n",
       "      <th>PAY_AMT2</th>\n",
       "      <th>PAY_AMT3</th>\n",
       "      <th>PAY_AMT4</th>\n",
       "      <th>PAY_AMT5</th>\n",
       "      <th>PAY_AMT6</th>\n",
       "      <th>default payment next month</th>\n",
       "    </tr>\n",
       "    <tr>\n",
       "      <th>ID</th>\n",
       "      <th></th>\n",
       "      <th></th>\n",
       "      <th></th>\n",
       "      <th></th>\n",
       "      <th></th>\n",
       "      <th></th>\n",
       "      <th></th>\n",
       "      <th></th>\n",
       "      <th></th>\n",
       "      <th></th>\n",
       "      <th></th>\n",
       "      <th></th>\n",
       "      <th></th>\n",
       "      <th></th>\n",
       "      <th></th>\n",
       "      <th></th>\n",
       "      <th></th>\n",
       "      <th></th>\n",
       "      <th></th>\n",
       "      <th></th>\n",
       "      <th></th>\n",
       "    </tr>\n",
       "  </thead>\n",
       "  <tbody>\n",
       "    <tr>\n",
       "      <th>1</th>\n",
       "      <td>20000</td>\n",
       "      <td>2</td>\n",
       "      <td>2</td>\n",
       "      <td>1</td>\n",
       "      <td>24</td>\n",
       "      <td>2</td>\n",
       "      <td>2</td>\n",
       "      <td>-1</td>\n",
       "      <td>-1</td>\n",
       "      <td>-2</td>\n",
       "      <td>...</td>\n",
       "      <td>0</td>\n",
       "      <td>0</td>\n",
       "      <td>0</td>\n",
       "      <td>0</td>\n",
       "      <td>689</td>\n",
       "      <td>0</td>\n",
       "      <td>0</td>\n",
       "      <td>0</td>\n",
       "      <td>0</td>\n",
       "      <td>1</td>\n",
       "    </tr>\n",
       "    <tr>\n",
       "      <th>2</th>\n",
       "      <td>120000</td>\n",
       "      <td>2</td>\n",
       "      <td>2</td>\n",
       "      <td>2</td>\n",
       "      <td>26</td>\n",
       "      <td>-1</td>\n",
       "      <td>2</td>\n",
       "      <td>0</td>\n",
       "      <td>0</td>\n",
       "      <td>0</td>\n",
       "      <td>...</td>\n",
       "      <td>3272</td>\n",
       "      <td>3455</td>\n",
       "      <td>3261</td>\n",
       "      <td>0</td>\n",
       "      <td>1000</td>\n",
       "      <td>1000</td>\n",
       "      <td>1000</td>\n",
       "      <td>0</td>\n",
       "      <td>2000</td>\n",
       "      <td>1</td>\n",
       "    </tr>\n",
       "    <tr>\n",
       "      <th>3</th>\n",
       "      <td>90000</td>\n",
       "      <td>2</td>\n",
       "      <td>2</td>\n",
       "      <td>2</td>\n",
       "      <td>34</td>\n",
       "      <td>0</td>\n",
       "      <td>0</td>\n",
       "      <td>0</td>\n",
       "      <td>0</td>\n",
       "      <td>0</td>\n",
       "      <td>...</td>\n",
       "      <td>14331</td>\n",
       "      <td>14948</td>\n",
       "      <td>15549</td>\n",
       "      <td>1518</td>\n",
       "      <td>1500</td>\n",
       "      <td>1000</td>\n",
       "      <td>1000</td>\n",
       "      <td>1000</td>\n",
       "      <td>5000</td>\n",
       "      <td>0</td>\n",
       "    </tr>\n",
       "    <tr>\n",
       "      <th>4</th>\n",
       "      <td>50000</td>\n",
       "      <td>2</td>\n",
       "      <td>2</td>\n",
       "      <td>1</td>\n",
       "      <td>37</td>\n",
       "      <td>0</td>\n",
       "      <td>0</td>\n",
       "      <td>0</td>\n",
       "      <td>0</td>\n",
       "      <td>0</td>\n",
       "      <td>...</td>\n",
       "      <td>28314</td>\n",
       "      <td>28959</td>\n",
       "      <td>29547</td>\n",
       "      <td>2000</td>\n",
       "      <td>2019</td>\n",
       "      <td>1200</td>\n",
       "      <td>1100</td>\n",
       "      <td>1069</td>\n",
       "      <td>1000</td>\n",
       "      <td>0</td>\n",
       "    </tr>\n",
       "    <tr>\n",
       "      <th>5</th>\n",
       "      <td>50000</td>\n",
       "      <td>1</td>\n",
       "      <td>2</td>\n",
       "      <td>1</td>\n",
       "      <td>57</td>\n",
       "      <td>-1</td>\n",
       "      <td>0</td>\n",
       "      <td>-1</td>\n",
       "      <td>0</td>\n",
       "      <td>0</td>\n",
       "      <td>...</td>\n",
       "      <td>20940</td>\n",
       "      <td>19146</td>\n",
       "      <td>19131</td>\n",
       "      <td>2000</td>\n",
       "      <td>36681</td>\n",
       "      <td>10000</td>\n",
       "      <td>9000</td>\n",
       "      <td>689</td>\n",
       "      <td>679</td>\n",
       "      <td>0</td>\n",
       "    </tr>\n",
       "  </tbody>\n",
       "</table>\n",
       "<p>5 rows × 24 columns</p>\n",
       "</div>"
      ],
      "text/plain": [
       "    LIMIT_BAL  SEX  EDUCATION  MARRIAGE  AGE  PAY_0  PAY_2  PAY_3  PAY_4  \\\n",
       "ID                                                                         \n",
       "1       20000    2          2         1   24      2      2     -1     -1   \n",
       "2      120000    2          2         2   26     -1      2      0      0   \n",
       "3       90000    2          2         2   34      0      0      0      0   \n",
       "4       50000    2          2         1   37      0      0      0      0   \n",
       "5       50000    1          2         1   57     -1      0     -1      0   \n",
       "\n",
       "    PAY_5  ...  BILL_AMT4  BILL_AMT5  BILL_AMT6  PAY_AMT1  PAY_AMT2  PAY_AMT3  \\\n",
       "ID         ...                                                                  \n",
       "1      -2  ...          0          0          0         0       689         0   \n",
       "2       0  ...       3272       3455       3261         0      1000      1000   \n",
       "3       0  ...      14331      14948      15549      1518      1500      1000   \n",
       "4       0  ...      28314      28959      29547      2000      2019      1200   \n",
       "5       0  ...      20940      19146      19131      2000     36681     10000   \n",
       "\n",
       "    PAY_AMT4  PAY_AMT5  PAY_AMT6  default payment next month  \n",
       "ID                                                            \n",
       "1          0         0         0                           1  \n",
       "2       1000         0      2000                           1  \n",
       "3       1000      1000      5000                           0  \n",
       "4       1100      1069      1000                           0  \n",
       "5       9000       689       679                           0  \n",
       "\n",
       "[5 rows x 24 columns]"
      ]
     },
     "execution_count": 2,
     "metadata": {},
     "output_type": "execute_result"
    }
   ],
   "source": [
    "df = pandas.read_excel('../data/credit_card_clients.xls', header=1, index_col=0)\n",
    "df.head()"
   ]
  },
  {
   "attachments": {},
   "cell_type": "markdown",
   "metadata": {},
   "source": [
    "### Convert Any Format of Data to Numpy"
   ]
  },
  {
   "cell_type": "code",
   "execution_count": 3,
   "metadata": {},
   "outputs": [],
   "source": [
    "df = df.to_numpy()"
   ]
  },
  {
   "attachments": {},
   "cell_type": "markdown",
   "metadata": {},
   "source": [
    "### Obtain Features and Labels for Subsequent Training"
   ]
  },
  {
   "cell_type": "code",
   "execution_count": 4,
   "metadata": {},
   "outputs": [
    {
     "data": {
      "text/plain": [
       "(array([[ 20000,      2,      2, ...,      0,      0,      0],\n",
       "        [120000,      2,      2, ...,   1000,      0,   2000],\n",
       "        [ 90000,      2,      2, ...,   1000,   1000,   5000],\n",
       "        ...,\n",
       "        [ 30000,      1,      2, ...,   4200,   2000,   3100],\n",
       "        [ 80000,      1,      3, ...,   1926,  52964,   1804],\n",
       "        [ 50000,      1,      2, ...,   1000,   1000,   1000]], dtype=int64),\n",
       " array([1, 1, 0, ..., 1, 1, 1], dtype=int64))"
      ]
     },
     "execution_count": 4,
     "metadata": {},
     "output_type": "execute_result"
    }
   ],
   "source": [
    "features, labels = df[:,:-1], df[:,-1]\n",
    "features, labels"
   ]
  },
  {
   "cell_type": "code",
   "execution_count": 5,
   "metadata": {},
   "outputs": [
    {
     "data": {
      "text/plain": [
       "((30000, 23), (30000,))"
      ]
     },
     "execution_count": 5,
     "metadata": {},
     "output_type": "execute_result"
    }
   ],
   "source": [
    "features.shape, labels.shape"
   ]
  },
  {
   "attachments": {},
   "cell_type": "markdown",
   "metadata": {},
   "source": [
    "## Machine Learning Process"
   ]
  },
  {
   "attachments": {},
   "cell_type": "markdown",
   "metadata": {},
   "source": [
    "### Load Perming and Config Hyperparameters"
   ]
  },
  {
   "cell_type": "code",
   "execution_count": 6,
   "metadata": {},
   "outputs": [
    {
     "name": "stdout",
     "output_type": "stream",
     "text": [
      "MLP(\n",
      "  (mlp): Sequential(\n",
      "    (Linear0): Linear(in_features=23, out_features=50, bias=True)\n",
      "    (Activation0): ReLU(inplace=True)\n",
      "    (Linear1): Linear(in_features=50, out_features=2, bias=True)\n",
      "  )\n",
      ")\n"
     ]
    },
    {
     "data": {
      "text/plain": [
       "OrderedDict([('torch -v', '1.7.1+cu101'),\n",
       "             ('criterion', CrossEntropyLoss()),\n",
       "             ('batch_size', 8),\n",
       "             ('solver',\n",
       "              Adam (\n",
       "              Parameter Group 0\n",
       "                  amsgrad: False\n",
       "                  betas: (0.9, 0.99)\n",
       "                  eps: 1e-08\n",
       "                  lr: 0.01\n",
       "                  weight_decay: 0\n",
       "              )),\n",
       "             ('lr_scheduler', None),\n",
       "             ('device', device(type='cuda'))])"
      ]
     },
     "execution_count": 6,
     "metadata": {},
     "output_type": "execute_result"
    }
   ],
   "source": [
    "import perming\n",
    "main = perming.Box(23, 2, (50,), batch_size=8, activation='relu', inplace_on=True, solver='adam', learning_rate_init=0.01)\n",
    "# main = perming.Binarier(23, (50,), batch_size=8, activation='relu', solver='adam', learning_rate_init=0.01)\n",
    "# main = perming.COMMON_MODELS['Binary-classification'](23, (50,), batch_size=8, activation='relu', solver='adam', learning_rate_init=0.01)\n",
    "main.print_config()"
   ]
  },
  {
   "attachments": {},
   "cell_type": "markdown",
   "metadata": {},
   "source": [
    "### DataLoader from Numpy with Multi-threaded"
   ]
  },
  {
   "cell_type": "code",
   "execution_count": 7,
   "metadata": {},
   "outputs": [],
   "source": [
    "main.data_loader(features, labels, random_seed=0)"
   ]
  },
  {
   "attachments": {},
   "cell_type": "markdown",
   "metadata": {},
   "source": [
    "### Training Stage and Accelerated Validation"
   ]
  },
  {
   "cell_type": "code",
   "execution_count": 8,
   "metadata": {},
   "outputs": [
    {
     "name": "stdout",
     "output_type": "stream",
     "text": [
      "Epoch [1/1], Step [100/3000], Training Loss: 693.3782, Validation Loss: 175.4494\n",
      "Epoch [1/1], Step [200/3000], Training Loss: 3.4365, Validation Loss: 36.7887\n",
      "Epoch [1/1], Step [300/3000], Training Loss: 4.2890, Validation Loss: 7.5508\n",
      "Epoch [1/1], Step [400/3000], Training Loss: 0.4256, Validation Loss: 6.5157\n",
      "Epoch [1/1], Step [500/3000], Training Loss: 0.2876, Validation Loss: 2.8152\n",
      "Epoch [1/1], Step [600/3000], Training Loss: 0.5635, Validation Loss: 1.8385\n",
      "Epoch [1/1], Step [700/3000], Training Loss: 0.5680, Validation Loss: 1.3541\n",
      "Epoch [1/1], Step [800/3000], Training Loss: 0.2426, Validation Loss: 0.6416\n",
      "Epoch [1/1], Step [900/3000], Training Loss: 0.5324, Validation Loss: 0.6116\n",
      "Epoch [1/1], Step [1000/3000], Training Loss: 0.4133, Validation Loss: 0.5880\n",
      "Epoch [1/1], Step [1100/3000], Training Loss: 0.5669, Validation Loss: 0.5473\n",
      "Epoch [1/1], Step [1200/3000], Training Loss: 0.5659, Validation Loss: 0.5472\n",
      "Epoch [1/1], Step [1300/3000], Training Loss: 0.7329, Validation Loss: 0.5698\n",
      "Epoch [1/1], Step [1400/3000], Training Loss: 0.4022, Validation Loss: 0.5592\n",
      "Epoch [1/1], Step [1500/3000], Training Loss: 0.9384, Validation Loss: 0.5619\n",
      "Epoch [1/1], Step [1600/3000], Training Loss: 0.4133, Validation Loss: 0.5593\n",
      "Epoch [1/1], Step [1700/3000], Training Loss: 0.4015, Validation Loss: 0.5593\n",
      "Epoch [1/1], Step [1800/3000], Training Loss: 0.5647, Validation Loss: 0.5590\n",
      "Epoch [1/1], Step [1900/3000], Training Loss: 0.4129, Validation Loss: 0.5594\n",
      "Epoch [1/1], Step [2000/3000], Training Loss: 0.5656, Validation Loss: 15.8847\n",
      "Epoch [1/1], Step [2100/3000], Training Loss: 0.5630, Validation Loss: 0.5597\n",
      "Epoch [1/1], Step [2200/3000], Training Loss: 0.8961, Validation Loss: 0.5592\n",
      "Epoch [1/1], Step [2300/3000], Training Loss: 0.7226, Validation Loss: 0.5590\n",
      "Epoch [1/1], Step [2400/3000], Training Loss: 0.4063, Validation Loss: 0.5590\n",
      "Epoch [1/1], Step [2500/3000], Training Loss: 0.5652, Validation Loss: 0.7467\n",
      "Epoch [1/1], Step [2600/3000], Training Loss: 0.5650, Validation Loss: 0.5568\n",
      "Epoch [1/1], Step [2700/3000], Training Loss: 0.2781, Validation Loss: 0.5583\n",
      "Epoch [1/1], Step [2800/3000], Training Loss: 0.3694, Validation Loss: 1.1969\n",
      "Epoch [1/1], Step [2900/3000], Training Loss: 0.3991, Validation Loss: 17.5872\n",
      "Epoch [1/1], Step [3000/3000], Training Loss: 0.3986, Validation Loss: 1.1160\n"
     ]
    }
   ],
   "source": [
    "main.train_val(num_epochs=1, interval=100)"
   ]
  },
  {
   "attachments": {},
   "cell_type": "markdown",
   "metadata": {},
   "source": [
    "### Test Models with Accuracy and Correct Labels"
   ]
  },
  {
   "cell_type": "code",
   "execution_count": 9,
   "metadata": {},
   "outputs": [
    {
     "name": "stdout",
     "output_type": "stream",
     "text": [
      "loss of Box on the 3000 test dataset: 1.4292031526565552. accuracy: 76.1667 %\n"
     ]
    },
    {
     "data": {
      "text/plain": [
       "OrderedDict([('problem', 'classification'),\n",
       "             ('num_classes', 2),\n",
       "             ('column', ('label name', ('true numbers', 'total numbers'))),\n",
       "             ('labels', {0: [2285, 3000], 1: [2285, 3000]}),\n",
       "             ('sorted', [(0, [2285, 3000]), (1, [2285, 3000])]),\n",
       "             ('loss',\n",
       "              {'train': 0.39861032366752625,\n",
       "               'val': 1.115988850593567,\n",
       "               'test': 1.4292031526565552})])"
      ]
     },
     "execution_count": 9,
     "metadata": {},
     "output_type": "execute_result"
    }
   ],
   "source": [
    "main.test()"
   ]
  },
  {
   "attachments": {},
   "cell_type": "markdown",
   "metadata": {},
   "source": [
    "### Save Model Parameters to Models Folder"
   ]
  },
  {
   "cell_type": "code",
   "execution_count": 10,
   "metadata": {},
   "outputs": [],
   "source": [
    "main.save(show=False, dir='../models/credit.ckpt')"
   ]
  },
  {
   "attachments": {},
   "cell_type": "markdown",
   "metadata": {},
   "source": [
    "### Load Model Parameters from Models Foler"
   ]
  },
  {
   "cell_type": "code",
   "execution_count": 11,
   "metadata": {},
   "outputs": [],
   "source": [
    "main.load(show=False, dir='../models/credit.ckpt')"
   ]
  },
  {
   "attachments": {},
   "cell_type": "markdown",
   "metadata": {},
   "source": [
    "### Test with Loaded Parameters of Tune Model"
   ]
  },
  {
   "cell_type": "code",
   "execution_count": 12,
   "metadata": {},
   "outputs": [
    {
     "name": "stdout",
     "output_type": "stream",
     "text": [
      "loss of Box on the 3000 test dataset: 1.4292024374008179. accuracy: 76.1667 %\n"
     ]
    },
    {
     "data": {
      "text/plain": [
       "OrderedDict([('problem', 'classification'),\n",
       "             ('num_classes', 2),\n",
       "             ('column', ('label name', ('true numbers', 'total numbers'))),\n",
       "             ('labels', {0: [2285, 3000], 1: [2285, 3000]}),\n",
       "             ('sorted', [(0, [2285, 3000]), (1, [2285, 3000])]),\n",
       "             ('loss',\n",
       "              {'train': 0.39861032366752625,\n",
       "               'val': 1.115988850593567,\n",
       "               'test': 1.4292024374008179})])"
      ]
     },
     "execution_count": 12,
     "metadata": {},
     "output_type": "execute_result"
    }
   ],
   "source": [
    "main.test()\n",
    "# main = perming.Box(23, 2, (50,), batch_size=8, activation='relu', inplace_on=True, solver='adam', learning_rate_init=0.01)\n",
    "# main = perming.Binarier(23, 2, (50,), batch_size=8, activation='relu', solver='adam', learning_rate_init=0.01)\n",
    "# main = perming.COMMON_MODELS['Binary Classifier'](23, 2, (50,), batch_size=8, activation='relu', solver='adam', learning_rate_init=0.01)\n",
    "# main.print_config()"
   ]
  }
 ],
 "metadata": {
  "kernelspec": {
   "display_name": "pytorch",
   "language": "python",
   "name": "pytorch"
  },
  "language_info": {
   "codemirror_mode": {
    "name": "ipython",
    "version": 3
   },
   "file_extension": ".py",
   "mimetype": "text/x-python",
   "name": "python",
   "nbconvert_exporter": "python",
   "pygments_lexer": "ipython3",
   "version": "3.8.13"
  },
  "orig_nbformat": 4
 },
 "nbformat": 4,
 "nbformat_minor": 2
}
