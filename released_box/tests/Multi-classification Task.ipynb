{
 "cells": [
  {
   "attachments": {},
   "cell_type": "markdown",
   "id": "8940dcfb-a11d-4522-959f-d688c9f75b87",
   "metadata": {},
   "source": [
    "# Multi-classification Task"
   ]
  },
  {
   "cell_type": "code",
   "execution_count": null,
   "id": "8048e88f",
   "metadata": {},
   "outputs": [],
   "source": [
    "!pip install polars[pandas]"
   ]
  },
  {
   "cell_type": "code",
   "execution_count": 1,
   "id": "b89c2aad",
   "metadata": {},
   "outputs": [],
   "source": [
    "import numpy\n",
    "import pandas # or use `polars`"
   ]
  },
  {
   "attachments": {},
   "cell_type": "markdown",
   "id": "9527dd85-65c5-4f8d-8636-0cfada42dc8f",
   "metadata": {},
   "source": [
    "## Data Cleaning and Processing"
   ]
  },
  {
   "attachments": {},
   "cell_type": "markdown",
   "id": "00bd7fe7",
   "metadata": {},
   "source": [
    "### Load Dataset from CSV File by IO Process"
   ]
  },
  {
   "cell_type": "code",
   "execution_count": 2,
   "id": "eb336549",
   "metadata": {},
   "outputs": [
    {
     "data": {
      "text/html": [
       "<div>\n",
       "<style scoped>\n",
       "    .dataframe tbody tr th:only-of-type {\n",
       "        vertical-align: middle;\n",
       "    }\n",
       "\n",
       "    .dataframe tbody tr th {\n",
       "        vertical-align: top;\n",
       "    }\n",
       "\n",
       "    .dataframe thead th {\n",
       "        text-align: right;\n",
       "    }\n",
       "</style>\n",
       "<table border=\"1\" class=\"dataframe\">\n",
       "  <thead>\n",
       "    <tr style=\"text-align: right;\">\n",
       "      <th></th>\n",
       "      <th>address</th>\n",
       "      <th>year</th>\n",
       "      <th>day</th>\n",
       "      <th>length</th>\n",
       "      <th>weight</th>\n",
       "      <th>count</th>\n",
       "      <th>looped</th>\n",
       "      <th>neighbors</th>\n",
       "      <th>income</th>\n",
       "      <th>label</th>\n",
       "    </tr>\n",
       "  </thead>\n",
       "  <tbody>\n",
       "    <tr>\n",
       "      <th>0</th>\n",
       "      <td>111K8kZAEnJg245r2cM6y9zgJGHZtJPy6</td>\n",
       "      <td>2017</td>\n",
       "      <td>11</td>\n",
       "      <td>18</td>\n",
       "      <td>0.008333</td>\n",
       "      <td>1</td>\n",
       "      <td>0</td>\n",
       "      <td>2</td>\n",
       "      <td>100050000.0</td>\n",
       "      <td>princetonCerber</td>\n",
       "    </tr>\n",
       "    <tr>\n",
       "      <th>1</th>\n",
       "      <td>1123pJv8jzeFQaCV4w644pzQJzVWay2zcA</td>\n",
       "      <td>2016</td>\n",
       "      <td>132</td>\n",
       "      <td>44</td>\n",
       "      <td>0.000244</td>\n",
       "      <td>1</td>\n",
       "      <td>0</td>\n",
       "      <td>1</td>\n",
       "      <td>100000000.0</td>\n",
       "      <td>princetonLocky</td>\n",
       "    </tr>\n",
       "    <tr>\n",
       "      <th>2</th>\n",
       "      <td>112536im7hy6wtKbpH1qYDWtTyMRAcA2p7</td>\n",
       "      <td>2016</td>\n",
       "      <td>246</td>\n",
       "      <td>0</td>\n",
       "      <td>1.000000</td>\n",
       "      <td>1</td>\n",
       "      <td>0</td>\n",
       "      <td>2</td>\n",
       "      <td>200000000.0</td>\n",
       "      <td>princetonCerber</td>\n",
       "    </tr>\n",
       "    <tr>\n",
       "      <th>3</th>\n",
       "      <td>1126eDRw2wqSkWosjTCre8cjjQW8sSeWH7</td>\n",
       "      <td>2016</td>\n",
       "      <td>322</td>\n",
       "      <td>72</td>\n",
       "      <td>0.003906</td>\n",
       "      <td>1</td>\n",
       "      <td>0</td>\n",
       "      <td>2</td>\n",
       "      <td>71200000.0</td>\n",
       "      <td>princetonCerber</td>\n",
       "    </tr>\n",
       "    <tr>\n",
       "      <th>4</th>\n",
       "      <td>1129TSjKtx65E35GiUo4AYVeyo48twbrGX</td>\n",
       "      <td>2016</td>\n",
       "      <td>238</td>\n",
       "      <td>144</td>\n",
       "      <td>0.072848</td>\n",
       "      <td>456</td>\n",
       "      <td>0</td>\n",
       "      <td>1</td>\n",
       "      <td>200000000.0</td>\n",
       "      <td>princetonLocky</td>\n",
       "    </tr>\n",
       "  </tbody>\n",
       "</table>\n",
       "</div>"
      ],
      "text/plain": [
       "                              address  year  day  length    weight  count  \\\n",
       "0   111K8kZAEnJg245r2cM6y9zgJGHZtJPy6  2017   11      18  0.008333      1   \n",
       "1  1123pJv8jzeFQaCV4w644pzQJzVWay2zcA  2016  132      44  0.000244      1   \n",
       "2  112536im7hy6wtKbpH1qYDWtTyMRAcA2p7  2016  246       0  1.000000      1   \n",
       "3  1126eDRw2wqSkWosjTCre8cjjQW8sSeWH7  2016  322      72  0.003906      1   \n",
       "4  1129TSjKtx65E35GiUo4AYVeyo48twbrGX  2016  238     144  0.072848    456   \n",
       "\n",
       "   looped  neighbors       income            label  \n",
       "0       0          2  100050000.0  princetonCerber  \n",
       "1       0          1  100000000.0   princetonLocky  \n",
       "2       0          2  200000000.0  princetonCerber  \n",
       "3       0          2   71200000.0  princetonCerber  \n",
       "4       0          1  200000000.0   princetonLocky  "
      ]
     },
     "execution_count": 2,
     "metadata": {},
     "output_type": "execute_result"
    }
   ],
   "source": [
    "df = pandas.read_csv('../data/bitcoin_heist_data.csv')\n",
    "df.head()"
   ]
  },
  {
   "attachments": {},
   "cell_type": "markdown",
   "id": "8543e94e-5700-4554-bb90-3f9a82178ea1",
   "metadata": {},
   "source": [
    "### Convert Any Format of Data to Numpy "
   ]
  },
  {
   "cell_type": "code",
   "execution_count": 3,
   "id": "16a61479",
   "metadata": {},
   "outputs": [],
   "source": [
    "df = df.to_numpy()\n",
    "labels = df[:,-1]"
   ]
  },
  {
   "attachments": {},
   "cell_type": "markdown",
   "id": "d52200cc-15f3-4423-b49a-655d184999f4",
   "metadata": {},
   "source": [
    "### Processing Data and Obtain Dataset Information"
   ]
  },
  {
   "cell_type": "code",
   "execution_count": 4,
   "id": "03c69190",
   "metadata": {},
   "outputs": [
    {
     "name": "stdout",
     "output_type": "stream",
     "text": [
      "(1048575, 8)\n"
     ]
    }
   ],
   "source": [
    "features = df[:,1:-1].astype(numpy.float64)\n",
    "print(features.shape)"
   ]
  },
  {
   "cell_type": "code",
   "execution_count": 5,
   "id": "9d162936-26e9-44b7-89fc-67795901307b",
   "metadata": {},
   "outputs": [
    {
     "name": "stdout",
     "output_type": "stream",
     "text": [
      "1048575 8\n",
      "(1048575,) 29\n"
     ]
    }
   ],
   "source": [
    "print(features.shape[0], features.shape[1])\n",
    "print(labels.shape, len(numpy.unique(labels)))"
   ]
  },
  {
   "attachments": {},
   "cell_type": "markdown",
   "id": "bd1604b6-363b-43f1-8cb5-90671de6e4db",
   "metadata": {
    "tags": []
   },
   "source": [
    "## Machine Learning Process"
   ]
  },
  {
   "attachments": {},
   "cell_type": "markdown",
   "id": "822e19c2",
   "metadata": {},
   "source": [
    "### Load Perming and Config Hyperparameters"
   ]
  },
  {
   "cell_type": "code",
   "execution_count": 6,
   "id": "8fe729ae",
   "metadata": {},
   "outputs": [
    {
     "name": "stdout",
     "output_type": "stream",
     "text": [
      "MLP(\n",
      "  (mlp): Sequential(\n",
      "    (Linear0): Linear(in_features=8, out_features=60, bias=True)\n",
      "    (Activation0): ReLU(inplace=True)\n",
      "    (Linear1): Linear(in_features=60, out_features=29, bias=True)\n",
      "  )\n",
      ")\n"
     ]
    },
    {
     "data": {
      "text/plain": [
       "OrderedDict([('torch -v', '1.7.1+cu101'),\n",
       "             ('criterion', CrossEntropyLoss()),\n",
       "             ('batch_size', 256),\n",
       "             ('solver',\n",
       "              SGD (\n",
       "              Parameter Group 0\n",
       "                  dampening: 0\n",
       "                  lr: 0.01\n",
       "                  momentum: 0\n",
       "                  nesterov: False\n",
       "                  weight_decay: 0\n",
       "              )),\n",
       "             ('lr_scheduler', None),\n",
       "             ('device', device(type='cuda'))])"
      ]
     },
     "execution_count": 6,
     "metadata": {},
     "output_type": "execute_result"
    }
   ],
   "source": [
    "import perming\n",
    "main = perming.Box(8, 29, (60,), batch_size=256, activation='relu', inplace_on=True, solver='sgd', learning_rate_init=0.01)\n",
    "# main = perming.Multipler(8, 29, (60,), batch_size=256, activation='relu', solver='sgd', learning_rate_init=0.01)\n",
    "# main = perming.COMMON_MODELS['Multi-classification'](8, 29, (60,), batch_size=256, activation='relu', solver='sgd', learning_rate_init=0.01)\n",
    "main.print_config()"
   ]
  },
  {
   "attachments": {},
   "cell_type": "markdown",
   "id": "e70bc2f6-7795-49f0-8204-106835cef072",
   "metadata": {
    "tags": []
   },
   "source": [
    "### Dataloader from Numpy with Multi-threaded"
   ]
  },
  {
   "cell_type": "code",
   "execution_count": 7,
   "id": "eda38bfe",
   "metadata": {},
   "outputs": [],
   "source": [
    "main.data_loader(features, labels, random_seed=0)"
   ]
  },
  {
   "attachments": {},
   "cell_type": "markdown",
   "id": "bfa9788d-70e5-4994-aca1-6783653c2afa",
   "metadata": {
    "tags": []
   },
   "source": [
    "### Training Stage and Accelerated Validation"
   ]
  },
  {
   "cell_type": "code",
   "execution_count": 8,
   "id": "ba5ebd31",
   "metadata": {},
   "outputs": [
    {
     "name": "stdout",
     "output_type": "stream",
     "text": [
      "Epoch [1/1], Step [100/3277], Training Loss: 2.5657, Validation Loss: 2.5551\n",
      "Epoch [1/1], Step [200/3277], Training Loss: 1.8318, Validation Loss: 1.8269\n",
      "Epoch [1/1], Step [300/3277], Training Loss: 1.2668, Validation Loss: 1.2844\n",
      "Epoch [1/1], Step [400/3277], Training Loss: 0.9546, Validation Loss: 0.9302\n",
      "Epoch [1/1], Step [500/3277], Training Loss: 0.7440, Validation Loss: 0.7169\n",
      "Epoch [1/1], Step [600/3277], Training Loss: 0.5863, Validation Loss: 0.5889\n",
      "Epoch [1/1], Step [700/3277], Training Loss: 0.5062, Validation Loss: 0.5086\n",
      "Epoch [1/1], Step [800/3277], Training Loss: 0.3308, Validation Loss: 0.4563\n",
      "Epoch [1/1], Step [900/3277], Training Loss: 0.3079, Validation Loss: 0.4204\n",
      "Epoch [1/1], Step [1000/3277], Training Loss: 0.4298, Validation Loss: 0.3946\n",
      "Epoch [1/1], Step [1100/3277], Training Loss: 0.3918, Validation Loss: 0.3758\n",
      "Epoch [1/1], Step [1200/3277], Training Loss: 0.4366, Validation Loss: 0.3618\n",
      "Process stop at epoch [1/1] with patience 10 within tolerance 0.001\n"
     ]
    }
   ],
   "source": [
    "main.train_val(num_epochs=1, interval=100, early_stop=True)"
   ]
  },
  {
   "attachments": {},
   "cell_type": "markdown",
   "id": "d7a238a0-fa4d-4867-bcd7-81aa7879d51b",
   "metadata": {
    "tags": []
   },
   "source": [
    "### Test Model with Accuracy and Correct Labels"
   ]
  },
  {
   "cell_type": "code",
   "execution_count": 9,
   "id": "9de7a1a6",
   "metadata": {},
   "outputs": [
    {
     "name": "stdout",
     "output_type": "stream",
     "text": [
      "loss of Box on the 104960 test dataset: 0.3505959212779999.\n"
     ]
    },
    {
     "data": {
      "text/plain": [
       "OrderedDict([('problem', 'classification'),\n",
       "             ('accuracy', '95.99942835365853%'),\n",
       "             ('num_classes', 29),\n",
       "             ('column', ('label name', ('true numbers', 'total numbers'))),\n",
       "             ('labels',\n",
       "              {'montrealAPT': [100761, 104857],\n",
       "               'montrealComradeCircle': [100761, 104857],\n",
       "               'montrealCryptConsole': [100761, 104857],\n",
       "               'montrealCryptXXX': [100761, 104857],\n",
       "               'montrealCryptoLocker': [100761, 104857],\n",
       "               'montrealCryptoTorLocker2015': [100761, 104857],\n",
       "               'montrealDMALocker': [100761, 104857],\n",
       "               'montrealDMALockerv3': [100761, 104857],\n",
       "               'montrealEDA2': [100761, 104857],\n",
       "               'montrealFlyper': [100761, 104857],\n",
       "               'montrealGlobe': [100761, 104857],\n",
       "               'montrealGlobeImposter': [100761, 104857],\n",
       "               'montrealGlobev3': [100761, 104857],\n",
       "               'montrealJigSaw': [100761, 104857],\n",
       "               'montrealNoobCrypt': [100761, 104857],\n",
       "               'montrealRazy': [100761, 104857],\n",
       "               'montrealSam': [100761, 104857],\n",
       "               'montrealSamSam': [100761, 104857],\n",
       "               'montrealVenusLocker': [100761, 104857],\n",
       "               'montrealWannaCry': [100761, 104857],\n",
       "               'montrealXLocker': [100761, 104857],\n",
       "               'montrealXLockerv5.0': [100761, 104857],\n",
       "               'montrealXTPLocker': [100761, 104857],\n",
       "               'paduaCryptoWall': [100761, 104857],\n",
       "               'paduaJigsaw': [100761, 104857],\n",
       "               'paduaKeRanger': [100761, 104857],\n",
       "               'princetonCerber': [100761, 104857],\n",
       "               'princetonLocky': [100761, 104857],\n",
       "               'white': [100761, 104857]}),\n",
       "             ('loss',\n",
       "              {'train': 0.330683171749115,\n",
       "               'val': 0.3547004163265228,\n",
       "               'test': 0.3505959212779999}),\n",
       "             ('sorted',\n",
       "              [('montrealAPT', [100761, 104857]),\n",
       "               ('montrealComradeCircle', [100761, 104857]),\n",
       "               ('montrealCryptConsole', [100761, 104857]),\n",
       "               ('montrealCryptXXX', [100761, 104857]),\n",
       "               ('montrealCryptoLocker', [100761, 104857]),\n",
       "               ('montrealCryptoTorLocker2015', [100761, 104857]),\n",
       "               ('montrealDMALocker', [100761, 104857]),\n",
       "               ('montrealDMALockerv3', [100761, 104857]),\n",
       "               ('montrealEDA2', [100761, 104857]),\n",
       "               ('montrealFlyper', [100761, 104857]),\n",
       "               ('montrealGlobe', [100761, 104857]),\n",
       "               ('montrealGlobeImposter', [100761, 104857]),\n",
       "               ('montrealGlobev3', [100761, 104857]),\n",
       "               ('montrealJigSaw', [100761, 104857]),\n",
       "               ('montrealNoobCrypt', [100761, 104857]),\n",
       "               ('montrealRazy', [100761, 104857]),\n",
       "               ('montrealSam', [100761, 104857]),\n",
       "               ('montrealSamSam', [100761, 104857]),\n",
       "               ('montrealVenusLocker', [100761, 104857]),\n",
       "               ('montrealWannaCry', [100761, 104857]),\n",
       "               ('montrealXLocker', [100761, 104857]),\n",
       "               ('montrealXLockerv5.0', [100761, 104857]),\n",
       "               ('montrealXTPLocker', [100761, 104857]),\n",
       "               ('paduaCryptoWall', [100761, 104857]),\n",
       "               ('paduaJigsaw', [100761, 104857]),\n",
       "               ('paduaKeRanger', [100761, 104857]),\n",
       "               ('princetonCerber', [100761, 104857]),\n",
       "               ('princetonLocky', [100761, 104857]),\n",
       "               ('white', [100761, 104857])])])"
      ]
     },
     "execution_count": 9,
     "metadata": {},
     "output_type": "execute_result"
    }
   ],
   "source": [
    "main.test()"
   ]
  },
  {
   "attachments": {},
   "cell_type": "markdown",
   "id": "5920212b-26d6-42de-a111-cbd1618fd4e3",
   "metadata": {
    "tags": []
   },
   "source": [
    "### Save Model Parameters to Models Folder"
   ]
  },
  {
   "cell_type": "code",
   "execution_count": 10,
   "id": "a98cad80",
   "metadata": {},
   "outputs": [],
   "source": [
    "main.save(con=False, dir='../models/bitcoin.ckpt')\n",
    "# use main.unique and main.indices to establish bidirectional conversion of target:\n",
    "# main.unique: int -> any target value\n",
    "# main.indices: any target value -> int"
   ]
  },
  {
   "attachments": {},
   "cell_type": "markdown",
   "id": "73243cc7-0168-404d-a0f8-2973a2b15594",
   "metadata": {},
   "source": [
    "### Load Model Parameters from Models Folder"
   ]
  },
  {
   "cell_type": "code",
   "execution_count": 11,
   "id": "a771705d",
   "metadata": {},
   "outputs": [],
   "source": [
    "main.load(con=False, dir='../models/bitcoin.ckpt')"
   ]
  },
  {
   "attachments": {},
   "cell_type": "markdown",
   "id": "14eb3f76",
   "metadata": {},
   "source": [
    "### Test with Loaded Parameters or Tune Model"
   ]
  },
  {
   "cell_type": "code",
   "execution_count": 12,
   "id": "eee8abfb",
   "metadata": {},
   "outputs": [
    {
     "name": "stdout",
     "output_type": "stream",
     "text": [
      "loss of Box on the 104960 test dataset: 0.35059523582458496.\n"
     ]
    },
    {
     "data": {
      "text/plain": [
       "OrderedDict([('problem', 'classification'),\n",
       "             ('accuracy', '95.99942835365853%'),\n",
       "             ('num_classes', 29),\n",
       "             ('column', ('label name', ('true numbers', 'total numbers'))),\n",
       "             ('labels',\n",
       "              {'montrealAPT': [100761, 104857],\n",
       "               'montrealComradeCircle': [100761, 104857],\n",
       "               'montrealCryptConsole': [100761, 104857],\n",
       "               'montrealCryptXXX': [100761, 104857],\n",
       "               'montrealCryptoLocker': [100761, 104857],\n",
       "               'montrealCryptoTorLocker2015': [100761, 104857],\n",
       "               'montrealDMALocker': [100761, 104857],\n",
       "               'montrealDMALockerv3': [100761, 104857],\n",
       "               'montrealEDA2': [100761, 104857],\n",
       "               'montrealFlyper': [100761, 104857],\n",
       "               'montrealGlobe': [100761, 104857],\n",
       "               'montrealGlobeImposter': [100761, 104857],\n",
       "               'montrealGlobev3': [100761, 104857],\n",
       "               'montrealJigSaw': [100761, 104857],\n",
       "               'montrealNoobCrypt': [100761, 104857],\n",
       "               'montrealRazy': [100761, 104857],\n",
       "               'montrealSam': [100761, 104857],\n",
       "               'montrealSamSam': [100761, 104857],\n",
       "               'montrealVenusLocker': [100761, 104857],\n",
       "               'montrealWannaCry': [100761, 104857],\n",
       "               'montrealXLocker': [100761, 104857],\n",
       "               'montrealXLockerv5.0': [100761, 104857],\n",
       "               'montrealXTPLocker': [100761, 104857],\n",
       "               'paduaCryptoWall': [100761, 104857],\n",
       "               'paduaJigsaw': [100761, 104857],\n",
       "               'paduaKeRanger': [100761, 104857],\n",
       "               'princetonCerber': [100761, 104857],\n",
       "               'princetonLocky': [100761, 104857],\n",
       "               'white': [100761, 104857]}),\n",
       "             ('loss',\n",
       "              {'train': 0.330683171749115,\n",
       "               'val': 0.3547004163265228,\n",
       "               'test': 0.35059523582458496}),\n",
       "             ('sorted',\n",
       "              [('montrealAPT', [100761, 104857]),\n",
       "               ('montrealComradeCircle', [100761, 104857]),\n",
       "               ('montrealCryptConsole', [100761, 104857]),\n",
       "               ('montrealCryptXXX', [100761, 104857]),\n",
       "               ('montrealCryptoLocker', [100761, 104857]),\n",
       "               ('montrealCryptoTorLocker2015', [100761, 104857]),\n",
       "               ('montrealDMALocker', [100761, 104857]),\n",
       "               ('montrealDMALockerv3', [100761, 104857]),\n",
       "               ('montrealEDA2', [100761, 104857]),\n",
       "               ('montrealFlyper', [100761, 104857]),\n",
       "               ('montrealGlobe', [100761, 104857]),\n",
       "               ('montrealGlobeImposter', [100761, 104857]),\n",
       "               ('montrealGlobev3', [100761, 104857]),\n",
       "               ('montrealJigSaw', [100761, 104857]),\n",
       "               ('montrealNoobCrypt', [100761, 104857]),\n",
       "               ('montrealRazy', [100761, 104857]),\n",
       "               ('montrealSam', [100761, 104857]),\n",
       "               ('montrealSamSam', [100761, 104857]),\n",
       "               ('montrealVenusLocker', [100761, 104857]),\n",
       "               ('montrealWannaCry', [100761, 104857]),\n",
       "               ('montrealXLocker', [100761, 104857]),\n",
       "               ('montrealXLockerv5.0', [100761, 104857]),\n",
       "               ('montrealXTPLocker', [100761, 104857]),\n",
       "               ('paduaCryptoWall', [100761, 104857]),\n",
       "               ('paduaJigsaw', [100761, 104857]),\n",
       "               ('paduaKeRanger', [100761, 104857]),\n",
       "               ('princetonCerber', [100761, 104857]),\n",
       "               ('princetonLocky', [100761, 104857]),\n",
       "               ('white', [100761, 104857])])])"
      ]
     },
     "execution_count": 12,
     "metadata": {},
     "output_type": "execute_result"
    }
   ],
   "source": [
    "main.test()\n",
    "# main = perming.Box(8, 29, (40,), batch_size=256, activation='relu', inplace_on=True, solver='sgd', learning_rate_init=0.01)\n",
    "# main = perming.Multiple(8, 9, (40,), batch_size=256, activation='relu', solver='sgd', learning_rate_init=0.01)\n",
    "# main = perming.COMMON_MODELS['Mutiple Classifier'](8, 9, (40,), batch_size=256, activation='relu', solver='sgd', learning_rate_init=0.01)\n",
    "# main.print_config()"
   ]
  },
  {
   "cell_type": "code",
   "execution_count": null,
   "id": "81cc32ee",
   "metadata": {},
   "outputs": [],
   "source": []
  }
 ],
 "metadata": {
  "kernelspec": {
   "display_name": "pytorch",
   "language": "python",
   "name": "python3"
  },
  "language_info": {
   "codemirror_mode": {
    "name": "ipython",
    "version": 3
   },
   "file_extension": ".py",
   "mimetype": "text/x-python",
   "name": "python",
   "nbconvert_exporter": "python",
   "pygments_lexer": "ipython3",
   "version": "3.8.13"
  },
  "widgets": {
   "application/vnd.jupyter.widget-state+json": {
    "state": {},
    "version_major": 2,
    "version_minor": 0
   }
  }
 },
 "nbformat": 4,
 "nbformat_minor": 5
}
