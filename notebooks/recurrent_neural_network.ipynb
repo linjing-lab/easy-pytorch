{
 "cells": [
  {
   "cell_type": "markdown",
   "id": "2dd10da4-a209-4455-92f9-e5d72578512b",
   "metadata": {},
   "source": [
    "# Recurrent Neural Network"
   ]
  },
  {
   "cell_type": "markdown",
   "id": "1a621b5a-d436-4011-9f5c-27c0ea29f594",
   "metadata": {},
   "source": [
    "## Load Dependent Packages"
   ]
  },
  {
   "cell_type": "code",
   "execution_count": 1,
   "id": "58e08c92-39f8-42b2-9712-0a4b3f7ef286",
   "metadata": {},
   "outputs": [],
   "source": [
    "import torch\n",
    "import torchvision"
   ]
  },
  {
   "cell_type": "markdown",
   "id": "2cb518c1-2498-468b-a040-55979aa1e91a",
   "metadata": {},
   "source": [
    "## Device Configuration: CPU or GPU"
   ]
  },
  {
   "cell_type": "code",
   "execution_count": 2,
   "id": "5306d1d9-de25-4a6b-9a46-50c0b5b1edef",
   "metadata": {},
   "outputs": [],
   "source": [
    "device = torch.device('cuda' if torch.cuda.is_available() else 'cpu')"
   ]
  },
  {
   "cell_type": "markdown",
   "id": "330c4bc4-b7ff-4181-8ebb-6300bc87982b",
   "metadata": {},
   "source": [
    "## Select Hyper Parameters"
   ]
  },
  {
   "cell_type": "code",
   "execution_count": 3,
   "id": "8d150d7f-db26-4b2d-9c57-7fa45f31ad84",
   "metadata": {},
   "outputs": [],
   "source": [
    "sequence_length = 28\n",
    "input_size = 28\n",
    "hidden_size = 128\n",
    "num_layers = 2\n",
    "num_classes = 10\n",
    "batch_size = 100\n",
    "num_epochs = 2\n",
    "learning_rate = 0.01"
   ]
  },
  {
   "cell_type": "markdown",
   "id": "725ef28a-4901-430d-a10c-f4a277684383",
   "metadata": {},
   "source": [
    "## Define MNISTDataset Class"
   ]
  },
  {
   "cell_type": "code",
   "execution_count": 4,
   "id": "733985da-4ffc-461c-99f4-76ac40ae885c",
   "metadata": {},
   "outputs": [],
   "source": [
    "import numpy as np\n",
    "import gzip\n",
    "import os\n",
    "class MNISTDataset(torch.utils.data.Dataset):\n",
    "    def __init__(self, root, train=True, transform=None):\n",
    "        self.file_pre = 'train' if train == True else 't10k'\n",
    "        self.transform = transform\n",
    "        self.label_path = os.path.join(root, '%s-labels-idx1-ubyte.gz' % self.file_pre)\n",
    "        self.image_path = os.path.join(root, '%s-images-idx3-ubyte.gz' % self.file_pre)\n",
    "        self.images, self.labels = self.__read_data__(self.image_path, self.label_path)\n",
    "    \n",
    "    def __read_data__(self, image_path, label_path):\n",
    "        # Read dataset.\n",
    "        with gzip.open(label_path, 'rb') as lbpath:\n",
    "            labels = np.frombuffer(lbpath.read(), np.uint8, offset=8)\n",
    "        with gzip.open(image_path, 'rb') as imgpath:\n",
    "            images = np.frombuffer(imgpath.read(), np.uint8, offset=16).reshape(len(labels), 28, 28)\n",
    "        return images, labels\n",
    "    \n",
    "    def __getitem__(self, index):\n",
    "        image, label = self.images[index], int(self.labels[index])\n",
    "        if self.transform is not None:\n",
    "            image = self.transform(np.array(image))\n",
    "        return image, label\n",
    "    \n",
    "    def __len__(self):\n",
    "        return len(self.labels)"
   ]
  },
  {
   "cell_type": "markdown",
   "id": "10dadb41-b5be-47a1-bb8f-9a2664a33886",
   "metadata": {},
   "source": [
    "## Load through Local Dataset"
   ]
  },
  {
   "cell_type": "code",
   "execution_count": 5,
   "id": "e8fdba08-0953-4100-af7c-a7758350b19f",
   "metadata": {},
   "outputs": [],
   "source": [
    "train_dataset = MNISTDataset('../data/MNIST/', transform=torchvision.transforms.ToTensor())\n",
    "test_dataset = MNISTDataset('../data/MNIST/', train=False, transform=torchvision.transforms.ToTensor())"
   ]
  },
  {
   "cell_type": "markdown",
   "id": "6924befb-e5c3-4946-8859-2e34ebd442f6",
   "metadata": {},
   "source": [
    "## Set Data loader (Input Pipeline)"
   ]
  },
  {
   "cell_type": "code",
   "execution_count": null,
   "id": "bb3e4e62-70e5-4548-aa60-bba188a600cf",
   "metadata": {},
   "outputs": [],
   "source": [
    "train_loader = torch.utils.data.DataLoader(dataset=train_dataset, batch_size=batch_size, shuffle=True)\n",
    "test_loader = torch.utils.data.DataLoader(dataset=train_dataset, batch_size=batch_size, shuffle=False)"
   ]
  },
  {
   "cell_type": "markdown",
   "id": "c1e50d0b-4186-4076-85b1-52ee88ba30c1",
   "metadata": {},
   "source": [
    "## Define Recurrent Neural Network (Many-to-One)"
   ]
  },
  {
   "cell_type": "code",
   "execution_count": 7,
   "id": "4ed938ab-9007-429a-9b26-3a064a0dda03",
   "metadata": {},
   "outputs": [],
   "source": [
    "class RNN(torch.nn.Module):\n",
    "    def __init__(self, input_size, hidden_size, num_layers, num_classes):\n",
    "        super(RNN, self).__init__()\n",
    "        self.hidden_size = hidden_size\n",
    "        self.num_layers = num_layers\n",
    "        self.lstm = torch.nn.LSTM(input_size, hidden_size, num_layers, batch_first=True)\n",
    "        self.fc = torch.nn.Linear(hidden_size, num_classes)\n",
    "        \n",
    "    def forward(self, x):\n",
    "        # Set initial hidden and cell states.\n",
    "        h0 = torch.zeros(self.num_layers, x.size(0), self.hidden_size).to(device)\n",
    "        c0 = torch.zeros(self.num_layers, x.size(0), self.hidden_size).to(device)\n",
    "        \n",
    "        # Forward propagate LSTM\n",
    "        out, _ = self.lstm(x, (h0, c0)) # out: tensor of shape (batch_size, seq_length, hidden_size)\n",
    "        \n",
    "        # Decode the hidden state of the last time step.\n",
    "        out = self.fc(out[:, -1, :])\n",
    "        return out"
   ]
  },
  {
   "cell_type": "markdown",
   "id": "9aa024e5-eae5-4287-aa99-de06eb8ff285",
   "metadata": {},
   "source": [
    "## Make Model with Hyper-params and GPU"
   ]
  },
  {
   "cell_type": "code",
   "execution_count": 8,
   "id": "a7c858b7-d992-4b48-b40d-583b7a58ef8c",
   "metadata": {},
   "outputs": [],
   "source": [
    "model = RNN(input_size, hidden_size, num_layers, num_classes).to(device)"
   ]
  },
  {
   "cell_type": "markdown",
   "id": "55e84c80-15eb-4cfa-9729-1aa0b182e240",
   "metadata": {},
   "source": [
    "## Loss and Optimizer"
   ]
  },
  {
   "cell_type": "code",
   "execution_count": 9,
   "id": "f50d0c46-5c34-488b-aea3-97929f764644",
   "metadata": {},
   "outputs": [],
   "source": [
    "criterion = torch.nn.CrossEntropyLoss()\n",
    "optimizer = torch.optim.Adam(model.parameters(), lr=learning_rate)"
   ]
  },
  {
   "cell_type": "markdown",
   "id": "75714bf2-c063-44a0-be0c-49331d2eca02",
   "metadata": {},
   "source": [
    "## Train Model with Batch"
   ]
  },
  {
   "cell_type": "code",
   "execution_count": 10,
   "id": "2514b4db-7e58-425f-9b4a-5edc5f30ff68",
   "metadata": {},
   "outputs": [
    {
     "name": "stdout",
     "output_type": "stream",
     "text": [
      "Epoch [1/2], Step [100/600], Loss: 0.5874\n",
      "Epoch [1/2], Step [200/600], Loss: 0.2861\n",
      "Epoch [1/2], Step [300/600], Loss: 0.1178\n",
      "Epoch [1/2], Step [400/600], Loss: 0.0953\n",
      "Epoch [1/2], Step [500/600], Loss: 0.0616\n",
      "Epoch [1/2], Step [600/600], Loss: 0.0445\n",
      "Epoch [2/2], Step [100/600], Loss: 0.1617\n",
      "Epoch [2/2], Step [200/600], Loss: 0.1722\n",
      "Epoch [2/2], Step [300/600], Loss: 0.0585\n",
      "Epoch [2/2], Step [400/600], Loss: 0.1982\n",
      "Epoch [2/2], Step [500/600], Loss: 0.0853\n",
      "Epoch [2/2], Step [600/600], Loss: 0.0803\n"
     ]
    }
   ],
   "source": [
    "import gc\n",
    "total_step = len(train_loader)\n",
    "for epoch in range(num_epochs):\n",
    "    gc.collect()\n",
    "    torch.cuda.empty_cache()\n",
    "    for i, (images, labels) in enumerate(train_loader):\n",
    "        images = images.reshape(-1, sequence_length, input_size).to(device)\n",
    "        labels = labels.to(device)\n",
    "        \n",
    "        # Forward pass\n",
    "        outputs = model(images)\n",
    "        loss = criterion(outputs, labels)\n",
    "        \n",
    "        # Backward and optimize\n",
    "        optimizer.zero_grad()\n",
    "        loss.backward()\n",
    "        optimizer.step()\n",
    "        \n",
    "        # Print\n",
    "        if (i+1) % 100 == 0:\n",
    "            print ('Epoch [{}/{}], Step [{}/{}], Loss: {:.4f}'.format(epoch+1, num_epochs, i+1, total_step, loss.item()))"
   ]
  },
  {
   "cell_type": "markdown",
   "id": "2e2aadaa-1e56-4c76-b477-12f492767ebc",
   "metadata": {},
   "source": [
    "## Test Model with .eval()"
   ]
  },
  {
   "cell_type": "code",
   "execution_count": 11,
   "id": "fa5751a0-a17c-4bbb-be9d-7b0ec1f1d5ac",
   "metadata": {},
   "outputs": [
    {
     "name": "stdout",
     "output_type": "stream",
     "text": [
      "Test Accuracy of the model on the 10000 test images: 98.20666666666666 %\n"
     ]
    }
   ],
   "source": [
    "model.eval()\n",
    "with torch.no_grad():\n",
    "    correct = 0\n",
    "    total = 0\n",
    "    for images, labels in test_loader:\n",
    "        images = images.reshape(-1, sequence_length, input_size).to(device)\n",
    "        labels = labels.to(device)\n",
    "        outputs = model(images)\n",
    "        _, predicted = torch.max(outputs.data, 1)\n",
    "        total += labels.size(0)\n",
    "        correct += (predicted == labels).sum().item()\n",
    "        \n",
    "    print('Test Accuracy of the model on the 10000 test images: {} %'.format(100 * correct / total))"
   ]
  },
  {
   "cell_type": "markdown",
   "id": "345e1563-22a6-4ad5-93a7-34f4facd40d5",
   "metadata": {},
   "source": [
    "## Save the Model Checkpoint"
   ]
  },
  {
   "cell_type": "code",
   "execution_count": 12,
   "id": "371eec4d-8e57-438c-b662-197fa764d5e1",
   "metadata": {},
   "outputs": [],
   "source": [
    "torch.save(model.state_dict(), 'rnn.ckpt')"
   ]
  },
  {
   "cell_type": "code",
   "execution_count": null,
   "id": "4ceca59b-d115-467a-8f86-0f95b8258dde",
   "metadata": {},
   "outputs": [],
   "source": []
  }
 ],
 "metadata": {
  "kernelspec": {
   "display_name": "pytorch",
   "language": "python",
   "name": "pytorch"
  },
  "language_info": {
   "codemirror_mode": {
    "name": "ipython",
    "version": 3
   },
   "file_extension": ".py",
   "mimetype": "text/x-python",
   "name": "python",
   "nbconvert_exporter": "python",
   "pygments_lexer": "ipython3",
   "version": "3.8.13"
  },
  "widgets": {
   "application/vnd.jupyter.widget-state+json": {
    "state": {},
    "version_major": 2,
    "version_minor": 0
   }
  }
 },
 "nbformat": 4,
 "nbformat_minor": 5
}
