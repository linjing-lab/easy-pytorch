{
 "cells": [
  {
   "cell_type": "markdown",
   "id": "eaf0034b-31e7-4dd8-92da-c5049c1f3b62",
   "metadata": {},
   "source": [
    "# CIFAR-10 Image Classification Based on CNN\n",
    "根据卷积神经网络（CNN）模型的发展历程，提出适用于CIFAR-10数据集的模型，采用数据增强与学习率衰减等手段，进行模型训练，并采用Tensorboard进行可视化。"
   ]
  },
  {
   "cell_type": "markdown",
   "id": "030431b4-5036-4e1e-bf6e-bfb7028fa042",
   "metadata": {},
   "source": [
    "## Pretreat"
   ]
  },
  {
   "cell_type": "code",
   "execution_count": 1,
   "id": "f8aaf633-8525-4d9e-9157-0b7be1233f43",
   "metadata": {},
   "outputs": [
    {
     "data": {
      "text/plain": [
       "'1.7.1+cu101'"
      ]
     },
     "execution_count": 1,
     "metadata": {},
     "output_type": "execute_result"
    }
   ],
   "source": [
    "# import packages\n",
    "import torch\n",
    "import torchvision"
   ]
  },
  {
   "cell_type": "code",
   "execution_count": 2,
   "id": "8bcf97fb-804c-42ee-a948-c22ed56fd84d",
   "metadata": {},
   "outputs": [],
   "source": [
    "# Device configuration.\n",
    "device = torch.device('cuda' if torch.cuda.is_available() else 'cpu')"
   ]
  },
  {
   "cell_type": "code",
   "execution_count": 3,
   "id": "52374e31-2a2a-45dc-93a4-fd516b6f3aa3",
   "metadata": {},
   "outputs": [],
   "source": [
    "# Transform configuration and data augmentation.\n",
    "transform_train = torchvision.transforms.Compose([torchvision.transforms.Pad(2),\n",
    "                                                 torchvision.transforms.RandomHorizontalFlip(),\n",
    "                                                 torchvision.transforms.RandomCrop(32),\n",
    "                                                 torchvision.transforms.ToTensor(),\n",
    "                                                 torchvision.transforms.Normalize([0.5, 0.5, 0.5], [0.5, 0.5, 0.5])])\n",
    "transform_test = torchvision.transforms.Compose([torchvision.transforms.ToTensor(),\n",
    "                                                torchvision.transforms.Normalize([0.5, 0.5, 0.5], [0.5, 0.5, 0.5])])"
   ]
  },
  {
   "cell_type": "code",
   "execution_count": 5,
   "id": "49b694d4-2598-45bb-b174-760ea9115528",
   "metadata": {},
   "outputs": [],
   "source": [
    "# Hyper-parameters\n",
    "num_classes = 10\n",
    "batch_size = 100\n",
    "learning_rate = 0.001\n",
    "num_epochs = 80"
   ]
  },
  {
   "cell_type": "code",
   "execution_count": 6,
   "id": "6c5a9649-8e3a-4881-88af-5d595a63723b",
   "metadata": {},
   "outputs": [],
   "source": [
    "# Load downloaded dataset.\n",
    "train_dataset = torchvision.datasets.CIFAR10('../data/CIFAR10/', download=False, train=True, transform=transform_train)\n",
    "test_dataset = torchvision.datasets.CIFAR10('../data/CIFAR10/', download=False, train=False, transform=transform_test)"
   ]
  },
  {
   "cell_type": "code",
   "execution_count": 7,
   "id": "c72daed0-effb-40fe-8917-6cb5acc686ef",
   "metadata": {},
   "outputs": [],
   "source": [
    "# Data Loader.\n",
    "train_loader = torch.utils.data.DataLoader(dataset=train_dataset, batch_size=batch_size, shuffle=True)\n",
    "test_loader = torch.utils.data.DataLoader(dataset=test_dataset, batch_size=batch_size, shuffle=False)"
   ]
  },
  {
   "cell_type": "markdown",
   "id": "d97fe33d-6de7-4159-84d8-c5ba5bc5e535",
   "metadata": {},
   "source": [
    "## Models\n",
    "https://paperswithcode.com/sota/image-classification-on-cifar-10"
   ]
  },
  {
   "cell_type": "markdown",
   "id": "42dd05f1-eab2-483a-8f1b-8792200a0c28",
   "metadata": {},
   "source": [
    "### LeNet-5\n",
    "由两个卷积层，两个池化层，两个全连接层组成。卷积核都是5×5，stride=1，池化层使用maxpooling"
   ]
  },
  {
   "cell_type": "code",
   "execution_count": 8,
   "id": "edb3d03e-7a7a-4dba-9724-0f678f9068d7",
   "metadata": {},
   "outputs": [],
   "source": [
    "class LeNet5(torch.nn.Module):\n",
    "    def __init__(self, num_classes):\n",
    "        super(LeNet5, self).__init__()\n",
    "        self.layer1 = torch.nn.Sequential(torch.nn.Conv2d(3, 16, kernel_size=5, stride=1, padding=0),\n",
    "                                          torch.nn.BatchNorm2d(16),\n",
    "                                          torch.nn.ReLU(),\n",
    "                                          torch.nn.MaxPool2d(kernel_size=2, stride=2))\n",
    "        self.layer2 = torch.nn.Sequential(torch.nn.Conv2d(16, 40, kernel_size=5, stride=1, padding=0),\n",
    "                                          torch.nn.BatchNorm2d(40),\n",
    "                                          torch.nn.ReLU(),\n",
    "                                          torch.nn.MaxPool2d(kernel_size=2, stride=2))\n",
    "        self.fc1 = torch.nn.Sequential(torch.nn.Linear(5* 5 * 40, 400),\n",
    "                                       torch.nn.ReLU())\n",
    "        self.fc2 = torch.nn.Sequential(torch.nn.Linear(400, 200),\n",
    "                                       torch.nn.ReLU())\n",
    "        self.fc3 = torch.nn.Linear(200, num_classes)\n",
    "    \n",
    "    def forward(self, x):\n",
    "        out = self.layer1(x)\n",
    "        out = self.layer2(out)\n",
    "        out = out.reshape(out.size(0), -1)\n",
    "        out = self.fc1(out)\n",
    "        out = self.fc2(out)\n",
    "        out = self.fc3(out)\n",
    "        return out"
   ]
  },
  {
   "cell_type": "markdown",
   "id": "f5e91bf8-b40a-43ad-90d4-ffb2b15c9cc9",
   "metadata": {},
   "source": [
    "### AlexNet"
   ]
  },
  {
   "cell_type": "code",
   "execution_count": 9,
   "id": "ec7a966e-f5ce-4a57-8fb4-1fa43beb06c2",
   "metadata": {},
   "outputs": [],
   "source": [
    "class AlexNet(torch.nn.Module):\n",
    "    def __init__(self, num_classes, init_weights=False):\n",
    "        super(AlexNet, self).__init__()\n",
    "        self.layer1 = torch.nn.Sequential(torch.nn.Conv2d(3, 64, kernel_size=4, stride=2, padding=2),\n",
    "                                          torch.nn.BatchNorm2d(64),\n",
    "                                          torch.nn.ReLU(inplace=True),\n",
    "                                          torch.nn.MaxPool2d(kernel_size=3, stride=2, padding=0))\n",
    "        \n",
    "        self.layer2 = torch.nn.Sequential(torch.nn.Conv2d(64, 192, kernel_size=4, stride=1, padding=1),\n",
    "                                          torch.nn.BatchNorm2d(192),\n",
    "                                          torch.nn.ReLU(inplace=True),\n",
    "                                          torch.nn.MaxPool2d(kernel_size=2, stride=1, padding=0))\n",
    "        \n",
    "        self.layer3 = torch.nn.Sequential(torch.nn.Conv2d(192, 384, kernel_size=3, padding=1),\n",
    "                                          torch.nn.BatchNorm2d(384),\n",
    "                                          torch.nn.ReLU(inplace=True))\n",
    "        \n",
    "        self.layer4 = torch.nn.Sequential(torch.nn.Conv2d(384, 256, kernel_size=3, padding=1),\n",
    "                                          torch.nn.BatchNorm2d(256),\n",
    "                                          torch.nn.ReLU(inplace=True))\n",
    "        \n",
    "        self.layer5 = torch.nn.Sequential(torch.nn.Conv2d(256, 256, kernel_size=3, padding=1),\n",
    "                                          torch.nn.BatchNorm2d(256),\n",
    "                                          torch.nn.ReLU(inplace=True),\n",
    "                                          torch.nn.MaxPool2d(kernel_size=2, stride=2))\n",
    "        \n",
    "        self.avgpool = torch.nn.Sequential(torch.nn.AdaptiveAvgPool2d(output_size=(3, 3)))\n",
    "        \n",
    "        self.fc1 = torch.nn.Sequential(torch.nn.Dropout(p=0.5, inplace=False),\n",
    "                                       torch.nn.Linear(256 * 3 * 3, 1024),\n",
    "                                       torch.nn.ReLU(inplace=True))\n",
    "        \n",
    "        self.fc2 = torch.nn.Sequential(torch.nn.Dropout(p=0.5, inplace=False),\n",
    "                                       torch.nn.Linear(1024, 1024),\n",
    "                                       torch.nn.ReLU(inplace=True))\n",
    "        \n",
    "        self.fc3 = torch.nn.Sequential(torch.nn.Dropout(p=0.5, inplace=False),\n",
    "                                       torch.nn.Linear(1024, num_classes))\n",
    "        if init_weights:\n",
    "            self._initialize_weights()\n",
    "    \n",
    "    def forward(self, x):\n",
    "        out = self.layer1(x)\n",
    "        out = self.layer2(out)\n",
    "        out = self.layer3(out)\n",
    "        out = self.layer4(out)\n",
    "        out = self.layer5(out)\n",
    "        out = self.avgpool(out)\n",
    "        out = out.reshape(out.size(0), -1)\n",
    "        out = self.fc1(out)\n",
    "        out = self.fc2(out)\n",
    "        out = self.fc3(out)\n",
    "        return out\n",
    "    \n",
    "    def _initialize_weights(self):\n",
    "        for m in self.modules():\n",
    "            if isinstance(m, torch.nn.Conv2d):\n",
    "                torch.nn.init.kaiming_normal_(m.weight, mode='fan_out', nonlinearity='relu')\n",
    "                if m.bias is not None:\n",
    "                    torch.nn.init.constant_(m.bias, 0)\n",
    "            elif isinstance(m, torch.nn.Linear):\n",
    "                torch.nn.init.normal_(m.weight, 0, 0.01)\n",
    "                torch.nn.init.constant_(m.bias, 0)"
   ]
  },
  {
   "cell_type": "markdown",
   "id": "9fdd9cc4-a48f-42f6-811d-e4451eef02de",
   "metadata": {},
   "source": [
    "### VGGNet\n",
    "VGG-16、VGG-19"
   ]
  },
  {
   "cell_type": "code",
   "execution_count": 10,
   "id": "0ccba4fa-0767-46b9-8280-1fac46f9ccae",
   "metadata": {},
   "outputs": [],
   "source": [
    "# Define VGG-16 and VGG-19.\n",
    "cfg = {\n",
    "    'VGG-16': [64, 64, 'M', 128, 128, 'M', 256, 256, 256, 'M', 512, 512, 512, 'M', 512, 512, 512, 'M'], \n",
    "    'VGG-19': [64, 64, 'M', 128, 128, 'M', 256, 256, 256, 256, 'M', 512, 512, 512, 512, 'M', 512, 512, 512, 512,'M']\n",
    "}"
   ]
  },
  {
   "cell_type": "code",
   "execution_count": 11,
   "id": "3d5105c6-6e51-43d2-a794-97247ac78aca",
   "metadata": {},
   "outputs": [],
   "source": [
    "# VGG-16 and VGG-19\n",
    "class VGGNet(torch.nn.Module):\n",
    "    def __init__(self, VGG_type, num_classes):\n",
    "        super(VGGNet, self).__init__()\n",
    "        self.features = self._make_layers(cfg[VGG_type])\n",
    "        self.classifier = torch.nn.Linear(512, num_classes)\n",
    "        \n",
    "    def forward(self, x):\n",
    "        out = self.features(x)\n",
    "        out = out.view(out.size(0), -1)\n",
    "        out = self.classifier(out)\n",
    "        return out\n",
    "    \n",
    "    def _make_layers(self, cfg):\n",
    "        layers = []\n",
    "        in_channels = 3\n",
    "        for x in cfg:\n",
    "            if x == 'M': # MaxPool2d\n",
    "                layers += [torch.nn.MaxPool2d(kernel_size=2, stride=2)]\n",
    "            else:\n",
    "                layers += [torch.nn.Conv2d(in_channels, x, kernel_size=3, padding=1),\n",
    "                           torch.nn.BatchNorm2d(x),\n",
    "                           torch.nn.ReLU(inplace=True)]\n",
    "                in_channels = x\n",
    "        layers += [torch.nn.AvgPool2d(kernel_size=1, stride=1)]\n",
    "        return torch.nn.Sequential(*layers) # The number of parameters is more than one."
   ]
  },
  {
   "cell_type": "markdown",
   "id": "c9f0b6b0-3c7b-469b-a1d6-ed6afcac36f0",
   "metadata": {},
   "source": [
    "### GoogLeNet"
   ]
  },
  {
   "cell_type": "code",
   "execution_count": 12,
   "id": "fdbbad09-528b-4996-b34b-992dfbddc98d",
   "metadata": {},
   "outputs": [],
   "source": [
    "# Define BasicConv2d\n",
    "class BasicConv2d(torch.nn.Module):\n",
    "    def __init__(self, in_channels, out_channels, **kwargs):\n",
    "        super(BasicConv2d, self).__init__()\n",
    "        self.conv = torch.nn.Conv2d(in_channels, out_channels, **kwargs)\n",
    "        self.batchnorm = torch.nn.BatchNorm2d(out_channels)\n",
    "        self.relu = torch.nn.ReLU(inplace=True)\n",
    "    \n",
    "    def forward(self, x):\n",
    "        x = self.conv(x)\n",
    "        x = self.batchnorm(x)\n",
    "        x = self.relu(x)\n",
    "        return x"
   ]
  },
  {
   "cell_type": "code",
   "execution_count": 13,
   "id": "a6ead72f-011d-422a-80c6-1d6604e2e8f4",
   "metadata": {},
   "outputs": [],
   "source": [
    "# Define InceptionAux.\n",
    "class InceptionAux(torch.nn.Module):\n",
    "    def __init__(self, in_channels, num_classes):\n",
    "        super(InceptionAux, self).__init__()\n",
    "        self.avgpool = torch.nn.AvgPool2d(kernel_size=2, stride=2)\n",
    "        self.conv = BasicConv2d(in_channels, 128, kernel_size=1)\n",
    "        self.fc1 = torch.nn.Sequential(torch.nn.Linear(2 * 2 * 128, 256))\n",
    "        self.fc2 = torch.nn.Linear(256, num_classes)\n",
    "        \n",
    "    def forward(self, x):\n",
    "        out = self.avgpool(x)\n",
    "        out = self.conv(out)\n",
    "        out = out.view(out.size(0), -1)\n",
    "        out = torch.nn.functional.dropout(out, 0.5, training=self.training)\n",
    "        out = torch.nn.functional.relu(self.fc1(out), inplace=True)\n",
    "        out = torch.nn.functional.dropout(out, 0.5, training=self.training)\n",
    "        out = self.fc2(out)\n",
    "        return out"
   ]
  },
  {
   "cell_type": "code",
   "execution_count": 14,
   "id": "aee6ee35-81d4-4743-a367-da1bc21a0191",
   "metadata": {},
   "outputs": [],
   "source": [
    "# Define Inception.\n",
    "class Inception(torch.nn.Module):\n",
    "    def __init__(self, in_channels, ch1x1, ch3x3red, ch3x3, ch5x5red, ch5x5, pool_proj):\n",
    "        super(Inception, self).__init__()\n",
    "        self.branch1 = BasicConv2d(in_channels, ch1x1, kernel_size=1)\n",
    "        self.branch2 = torch.nn.Sequential(BasicConv2d(in_channels, ch3x3red, kernel_size=1),\n",
    "                                            BasicConv2d(ch3x3red, ch3x3, kernel_size=3, padding=1))\n",
    "        self.branch3 = torch.nn.Sequential(BasicConv2d(in_channels, ch5x5red, kernel_size=1),\n",
    "                                           BasicConv2d(ch5x5red, ch5x5, kernel_size=5, padding=2))\n",
    "        self.branch4 = torch.nn.Sequential(torch.nn.MaxPool2d(kernel_size=3, stride=1, padding=1),\n",
    "                                           BasicConv2d(in_channels, pool_proj, kernel_size=1))\n",
    "        \n",
    "    def forward(self, x):\n",
    "        branch1 = self.branch1(x)\n",
    "        branch2 = self.branch2(x)\n",
    "        branch3 = self.branch3(x)\n",
    "        branch4 = self.branch4(x)\n",
    "        \n",
    "        outputs = [branch1, branch2, branch3, branch4]\n",
    "        return torch.cat(outputs, 1)"
   ]
  },
  {
   "cell_type": "code",
   "execution_count": 15,
   "id": "9ef0e362-666a-455c-9871-d7e0ac014e6a",
   "metadata": {},
   "outputs": [],
   "source": [
    "# Define GooLeNet.\n",
    "class GoogLeNet(torch.nn.Module):\n",
    "    def __init__(self, num_classes, aux_logits=True, init_weights=False):\n",
    "        super(GoogLeNet, self).__init__()\n",
    "        self.aux_logits = aux_logits\n",
    "        self.conv1 = BasicConv2d(3, 64, kernel_size=4, stride=2, padding=3)\n",
    "        self.maxpool1 = torch.nn.MaxPool2d(kernel_size=2, stride=2, ceil_mode=True)\n",
    "        self.conv2 = BasicConv2d(64, 64, kernel_size=1)\n",
    "        self.conv3 = BasicConv2d(64, 192, kernel_size=3, padding=1)\n",
    "        self.maxpool2 = torch.nn.MaxPool2d(kernel_size=2, stride=1, ceil_mode=True)\n",
    "        self.inception3a = Inception(192, 64, 96, 128, 16, 32, 32)\n",
    "        self.inception3b = Inception(256, 128, 128, 192, 32, 96, 64)\n",
    "        self.maxpool3 = torch.nn.MaxPool2d(kernel_size=2, stride=2, ceil_mode=True)\n",
    "        self.inception4a = Inception(480, 192, 96, 208, 16, 48, 64)\n",
    "        self.inception4b = Inception(512, 160, 112, 224, 24, 64, 64)\n",
    "        self.inception4c = Inception(512, 128, 128, 256, 24, 64, 64)\n",
    "        self.inception4d = Inception(512, 112, 144, 288, 32, 64, 64)\n",
    "        self.inception4e = Inception(528, 256, 160, 320, 32, 128, 128)\n",
    "        self.maxpool4 = torch.nn.MaxPool2d(kernel_size=2, stride=2, ceil_mode=True)\n",
    "        self.inception5a = Inception(832, 256, 160, 320, 32, 128, 128)\n",
    "        self.inception5b = Inception(832, 384, 192, 384, 48, 128, 128)\n",
    "        \n",
    "        if self.aux_logits:\n",
    "            self.aux1 = InceptionAux(512, num_classes)\n",
    "            self.aux2 = InceptionAux(528, num_classes)\n",
    "            \n",
    "        self.avgpool = torch.nn.AdaptiveAvgPool2d((1, 1))\n",
    "        self.dropout = torch.nn.Dropout(0.4)\n",
    "        self.fc = torch.nn.Linear(1024, num_classes)\n",
    "        if init_weights:\n",
    "            self._initialize_weights()\n",
    "            \n",
    "    def forward(self, x):\n",
    "        # N x 3 x 32 x 32\n",
    "        x = self.conv1(x)\n",
    "        # N x 64 x 18 x 18\n",
    "        x = self.maxpool1(x)\n",
    "        # N x 64 x 9 x 9\n",
    "        x = self.conv2(x)\n",
    "        # N x 64 x 9 x 9\n",
    "        x = self.conv3(x)\n",
    "        # N x 192 x 9 x 9\n",
    "        x = self.maxpool2(x)\n",
    " \n",
    "        # N x 192 x 8 x 8\n",
    "        x = self.inception3a(x)\n",
    "        # N x 256 x 8 x 8\n",
    "        x = self.inception3b(x)\n",
    "        # N x 480 x 8 x 8\n",
    "        x = self.maxpool3(x)\n",
    "        # N x 480 x 4 x 4\n",
    "        x = self.inception4a(x)\n",
    "        # N x 512 x 4 x 4\n",
    "        \n",
    "        if self.training and self.aux_logits: # eval model lose this layer\n",
    "            aux1 = self.aux1(x)\n",
    " \n",
    "        x = self.inception4b(x)\n",
    "        # N x 512 x 4 x 4\n",
    "        x = self.inception4c(x)\n",
    "        # N x 512 x 4 x 4\n",
    "        x = self.inception4d(x)\n",
    "        # N x 528 x 4 x 4\n",
    "        if self.training and self.aux_logits: # eval model lose this layer\n",
    "            aux2 = self.aux2(x)\n",
    " \n",
    "        x = self.inception4e(x)\n",
    "        # N x 832 x 4 x 4\n",
    "        x = self.maxpool4(x)\n",
    "        # N x 832 x 2 x 2\n",
    "        x = self.inception5a(x)\n",
    "        # N x 832 x 2 x 2\n",
    "        x = self.inception5b(x)\n",
    "        # N x 1024 x 2 x 2\n",
    " \n",
    "        x = self.avgpool(x)\n",
    "        # N x 1024 x 1 x 1\n",
    "        x = torch.flatten(x, 1)\n",
    "        # N x 1024\n",
    "        x = self.dropout(x)\n",
    "        x = self.fc(x)\n",
    "        # N x 10 (num_classes)\n",
    "        if self.training and self.aux_logits: # eval model lose this layer\n",
    "            return x, aux2, aux1\n",
    "        return x\n",
    " \n",
    "    def _initialize_weights(self):\n",
    "        for m in self.modules():\n",
    "            if isinstance(m, torch.nn.Conv2d):\n",
    "                torch.nn.init.kaiming_normal_(m.weight, mode='fan_out', nonlinearity='relu')\n",
    "                if m.bias is not None:\n",
    "                    torch.nn.init.constant_(m.bias, 0)\n",
    "            elif isinstance(m, torch.nn.Linear):\n",
    "                torch.nn.init.normal_(m.weight, 0, 0.01)\n",
    "                torch.nn.init.constant_(m.bias, 0)\n",
    "                "
   ]
  },
  {
   "cell_type": "markdown",
   "id": "ff8cc166-d92b-4970-b7b5-76fbd535146e",
   "metadata": {},
   "source": [
    "### ResNet\n",
    "ResNet-18、ResNet-34、ResNet-50"
   ]
  },
  {
   "cell_type": "code",
   "execution_count": 16,
   "id": "48c1ee30-0c6d-44da-8e61-6303bea8243e",
   "metadata": {},
   "outputs": [],
   "source": [
    "# Define 3x3 convolution.\n",
    "def conv3x3(in_channels, out_channels, stride=1):\n",
    "    return torch.nn.Conv2d(in_channels, out_channels, kernel_size=3, stride=stride, padding=1, bias=False)\n",
    "\n",
    "# Define Residual block\n",
    "class ResidualBlock(torch.nn.Module):\n",
    "    def __init__(self, in_channels, out_channels, stride=1, downsample=None):\n",
    "        super(ResidualBlock, self).__init__()\n",
    "        self.conv1 = conv3x3(in_channels, out_channels, stride)\n",
    "        self.bn1 = torch.nn.BatchNorm2d(out_channels)\n",
    "        self.relu = torch.nn.ReLU(inplace=True)\n",
    "        self.conv2 = conv3x3(out_channels, out_channels)\n",
    "        self.bn2 = torch.nn.BatchNorm2d(out_channels)\n",
    "        self.downsample = downsample\n",
    "        \n",
    "    def forward(self, x):\n",
    "        residual = x\n",
    "        out = self.conv1(x)\n",
    "        out = self.bn1(out)\n",
    "        out = self.relu(out)\n",
    "        out = self.conv2(out)\n",
    "        out = self.bn2(out)\n",
    "        if self.downsample :\n",
    "            residual = self.downsample(x)\n",
    "        out += residual\n",
    "        out = self.relu(out)\n",
    "        return out"
   ]
  },
  {
   "cell_type": "code",
   "execution_count": 17,
   "id": "e0272d3c-e128-452c-b05c-f98d07c1ebae",
   "metadata": {},
   "outputs": [],
   "source": [
    "# Define ResNet-18\n",
    "class ResNet(torch.nn.Module):\n",
    "    def __init__(self, block, layers, num_classes):\n",
    "        super(ResNet, self).__init__()\n",
    "        self.in_channels = 16\n",
    "        self.conv = conv3x3(3, 16)\n",
    "        self.bn = torch.nn.BatchNorm2d(16)\n",
    "        self.relu = torch.nn.ReLU(inplace=True)\n",
    "        self.layer1 = self._make_layers(block, 16, layers[0])\n",
    "        self.layer2 = self._make_layers(block, 32, layers[1], 2)\n",
    "        self.layer3 = self._make_layers(block, 64, layers[2], 2)\n",
    "        self.layer4 = self._make_layers(block, 128, layers[3], 2)\n",
    "        self.avg_pool = torch.nn.AdaptiveAvgPool2d((1, 1))\n",
    "        self.fc = torch.nn.Linear(128, num_classes)\n",
    "        \n",
    "    def _make_layers(self, block, out_channels, blocks, stride=1):\n",
    "        downsample = None\n",
    "        if (stride != 1) or (self.in_channels != out_channels):\n",
    "            downsample = torch.nn.Sequential(\n",
    "                conv3x3(self.in_channels, out_channels, stride=stride),\n",
    "                torch.nn.BatchNorm2d(out_channels))\n",
    "        layers = []\n",
    "        layers.append(block(self.in_channels, out_channels, stride, downsample))\n",
    "        self.in_channels = out_channels\n",
    "        for i in range(1, blocks):\n",
    "            layers.append(block(out_channels, out_channels))\n",
    "        return torch.nn.Sequential(*layers)\n",
    "    \n",
    "    def forward(self, x):\n",
    "        out = self.conv(x)\n",
    "        out = self.bn(out)\n",
    "        out = self.relu(out)\n",
    "        out = self.layer1(out)\n",
    "        out = self.layer2(out)\n",
    "        out = self.layer3(out)\n",
    "        out = self.layer4(out)\n",
    "        out = self.avg_pool(out)\n",
    "        out = out.view(out.size(0), -1)\n",
    "        out = self.fc(out)\n",
    "        return out"
   ]
  },
  {
   "cell_type": "markdown",
   "id": "1769c537-bf8b-4c35-a972-da3c62b34500",
   "metadata": {},
   "source": [
    "## Tensorboard"
   ]
  },
  {
   "cell_type": "code",
   "execution_count": 18,
   "id": "955f3984-83c0-4390-b8c9-6bf8dc390413",
   "metadata": {},
   "outputs": [],
   "source": [
    "from torch.utils.tensorboard import SummaryWriter\n",
    "writer = SummaryWriter('../tensorboadrd/GoogLeNet')"
   ]
  },
  {
   "cell_type": "code",
   "execution_count": 19,
   "id": "3c03a64a-ff14-4fb4-9ebd-32d36d23bda2",
   "metadata": {},
   "outputs": [],
   "source": [
    "# get training images.\n",
    "data_iter = iter(train_loader)\n",
    "images, labels = data_iter.next()"
   ]
  },
  {
   "cell_type": "code",
   "execution_count": 20,
   "id": "992237b7-4237-4c97-9c37-9a1cca489cc5",
   "metadata": {},
   "outputs": [],
   "source": [
    "# create grid of images\n",
    "img_grid = torchvision.utils.make_grid(images)"
   ]
  },
  {
   "cell_type": "code",
   "execution_count": 21,
   "id": "dea7d9f8-c640-4407-8169-2b8887a047d1",
   "metadata": {},
   "outputs": [],
   "source": [
    "# write to tensorboard\n",
    "writer.add_image('CIFAR10_images', img_grid)"
   ]
  },
  {
   "cell_type": "markdown",
   "id": "9ed0fcfb-8a07-4957-84ba-bbfef8dc6099",
   "metadata": {},
   "source": [
    "## Training"
   ]
  },
  {
   "cell_type": "code",
   "execution_count": 22,
   "id": "65a07a3c-0659-4082-a465-f3ee7538adc8",
   "metadata": {},
   "outputs": [],
   "source": [
    "# Make model\n",
    "model = GoogLeNet(num_classes, False, True).to(device)"
   ]
  },
  {
   "cell_type": "code",
   "execution_count": 23,
   "id": "8b00cbda-9dd2-476f-8e09-b2edad40c12e",
   "metadata": {},
   "outputs": [],
   "source": [
    "writer.add_graph(model, images.to(device))"
   ]
  },
  {
   "cell_type": "code",
   "execution_count": 24,
   "id": "92664a3a-6070-4fbc-aaf2-37be0a89722f",
   "metadata": {},
   "outputs": [],
   "source": [
    "# Loss and optimizer\n",
    "criterion = torch.nn.CrossEntropyLoss()\n",
    "optimizer = torch.optim.Adam(model.parameters(), lr=learning_rate)"
   ]
  },
  {
   "cell_type": "code",
   "execution_count": 25,
   "id": "4746644f-921a-443c-8639-96083289e660",
   "metadata": {},
   "outputs": [],
   "source": [
    "# For updating learning rate.\n",
    "def update_lr(optimizer, lr):\n",
    "    for param_group in optimizer.param_groups:\n",
    "        param_group['lr'] = lr"
   ]
  },
  {
   "cell_type": "code",
   "execution_count": null,
   "id": "935529e8-406e-4054-aabb-a7c0eaa25bd7",
   "metadata": {},
   "outputs": [
    {
     "name": "stdout",
     "output_type": "stream",
     "text": [
      "Epoch [1/80], Step [100/500], Loss: 1.7892\n",
      "Epoch [1/80], Step [200/500], Loss: 1.4813\n",
      "Epoch [1/80], Step [300/500], Loss: 1.4148\n",
      "Epoch [1/80], Step [400/500], Loss: 1.3334\n",
      "Epoch [1/80], Step [500/500], Loss: 1.0703\n"
     ]
    }
   ],
   "source": [
    "# Train the model.\n",
    "import gc\n",
    "total_step = len(train_loader)\n",
    "curr_lr = learning_rate\n",
    "running_loss = 0.0\n",
    "for epoch in range(num_epochs):\n",
    "    gc.collect()\n",
    "    torch.cuda.empty_cache()\n",
    "    for i, (images, labels) in enumerate(train_loader):\n",
    "        images = images.to(device)\n",
    "        labels = labels.to(device)\n",
    "        \n",
    "        # Forward pass.\n",
    "        outputs = model(images)\n",
    "        loss = criterion(outputs, labels)\n",
    "        \n",
    "        # Backward and optimize\n",
    "        optimizer.zero_grad()\n",
    "        loss.backward()\n",
    "        optimizer.step()\n",
    "        \n",
    "        running_loss += loss.item()\n",
    "        if (i+1) % 100 == 0:\n",
    "            print ('Epoch [{}/{}], Step [{}/{}], Loss: {:.4f}'.format(epoch+1, num_epochs, i+1, total_step, loss.item()))\n",
    "            # ...log the running loss\n",
    "            writer.add_scalar('training loss',\n",
    "                            running_loss / 100,\n",
    "                            epoch * len(train_loader) + i)\n",
    "            running_loss = 0.0\n",
    "    # Decay learning rate.\n",
    "    if (epoch+1) % 20 == 0:\n",
    "        curr_lr /= 3\n",
    "        update_lr(optimizer, curr_lr)"
   ]
  },
  {
   "cell_type": "markdown",
   "id": "c4ebb6dd-a673-40cb-93bd-7b4586fe62c8",
   "metadata": {},
   "source": [
    "## Testing"
   ]
  },
  {
   "cell_type": "code",
   "execution_count": null,
   "id": "19cbc9cb-d05e-40e3-bacc-efecdf24caba",
   "metadata": {},
   "outputs": [],
   "source": [
    "# Test the model.\n",
    "class_probs = []\n",
    "class_preds = []\n",
    "model.eval()\n",
    "with torch.no_grad():\n",
    "    total = 0\n",
    "    correct = 0\n",
    "    for images, labels in test_loader:\n",
    "        images = images.to(device)\n",
    "        labels = labels.to(device)\n",
    "        outputs = model(images)\n",
    "        class_probs_batch = [torch.nn.functional.softmax(el, dim=0) for el in outputs]\n",
    "        _, predicted = torch.max(outputs.data, 1)\n",
    "        total += labels.size(0)\n",
    "        correct += (predicted == labels).sum().item()\n",
    "        \n",
    "        class_probs.append(class_probs_batch)\n",
    "        class_preds.append(predicted)\n",
    "        \n",
    "    print ('Test Accuracy of the model on the 10000 test images: {} %'.format(100 * correct / total))"
   ]
  },
  {
   "cell_type": "code",
   "execution_count": null,
   "id": "b8287193-df1e-44c3-8854-ef4c0dd1ba88",
   "metadata": {},
   "outputs": [],
   "source": [
    "test_probs = torch.cat([torch.stack(batch) for batch in class_probs])\n",
    "test_preds = torch.cat(class_preds)"
   ]
  },
  {
   "cell_type": "code",
   "execution_count": null,
   "id": "dab252db-bcfb-45a7-af90-06bfe4ca4448",
   "metadata": {},
   "outputs": [],
   "source": [
    "classes = ['airplane','automobile','bird','cat','deer','dog','frog','horse','ship','truck']"
   ]
  },
  {
   "cell_type": "code",
   "execution_count": null,
   "id": "423be112-2e80-46b4-ab0a-784afcb3cb3d",
   "metadata": {},
   "outputs": [],
   "source": [
    "def add_pr_curve_tensorboard(class_index, test_probs, test_preds, global_step=0):\n",
    "    '''\n",
    "    Takes in a \"class_index\" from 0 to 9 and plots the corresponding\n",
    "    precision-recall curve\n",
    "    '''\n",
    "    tensorboard_preds = test_preds == class_index\n",
    "    tensorboard_probs = test_probs[:, class_index]\n",
    "    writer.add_pr_curve(classes[class_index],\n",
    "                        tensorboard_preds,\n",
    "                        tensorboard_probs,\n",
    "                        global_step=global_step)\n",
    "    writer.close()"
   ]
  },
  {
   "cell_type": "code",
   "execution_count": null,
   "id": "d03b2a48-028e-4d87-9cd5-278aa5957e97",
   "metadata": {},
   "outputs": [],
   "source": [
    "# plot all the pr curves\n",
    "for i in range(len(classes)):\n",
    "    add_pr_curve_tensorboard(i, test_probs, test_preds)"
   ]
  },
  {
   "cell_type": "code",
   "execution_count": null,
   "id": "ee07127b-ec37-4e38-8eed-287ba9165354",
   "metadata": {},
   "outputs": [],
   "source": []
  }
 ],
 "metadata": {
  "kernelspec": {
   "display_name": "pytorch",
   "language": "python",
   "name": "pytorch"
  },
  "language_info": {
   "codemirror_mode": {
    "name": "ipython",
    "version": 3
   },
   "file_extension": ".py",
   "mimetype": "text/x-python",
   "name": "python",
   "nbconvert_exporter": "python",
   "pygments_lexer": "ipython3",
   "version": "3.8.13"
  },
  "widgets": {
   "application/vnd.jupyter.widget-state+json": {
    "state": {},
    "version_major": 2,
    "version_minor": 0
   }
  }
 },
 "nbformat": 4,
 "nbformat_minor": 5
}
