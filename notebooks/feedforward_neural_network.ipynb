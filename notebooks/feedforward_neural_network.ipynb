{
 "cells": [
  {
   "cell_type": "markdown",
   "id": "7cb26c38-3b79-4c33-9151-d8697661478c",
   "metadata": {},
   "source": [
    "# Feedforward Neural Network"
   ]
  },
  {
   "cell_type": "markdown",
   "id": "ed503c48-c20b-4eea-93b2-1744698a8e95",
   "metadata": {},
   "source": [
    "## Load Dependent Packages"
   ]
  },
  {
   "cell_type": "code",
   "execution_count": 1,
   "id": "f90e3886-75a8-4a33-8f96-4bf83e4fdaf1",
   "metadata": {},
   "outputs": [],
   "source": [
    "import torch\n",
    "import torchvision"
   ]
  },
  {
   "cell_type": "markdown",
   "id": "21001339-47ec-4293-80ad-d0421962f8dc",
   "metadata": {},
   "source": [
    "## Device Configuration: CPU or GPU"
   ]
  },
  {
   "cell_type": "code",
   "execution_count": 2,
   "id": "eb10ee3b-da40-426d-bb10-f0e33f984916",
   "metadata": {},
   "outputs": [],
   "source": [
    "device = torch.device('cuda' if torch.cuda.is_available() else 'cpu')"
   ]
  },
  {
   "cell_type": "markdown",
   "id": "81d87a9e-a617-43eb-8be3-291c1b0c8cbf",
   "metadata": {},
   "source": [
    "## Select Hyper Parameters"
   ]
  },
  {
   "cell_type": "code",
   "execution_count": 3,
   "id": "0154997c-33ba-4883-bb70-27943c73255c",
   "metadata": {},
   "outputs": [],
   "source": [
    "input_size = 28 * 28\n",
    "hidden_size = 500\n",
    "num_classes = 10\n",
    "num_epochs = 5\n",
    "batch_size = 100\n",
    "learning_rate = 0.01"
   ]
  },
  {
   "cell_type": "markdown",
   "id": "d3987b8f-b33c-4bc9-ad17-bbaa72861a8b",
   "metadata": {},
   "source": [
    "## Define Dataset Class"
   ]
  },
  {
   "cell_type": "code",
   "execution_count": 4,
   "id": "27d2db4b-ee05-4b62-998e-5cb6cc2b1983",
   "metadata": {},
   "outputs": [],
   "source": [
    "import numpy as np\n",
    "import gzip\n",
    "import os\n",
    "class MNISTDataset(torch.utils.data.Dataset):\n",
    "    def __init__(self, root, train=True, transform=None):\n",
    "        # The file name prefix is obtained according to whether it is a training set or not.\n",
    "        self.file_pre = 'train' if train == True else 't10k'\n",
    "        self.transform = transform\n",
    "\n",
    "        # Generate the image and label file path of the corresponding dataset.\n",
    "        self.label_path = os.path.join(root, '%s-labels-idx1-ubyte.gz' % self.file_pre)\n",
    "        self.image_path = os.path.join(root, '%s-images-idx3-ubyte.gz' % self.file_pre)\n",
    "\n",
    "        # Read file data and return pictures and labels.\n",
    "        self.images, self.labels = self.__read_data__(self.image_path, self.label_path)\n",
    "\n",
    "    def __read_data__(self, image_path, label_path):\n",
    "        # Data set reading.\n",
    "        with gzip.open(label_path, 'rb') as lbpath:\n",
    "            labels = np.frombuffer(lbpath.read(), np.uint8, offset=8)\n",
    "        with gzip.open(image_path, 'rb') as imgpath:\n",
    "            images = np.frombuffer(imgpath.read(), np.uint8, offset=16).reshape(len(labels), 28, 28)\n",
    "        return images, labels\n",
    "\n",
    "    def __getitem__(self, index):\n",
    "        image, label = self.images[index], int(self.labels[index])\n",
    "        \n",
    "        # If you need to convert to tensor, use tansform.\n",
    "        if self.transform is not None:\n",
    "            image = self.transform(np.array(image))  # Avoid bug: use np.array\n",
    "        return image, label\n",
    "\n",
    "    def __len__(self):\n",
    "        return len(self.labels)"
   ]
  },
  {
   "cell_type": "markdown",
   "id": "66338fe0-93e1-466c-bdc4-1867e7058bd6",
   "metadata": {},
   "source": [
    "## Load through Local Dataset"
   ]
  },
  {
   "cell_type": "code",
   "execution_count": 5,
   "id": "88a5c36a-0cd4-494a-829c-6e2d6d0b607c",
   "metadata": {},
   "outputs": [],
   "source": [
    "# MNIST dataset (images and labels)\n",
    "train_dataset = MNISTDataset('../data/MNIST/', transform=torchvision.transforms.ToTensor())\n",
    "test_dataset = MNISTDataset('../data/MNIST/', train=False, transform=torchvision.transforms.ToTensor())"
   ]
  },
  {
   "cell_type": "markdown",
   "id": "11979f0a-9589-432a-b16a-48c090e00e99",
   "metadata": {},
   "source": [
    "## Set Data loader (Input Pipeline)"
   ]
  },
  {
   "cell_type": "code",
   "execution_count": 6,
   "id": "b41e646e-a661-45a3-ba59-605a51844832",
   "metadata": {},
   "outputs": [],
   "source": [
    "train_loader = torch.utils.data.DataLoader(dataset=train_dataset, batch_size=batch_size, shuffle=True)\n",
    "test_loader = torch.utils.data.DataLoader(dataset=test_dataset, batch_size=batch_size, shuffle=False)"
   ]
  },
  {
   "cell_type": "markdown",
   "id": "63978c44-8202-40ab-832e-8d50531328b3",
   "metadata": {},
   "source": [
    "## Fully Connected Neural Network with One Hidden Layer"
   ]
  },
  {
   "cell_type": "code",
   "execution_count": 7,
   "id": "cb16ea72-d19f-47da-ab02-0bcccd10e43e",
   "metadata": {},
   "outputs": [],
   "source": [
    "class NeuralNet(torch.nn.Module):\n",
    "    def __init__(self, input_size, hidden_size, num_classes):\n",
    "        super(NeuralNet, self).__init__()\n",
    "        self.fc1 = torch.nn.Linear(input_size, hidden_size)\n",
    "        self.relu = torch.nn.ReLU()\n",
    "        self.fc2 = torch.nn.Linear(hidden_size, num_classes)\n",
    "    \n",
    "    def forward(self, x):\n",
    "        output = self.fc1(x)\n",
    "        output = self.relu(output)\n",
    "        output = self.fc2(output)\n",
    "        return output"
   ]
  },
  {
   "cell_type": "markdown",
   "id": "d278da9d-7dcf-48ed-b1d4-f061175bde6c",
   "metadata": {},
   "source": [
    "## Make Model with Hyper-params"
   ]
  },
  {
   "cell_type": "code",
   "execution_count": 8,
   "id": "062fc5e9-3369-4e1f-b6da-34909863a30c",
   "metadata": {},
   "outputs": [],
   "source": [
    "model = NeuralNet(input_size, hidden_size, num_classes).to(device)"
   ]
  },
  {
   "cell_type": "markdown",
   "id": "184ae895-d8ec-47f0-ace1-782f96e2239a",
   "metadata": {},
   "source": [
    "## Loss and optimizer"
   ]
  },
  {
   "cell_type": "code",
   "execution_count": 9,
   "id": "0ac8cbae-c1b5-4695-8629-b127aefd4d53",
   "metadata": {},
   "outputs": [],
   "source": [
    "criterion = torch.nn.CrossEntropyLoss()\n",
    "optimizer = torch.optim.Adam(model.parameters(), lr = learning_rate)"
   ]
  },
  {
   "cell_type": "markdown",
   "id": "9e522928-5eed-475b-862d-af4d8d559880",
   "metadata": {},
   "source": [
    "## Train Model with GPU"
   ]
  },
  {
   "cell_type": "code",
   "execution_count": 10,
   "id": "206c0ee6-4335-442a-ab3f-91f1c52349d8",
   "metadata": {},
   "outputs": [
    {
     "name": "stdout",
     "output_type": "stream",
     "text": [
      "Epoch [1/5], Step [100/600], Loss: 0.3548\n",
      "Epoch [1/5], Step [200/600], Loss: 0.3716\n",
      "Epoch [1/5], Step [300/600], Loss: 0.1688\n",
      "Epoch [1/5], Step [400/600], Loss: 0.3031\n",
      "Epoch [1/5], Step [500/600], Loss: 0.1814\n",
      "Epoch [1/5], Step [600/600], Loss: 0.0972\n",
      "Epoch [2/5], Step [100/600], Loss: 0.2293\n",
      "Epoch [2/5], Step [200/600], Loss: 0.0615\n",
      "Epoch [2/5], Step [300/600], Loss: 0.0470\n",
      "Epoch [2/5], Step [400/600], Loss: 0.1991\n",
      "Epoch [2/5], Step [500/600], Loss: 0.1298\n",
      "Epoch [2/5], Step [600/600], Loss: 0.1901\n",
      "Epoch [3/5], Step [100/600], Loss: 0.1107\n",
      "Epoch [3/5], Step [200/600], Loss: 0.0555\n",
      "Epoch [3/5], Step [300/600], Loss: 0.0414\n",
      "Epoch [3/5], Step [400/600], Loss: 0.0392\n",
      "Epoch [3/5], Step [500/600], Loss: 0.0987\n",
      "Epoch [3/5], Step [600/600], Loss: 0.0704\n",
      "Epoch [4/5], Step [100/600], Loss: 0.0808\n",
      "Epoch [4/5], Step [200/600], Loss: 0.0894\n",
      "Epoch [4/5], Step [300/600], Loss: 0.2186\n",
      "Epoch [4/5], Step [400/600], Loss: 0.0385\n",
      "Epoch [4/5], Step [500/600], Loss: 0.1194\n",
      "Epoch [4/5], Step [600/600], Loss: 0.0668\n",
      "Epoch [5/5], Step [100/600], Loss: 0.3140\n",
      "Epoch [5/5], Step [200/600], Loss: 0.0735\n",
      "Epoch [5/5], Step [300/600], Loss: 0.0440\n",
      "Epoch [5/5], Step [400/600], Loss: 0.1485\n",
      "Epoch [5/5], Step [500/600], Loss: 0.0907\n",
      "Epoch [5/5], Step [600/600], Loss: 0.1191\n"
     ]
    }
   ],
   "source": [
    "total_step = len(train_loader)\n",
    "for epoch in range(num_epochs):\n",
    "    for i, (images, labels) in enumerate(train_loader):\n",
    "        # Move tensors to configured device\n",
    "        # images.size = (batchsize, channels, x, y)\n",
    "        # images = images.reshape(images.size(0), -1).to(device)\n",
    "        images = images.reshape(-1, input_size).to(device)\n",
    "        labels = labels.to(device)\n",
    "        \n",
    "        # Forward pass\n",
    "        outputs = model(images)\n",
    "        loss = criterion(outputs, labels)\n",
    "        \n",
    "        # Backward and optimize\n",
    "        optimizer.zero_grad()\n",
    "        loss.backward()\n",
    "        optimizer.step()\n",
    "        \n",
    "        if (i+1) % 100 == 0:\n",
    "            print ('Epoch [{}/{}], Step [{}/{}], Loss: {:.4f}' .format(epoch+1, num_epochs, i+1, total_step, loss.item()))"
   ]
  },
  {
   "cell_type": "markdown",
   "id": "c3d4ff9b-560d-438e-b332-3b80211fb074",
   "metadata": {},
   "source": [
    "## Test Model with no_grad"
   ]
  },
  {
   "cell_type": "code",
   "execution_count": 11,
   "id": "ab15213d-c480-4b57-bc68-893543cdd934",
   "metadata": {},
   "outputs": [
    {
     "name": "stdout",
     "output_type": "stream",
     "text": [
      "Accuracy of the network on the 10000 test images: 96.89 %\n"
     ]
    }
   ],
   "source": [
    "with torch.no_grad():\n",
    "    correct = 0\n",
    "    total = 0\n",
    "    for images, labels in test_loader:\n",
    "        images = images.reshape(-1, 28*28).to(device)\n",
    "        labels = labels.to(device)\n",
    "        outputs = model(images)\n",
    "        _, predicted = torch.max(outputs.data, 1)\n",
    "        total += labels.size(0)\n",
    "        correct += (predicted == labels).sum().item()\n",
    "\n",
    "    print('Accuracy of the network on the 10000 test images: {} %'.format(100 * correct / total))"
   ]
  },
  {
   "cell_type": "markdown",
   "id": "01b3245a-4431-42d2-b9d4-c29890f6e5f5",
   "metadata": {},
   "source": [
    "## Save the Model Checkpoint"
   ]
  },
  {
   "cell_type": "code",
   "execution_count": 12,
   "id": "d6d62a3e-5d56-4d5b-b3f2-a2b5e8488497",
   "metadata": {},
   "outputs": [],
   "source": [
    "torch.save(model.state_dict(), 'feedforward_neural_network.ckpt')"
   ]
  },
  {
   "cell_type": "code",
   "execution_count": null,
   "id": "896f8dd6-c8c6-4b85-b2bc-58e475eb263f",
   "metadata": {},
   "outputs": [],
   "source": []
  }
 ],
 "metadata": {
  "kernelspec": {
   "display_name": "pytorch",
   "language": "python",
   "name": "pytorch"
  },
  "language_info": {
   "codemirror_mode": {
    "name": "ipython",
    "version": 3
   },
   "file_extension": ".py",
   "mimetype": "text/x-python",
   "name": "python",
   "nbconvert_exporter": "python",
   "pygments_lexer": "ipython3",
   "version": "3.8.13"
  },
  "widgets": {
   "application/vnd.jupyter.widget-state+json": {
    "state": {},
    "version_major": 2,
    "version_minor": 0
   }
  }
 },
 "nbformat": 4,
 "nbformat_minor": 5
}
